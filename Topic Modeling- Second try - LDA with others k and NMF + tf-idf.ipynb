{
 "cells": [
  {
   "cell_type": "markdown",
   "metadata": {},
   "source": [
    "### Instagis - Data Science Technical test \n",
    "Version 1.1.4"
   ]
  },
  {
   "cell_type": "markdown",
   "metadata": {},
   "source": [
    "# Assignment  3: Topic Modeling"
   ]
  },
  {
   "cell_type": "markdown",
   "metadata": {},
   "source": [
    "## My Aprouch to the problem"
   ]
  },
  {
   "cell_type": "code",
   "execution_count": 1,
   "metadata": {
    "collapsed": true
   },
   "outputs": [],
   "source": [
    "%matplotlib inline  \n",
    "import pandas as pd\n",
    "import numpy as np\n",
    "from itertools import chain\n",
    "import re\n",
    "import string\n",
    "from nltk.sentiment.vader import SentimentIntensityAnalyzer\n",
    "from nltk import word_tokenize\n",
    "from nltk.corpus import stopwords\n",
    "stopWords = set(stopwords.words('english'))\n",
    "from nltk.stem import SnowballStemmer        \n",
    "from nltk.stem import WordNetLemmatizer \n",
    "import spacy\n",
    "import string\n",
    "import emoji\n",
    "from time import time\n",
    "from collections import Counter\n",
    "# Library's to plot\n",
    "import seaborn as sbs\n",
    "import matplotlib as mpl\n",
    "mpl.rcParams['agg.path.chunksize'] = 10000000 # Jupyter notebook backend restricts number of points in plot\n",
    "import matplotlib.pyplot as plt\n",
    "get_ipython().magic(u'matplotlib inline') \n",
    "get_ipython().magic(u\"config InlineBackend.figure_format='retina'\")\n",
    "# Library's to apply balance technic's\n",
    "from imblearn.over_sampling import SMOTE\n",
    "from imblearn.under_sampling import RandomUnderSampler\n",
    "# Import the necessary module's\n",
    "from sklearn.preprocessing import binarize,MinMaxScaler,RobustScaler,normalize,MaxAbsScaler\n",
    "from sklearn.feature_extraction.text import CountVectorizer,TfidfVectorizer,HashingVectorizer\n",
    "from sklearn.feature_extraction.stop_words import ENGLISH_STOP_WORDS\n",
    "from sklearn.base import TransformerMixin\n",
    "from sklearn.model_selection import train_test_split\n",
    "from sklearn.decomposition import NMF, LatentDirichletAllocation\n",
    "from sklearn.metrics.pairwise import euclidean_distances\n",
    "import pyLDAvis\n",
    "import pyLDAvis.sklearn\n",
    "pyLDAvis.enable_notebook()\n",
    "# Only for final delivery\n",
    "import warnings\n",
    "warnings.filterwarnings('ignore')\n",
    "# Init the spacy object call parser\n",
    "parser = spacy.load(\"en\")"
   ]
  },
  {
   "cell_type": "code",
   "execution_count": 2,
   "metadata": {
    "collapsed": true
   },
   "outputs": [],
   "source": [
    "def plot_pie(y):\n",
    "    target_stats = Counter(y)\n",
    "    labels = list(target_stats.keys())\n",
    "    sizes = list(target_stats.values())\n",
    "    explode = tuple([0.1] * len(target_stats))\n",
    "\n",
    "    fig, ax = plt.subplots()\n",
    "    ax.pie(sizes, explode=explode, labels=labels, shadow=True,\n",
    "           autopct='%1.1f%%')\n",
    "    ax.axis('equal')"
   ]
  },
  {
   "cell_type": "code",
   "execution_count": 3,
   "metadata": {
    "collapsed": true
   },
   "outputs": [],
   "source": [
    "# A custom function to clean the text before sending it into the vectorizer\n",
    "def hardCleanText(text):\n",
    "    \n",
    "    # get rid of newlines\n",
    "    text = text.strip().replace(\"\\n+|\\n\\n+|\\r\",\" \")\n",
    "    \n",
    "    #Replace the newlines that are attached to a word with only the word\n",
    "    newlines_finder=re.compile(\"\\n\\w+|\\n\\n\\w+\", re.IGNORECASE)\n",
    "    w=newlines_finder.findall(text)\n",
    "    for t in w:\n",
    "        if len(t.split('\\n\\n'))>1:\n",
    "            text=re.sub(t,t.split('\\n\\n')[1],text)\n",
    "        else:\n",
    "            text=re.sub(t,\"\",text)\n",
    "    \n",
    "    #get rid of the symbols before the ' with the word in the sentence. Examples: \\'t, \\'m , etc\n",
    "    text=re.sub(r'\\'',\"\",text)\n",
    "    \n",
    "      # replace twitter the symbol of the user names\n",
    "    hashtag_finder = re.compile(r\"(?:\\@)\", re.IGNORECASE)\n",
    "    text = hashtag_finder.sub(\"\", text)\n",
    "    \n",
    "    # replace hashtags\n",
    "    hashtag_finder = re.compile(r\"(?:\\#)\", re.IGNORECASE)\n",
    "    text = hashtag_finder.sub(\"\", text)\n",
    "    \n",
    "      # replace numbers\n",
    "    number_finder =re.compile(r\"\\s?[0-9]+\\.?[0-9]*\")\n",
    "    text = number_finder.sub(\"\", text)\n",
    "    \n",
    "    # Replace phone numbers\n",
    "    phone_number_finder=re.compile(r\"\"\"\n",
    "    (?:\n",
    "      (?:            # (international)\n",
    "        \\+?[01]\n",
    "        [\\-\\s.]*\n",
    "      )?            \n",
    "      (?:            # (area code)\n",
    "        [\\(]?\n",
    "        \\d{3}\n",
    "        [\\-\\s.\\)]*\n",
    "      )?    \n",
    "      \\d{3}          # exchange\n",
    "      [\\-\\s.]*   \n",
    "      \\d{4}          # base\n",
    "    )\"\"\", re.IGNORECASE)\n",
    "    text = phone_number_finder.sub(\" \", text)\n",
    "    \n",
    "    # replace HTML symbols\n",
    "    text=text.replace(\"&amp;\", \"and\")\n",
    "    \n",
    "    # delete especial characters and some HTML symbols\n",
    "    for remove in map(lambda r: re.compile(re.escape(r)),[\",\", \":\", \"\\\"\", \"=\", \"&\", \";\", \"%\", \"$\", \"%\", \"^\", \"*\",\"(\", \")\", \n",
    "                       \"{\", \"}\",\"[\", \"]\", \"|\", \"/\", \"\\\\\",\">\",\"<\",\"-\",\"!\",\"?\", \".\", \"'\",\n",
    "                       \"--\", \"---\",\"&gt;\",\"&lt;\",\"-----\", \"---\", \"...\", \"“\", \"”\", \"'ve\"]):\n",
    "        text=remove.sub(\" \",text)\n",
    "    \n",
    "    #Get only one space of separation when there is one or more spaces\n",
    "    text=text.replace(r'\\s',' ')\n",
    "\n",
    "    return text"
   ]
  },
  {
   "cell_type": "code",
   "execution_count": 4,
   "metadata": {
    "collapsed": true
   },
   "outputs": [],
   "source": [
    "def tokenizer(doc,parser=parser,stem=False,lemma=True,stop_words=True,min_words=2,only_alpha=True,digit=True):\n",
    "    \n",
    "    doc = parser(doc)\n",
    "    tokens=[token for token in doc if not (token.is_punct or token.is_space or token.is_quote)]\n",
    "    \n",
    "    if(not digit):\n",
    "         tokens=[token for token in tokens if not (token.is_digit)]\n",
    "    \n",
    "    if(only_alpha):\n",
    "        tokens=[token for token in doc if (token.is_alpha)]\n",
    "    \n",
    "    if(stop_words):\n",
    "        stop_words = set(stopwords.words('english'))\n",
    "        tokens = [token for token in tokens if not (token.lower_ in stop_words)]\n",
    "    \n",
    "    if(min_words>1):\n",
    "        tokens = [token for token in tokens if len(token) >= min_words]\n",
    "    \n",
    "    if(stem & lemma):\n",
    "        stem = SnowballStemmer('english')\n",
    "        tokens = [token.lemma_ if token.lemma_ != \"-PRON-\" else token.lower_ for token in tokens]\n",
    "        tokens = [stem.stem(token).lower() for token in tokens if token not in string.punctuation]\n",
    "    elif(lemma):\n",
    "        tokens = [token.lemma_.lower() if token.lemma_ != \"-PRON-\" else token.lower_ for token in tokens]\n",
    "    elif(stem):\n",
    "        stem = SnowballStemmer('english')\n",
    "        tokens = [stem.stem(token.lower_) for token in tokens if not (token.is_punct)]\n",
    "    \n",
    "    return tokens"
   ]
  },
  {
   "cell_type": "code",
   "execution_count": 5,
   "metadata": {},
   "outputs": [
    {
     "name": "stdout",
     "output_type": "stream",
     "text": [
      "(12627, 2)\n"
     ]
    },
    {
     "data": {
      "text/html": [
       "<div>\n",
       "<style>\n",
       "    .dataframe thead tr:only-child th {\n",
       "        text-align: right;\n",
       "    }\n",
       "\n",
       "    .dataframe thead th {\n",
       "        text-align: left;\n",
       "    }\n",
       "\n",
       "    .dataframe tbody tr th {\n",
       "        vertical-align: top;\n",
       "    }\n",
       "</style>\n",
       "<table border=\"1\" class=\"dataframe\">\n",
       "  <thead>\n",
       "    <tr style=\"text-align: right;\">\n",
       "      <th></th>\n",
       "      <th>case</th>\n",
       "      <th>message</th>\n",
       "    </tr>\n",
       "  </thead>\n",
       "  <tbody>\n",
       "    <tr>\n",
       "      <th>0</th>\n",
       "      <td>NEGATIVE</td>\n",
       "      <td>She/he was elected because???</td>\n",
       "    </tr>\n",
       "    <tr>\n",
       "      <th>1</th>\n",
       "      <td>NEGATIVE</td>\n",
       "      <td>That a elective surgery. So NO</td>\n",
       "    </tr>\n",
       "    <tr>\n",
       "      <th>2</th>\n",
       "      <td>POSITIVE</td>\n",
       "      <td>Danica roem is a mentally ill freak. this sick...</td>\n",
       "    </tr>\n",
       "    <tr>\n",
       "      <th>3</th>\n",
       "      <td>NEGATIVE</td>\n",
       "      <td>I would gladly paid for psiquiatric treatment....</td>\n",
       "    </tr>\n",
       "    <tr>\n",
       "      <th>4</th>\n",
       "      <td>NEGATIVE</td>\n",
       "      <td>NO!  You must pay for it yourself.  You were n...</td>\n",
       "    </tr>\n",
       "  </tbody>\n",
       "</table>\n",
       "</div>"
      ],
      "text/plain": [
       "       case                                            message\n",
       "0  NEGATIVE                      She/he was elected because???\n",
       "1  NEGATIVE                     That a elective surgery. So NO\n",
       "2  POSITIVE  Danica roem is a mentally ill freak. this sick...\n",
       "3  NEGATIVE  I would gladly paid for psiquiatric treatment....\n",
       "4  NEGATIVE  NO!  You must pay for it yourself.  You were n..."
      ]
     },
     "execution_count": 5,
     "metadata": {},
     "output_type": "execute_result"
    }
   ],
   "source": [
    "df = pd.read_csv('train-data-1513704817538.csv')\n",
    "print(df.shape)\n",
    "df.head()"
   ]
  },
  {
   "cell_type": "markdown",
   "metadata": {},
   "source": [
    "## Pre-processing"
   ]
  },
  {
   "cell_type": "markdown",
   "metadata": {},
   "source": [
    "#### Create the clean message"
   ]
  },
  {
   "cell_type": "code",
   "execution_count": 6,
   "metadata": {
    "collapsed": true
   },
   "outputs": [],
   "source": [
    "df.loc[:,\"clean_message\"]=df.loc[:,\"message\"].apply(lambda x: hardCleanText(x)).copy()"
   ]
  },
  {
   "cell_type": "code",
   "execution_count": 7,
   "metadata": {},
   "outputs": [
    {
     "data": {
      "text/plain": [
       "0                        She he was elected because   \n",
       "1                       That a elective surgery  So NO\n",
       "2    Danica roem is a mentally ill freak  this sick...\n",
       "Name: clean_message, dtype: object"
      ]
     },
     "execution_count": 7,
     "metadata": {},
     "output_type": "execute_result"
    }
   ],
   "source": [
    "df.clean_message.head(3)"
   ]
  },
  {
   "cell_type": "markdown",
   "metadata": {},
   "source": [
    "#### Extract the common words with their relative weights"
   ]
  },
  {
   "cell_type": "code",
   "execution_count": 8,
   "metadata": {},
   "outputs": [],
   "source": [
    "df.loc[:,\"tokenize_message\"]=df.loc[:,\"clean_message\"].apply(lambda x: tokenizer(x,parser,stop_words=True)).copy()"
   ]
  },
  {
   "cell_type": "code",
   "execution_count": 9,
   "metadata": {
    "collapsed": true
   },
   "outputs": [],
   "source": [
    "def create_common_words(max_occurrences=np.infty,min_occurrences=10,words=None):\n",
    "    word_df = pd.DataFrame(\n",
    "        data={\"word\": [k for k, v in words.most_common() if min_occurrences < v < max_occurrences],\n",
    "              \"occurrences\": [v for k, v in words.most_common() if min_occurrences < v < max_occurrences]},\n",
    "        columns=[\"word\", \"occurrences\"])\n",
    "    return word_df"
   ]
  },
  {
   "cell_type": "code",
   "execution_count": 10,
   "metadata": {},
   "outputs": [
    {
     "data": {
      "text/plain": [
       "[('not', 1768), ('get', 1328), ('go', 1188), ('people', 1090), ('good', 1022)]"
      ]
     },
     "execution_count": 10,
     "metadata": {},
     "output_type": "execute_result"
    }
   ],
   "source": [
    "words = Counter()\n",
    "for idx in df.index:\n",
    "    words.update(df.loc[idx, \"tokenize_message\"])\n",
    "words.most_common(5)"
   ]
  },
  {
   "cell_type": "code",
   "execution_count": 11,
   "metadata": {},
   "outputs": [
    {
     "data": {
      "text/plain": [
       "[('get', 1328), ('go', 1188), ('people', 1090), ('good', 1022), ('trump', 984)]"
      ]
     },
     "execution_count": 11,
     "metadata": {},
     "output_type": "execute_result"
    }
   ],
   "source": [
    "stop_words = stopwords.words('english')\n",
    "whitelist = []\n",
    "blacklist=['@number','@hashtag','@mentions']\n",
    "for idx, stop_word in enumerate(stop_words):\n",
    "    if stop_word not in whitelist:\n",
    "        del words[stop_word]\n",
    "for idx,black_word in enumerate(blacklist):\n",
    "    del words[black_word]\n",
    "words.most_common(5)"
   ]
  },
  {
   "cell_type": "code",
   "execution_count": 12,
   "metadata": {},
   "outputs": [
    {
     "name": "stdout",
     "output_type": "stream",
     "text": [
      "(1537, 3)\n"
     ]
    },
    {
     "data": {
      "text/html": [
       "<div>\n",
       "<style>\n",
       "    .dataframe thead tr:only-child th {\n",
       "        text-align: right;\n",
       "    }\n",
       "\n",
       "    .dataframe thead th {\n",
       "        text-align: left;\n",
       "    }\n",
       "\n",
       "    .dataframe tbody tr th {\n",
       "        vertical-align: top;\n",
       "    }\n",
       "</style>\n",
       "<table border=\"1\" class=\"dataframe\">\n",
       "  <thead>\n",
       "    <tr style=\"text-align: right;\">\n",
       "      <th></th>\n",
       "      <th>word</th>\n",
       "      <th>occurrences</th>\n",
       "      <th>weight</th>\n",
       "    </tr>\n",
       "  </thead>\n",
       "  <tbody>\n",
       "    <tr>\n",
       "      <th>0</th>\n",
       "      <td>get</td>\n",
       "      <td>1328</td>\n",
       "      <td>1.000000</td>\n",
       "    </tr>\n",
       "    <tr>\n",
       "      <th>1</th>\n",
       "      <td>go</td>\n",
       "      <td>1188</td>\n",
       "      <td>0.894578</td>\n",
       "    </tr>\n",
       "    <tr>\n",
       "      <th>2</th>\n",
       "      <td>people</td>\n",
       "      <td>1090</td>\n",
       "      <td>0.820783</td>\n",
       "    </tr>\n",
       "    <tr>\n",
       "      <th>3</th>\n",
       "      <td>good</td>\n",
       "      <td>1022</td>\n",
       "      <td>0.769578</td>\n",
       "    </tr>\n",
       "    <tr>\n",
       "      <th>4</th>\n",
       "      <td>trump</td>\n",
       "      <td>984</td>\n",
       "      <td>0.740964</td>\n",
       "    </tr>\n",
       "    <tr>\n",
       "      <th>5</th>\n",
       "      <td>president</td>\n",
       "      <td>956</td>\n",
       "      <td>0.719880</td>\n",
       "    </tr>\n",
       "    <tr>\n",
       "      <th>6</th>\n",
       "      <td>like</td>\n",
       "      <td>925</td>\n",
       "      <td>0.696536</td>\n",
       "    </tr>\n",
       "    <tr>\n",
       "      <th>7</th>\n",
       "      <td>need</td>\n",
       "      <td>873</td>\n",
       "      <td>0.657380</td>\n",
       "    </tr>\n",
       "    <tr>\n",
       "      <th>8</th>\n",
       "      <td>god</td>\n",
       "      <td>786</td>\n",
       "      <td>0.591867</td>\n",
       "    </tr>\n",
       "    <tr>\n",
       "      <th>9</th>\n",
       "      <td>would</td>\n",
       "      <td>784</td>\n",
       "      <td>0.590361</td>\n",
       "    </tr>\n",
       "  </tbody>\n",
       "</table>\n",
       "</div>"
      ],
      "text/plain": [
       "        word  occurrences    weight\n",
       "0        get         1328  1.000000\n",
       "1         go         1188  0.894578\n",
       "2     people         1090  0.820783\n",
       "3       good         1022  0.769578\n",
       "4      trump          984  0.740964\n",
       "5  president          956  0.719880\n",
       "6       like          925  0.696536\n",
       "7       need          873  0.657380\n",
       "8        god          786  0.591867\n",
       "9      would          784  0.590361"
      ]
     },
     "execution_count": 12,
     "metadata": {},
     "output_type": "execute_result"
    }
   ],
   "source": [
    "common_words=create_common_words(words=words)\n",
    "common_words['weight']=common_words.occurrences/max(common_words.occurrences)\n",
    "print(common_words.shape)\n",
    "common_words.head(10)"
   ]
  },
  {
   "cell_type": "code",
   "execution_count": 13,
   "metadata": {},
   "outputs": [
    {
     "name": "stdout",
     "output_type": "stream",
     "text": [
      "         word  occurrences    weight\n",
      "0         get         1328  1.000000\n",
      "1          go         1188  0.894578\n",
      "2      people         1090  0.820783\n",
      "3        good         1022  0.769578\n",
      "4       trump          984  0.740964\n",
      "5   president          956  0.719880\n",
      "6        like          925  0.696536\n",
      "7        need          873  0.657380\n",
      "8         god          786  0.591867\n",
      "9       would          784  0.590361\n",
      "10        one          782  0.588855\n",
      "11        say          746  0.561747\n",
      "12       make          661  0.497741\n",
      "13        man          642  0.483434\n",
      "14       time          633  0.476657\n",
      "15      think          619  0.466114\n",
      "16    country          619  0.466114\n",
      "17      thank          608  0.457831\n",
      "18       know          561  0.422440\n",
      "19       love          510  0.384036\n"
     ]
    },
    {
     "data": {
      "image/png": "[encoded data removed]",
      "text/plain": [
       "<matplotlib.figure.Figure at 0x11e7cab00>"
      ]
     },
     "metadata": {
      "image/png": {
       "height": 262,
       "width": 411
      }
     },
     "output_type": "display_data"
    }
   ],
   "source": [
    "top_20_pos=common_words[['word','occurrences','weight']].sort_values(by='weight',ascending=False).head(20)\n",
    "print(top_20_pos)\n",
    "sbs.barplot(x='weight', y='word', data=top_20_pos);"
   ]
  },
  {
   "cell_type": "code",
   "execution_count": 14,
   "metadata": {},
   "outputs": [
    {
     "data": {
      "text/plain": [
       "[{'get': 1.0}, {'go': 0.8945783132530121}, {'people': 0.8207831325301205}]"
      ]
     },
     "execution_count": 14,
     "metadata": {},
     "output_type": "execute_result"
    }
   ],
   "source": [
    "words_dict=common_words[['word','weight']].apply(lambda x: {x['word']:x['weight']},axis=1)\n",
    "words_dict=list(words_dict)\n",
    "words_dict[0:3]"
   ]
  },
  {
   "cell_type": "markdown",
   "metadata": {},
   "source": [
    "### Create the vectors"
   ]
  },
  {
   "cell_type": "code",
   "execution_count": 15,
   "metadata": {
    "collapsed": true
   },
   "outputs": [],
   "source": [
    "# Print the head of df\n",
    "X=df.iloc[:,range(1,df.shape[1])]"
   ]
  },
  {
   "cell_type": "code",
   "execution_count": 16,
   "metadata": {},
   "outputs": [
    {
     "name": "stdout",
     "output_type": "stream",
     "text": [
      "['abc', 'abide', 'ability', 'able', 'abortion', 'absolute', 'absolutely', 'abuse', 'accept', 'accomplish']\n"
     ]
    }
   ],
   "source": [
    "tfidf_vectorizer = TfidfVectorizer(\n",
    "    tokenizer=tokenizer,strip_accents ='unicode',min_df=10,ngram_range=(1,2))\n",
    "\n",
    "dtm_tfidf = tfidf_vectorizer.fit_transform(X.clean_message)\n",
    "\n",
    "# Print the first 10 features\n",
    "print(tfidf_vectorizer.get_feature_names()[:10])"
   ]
  },
  {
   "cell_type": "markdown",
   "metadata": {},
   "source": [
    "## Visualize the Clusters"
   ]
  },
  {
   "cell_type": "markdown",
   "metadata": {},
   "source": [
    "#### Exploring the clusters\n",
    "\n",
    "* After we create the topis Using the LDA algorithm, we are going to visualize it using the pyLDAvis library, which extracts information from a topic model and creates a web-based visualization where users can interactively explore the model \n",
    "\n",
    "* To understand what's going on we are going to label our data using LDA model with the number of the topic which has the best probability to match with the sentence. To do that we have created a function which will be apllied to the \"clean_message\" column row by row\n",
    "\n",
    "* Also, we would like to do the same for the nmf cluster, so we are going to display the full text of the main docs for each topic, so we are going to create the display_topic() function\n",
    "\n",
    "**References: **\n",
    "\n",
    "*<https://www.analyticsvidhya.com/blog/2016/08/beginners-guide-to-topic-modeling-in-python/>*\n",
    "\n",
    "*<https://nlpforhackers.io/topic-modeling/>*\n",
    "\n",
    "*<https://medium.com/mlreview/topic-modeling-with-scikit-learn-e80d33668730>*\n",
    "\n",
    "*<https://towardsdatascience.com/improving-the-interpretation-of-topic-models-87fd2ee3847d>*\n",
    "\n",
    "*<https://github.com/bmabey/pyLDAvis>*"
   ]
  },
  {
   "cell_type": "code",
   "execution_count": 17,
   "metadata": {
    "collapsed": true
   },
   "outputs": [],
   "source": [
    "def get_cluster(model,vectorizer,text):\n",
    "    x = model.transform(vectorizer.transform([text]))[0]\n",
    "    for i in range(0,9):\n",
    "        if(x[i]==x.max()):\n",
    "            return(i)\n",
    "        \n",
    "def get_cluster_prob(model,vectorizer,text):\n",
    "    x = model.transform(vectorizer.transform([text]))[0]\n",
    "    return(x.max())"
   ]
  },
  {
   "cell_type": "code",
   "execution_count": 18,
   "metadata": {
    "collapsed": true
   },
   "outputs": [],
   "source": [
    "def display_topics(H, W, feature_names, documents, no_top_words, no_top_documents):\n",
    "    for topic_idx, topic in enumerate(H):\n",
    "        print(\"Topic %d:\" % (topic_idx))\n",
    "        print(\" \".join([feature_names[i]\n",
    "                        for i in topic.argsort()[:-no_top_words - 1:-1]]))\n",
    "        top_doc_indices = np.argsort( W[:,topic_idx] )[::-1][0:no_top_documents]\n",
    "        for doc_index in top_doc_indices:\n",
    "            print(documents[doc_index])"
   ]
  },
  {
   "cell_type": "code",
   "execution_count": 29,
   "metadata": {
    "collapsed": true
   },
   "outputs": [],
   "source": [
    "def most_similar(x, Z, top_n=5):\n",
    "    dists = euclidean_distances(x.reshape(1, -1), Z)\n",
    "    pairs = enumerate(dists[0])\n",
    "    most_similar = sorted(pairs, key=lambda item: item[1])[:top_n]\n",
    "    return most_similar\n",
    "\n",
    "def get_similars(X,text,model,vectorizer):\n",
    "    x = nmf_model.transform(vectorizer.transform([text]))[0]\n",
    "    similarities = most_similar(x, model)\n",
    "    document_id, similarity = similarities[1]\n",
    "    print(X[document_id])\n",
    "    document_id, similarity = similarities[2]\n",
    "    print(X[document_id])\n",
    "    document_id, similarity = similarities[3]\n",
    "    print(X[document_id])\n",
    "    document_id, similarity = similarities[4]\n",
    "    print(X[document_id])"
   ]
  },
  {
   "cell_type": "code",
   "execution_count": 61,
   "metadata": {
    "collapsed": true
   },
   "outputs": [],
   "source": [
    "no_topics =10"
   ]
  },
  {
   "cell_type": "code",
   "execution_count": 62,
   "metadata": {
    "collapsed": true
   },
   "outputs": [],
   "source": [
    "# Run LDA\n",
    "lda_model = LatentDirichletAllocation(n_components=no_topics, max_iter=50, learning_method='online', \n",
    "                                      learning_offset=50.,random_state=0).fit(dtm_tfidf)\n",
    "lda   = lda_model.fit(dtm_tfidf)\n",
    "lda_W = lda_model.transform(dtm_tfidf)\n",
    "lda_H = lda_model.components_"
   ]
  },
  {
   "cell_type": "code",
   "execution_count": 63,
   "metadata": {},
   "outputs": [
    {
     "data": {
      "text/html": [
       "\n",
       "<link rel=\"stylesheet\" type=\"text/css\" href=\"https://cdn.rawgit.com/bmabey/pyLDAvis/files/ldavis.v1.0.0.css\">\n",
       "\n",
       "\n",
       "<div id=\"ldavis_el5994648095351844049341374\"></div>\n",
       "<script type=\"text/javascript\">\n",
       "\n",
       "var ldavis_el5994648095351844049341374_data = {\"mdsDat\": {\"Freq\": [45.36303018969857, 9.639197753637566, 7.9064944082964885, 7.267330923026265, 6.073316087076802, 5.646729194270719, 4.940635280778299, 4.4248970393313405, 4.399438786766683, 4.338930337117281], \"cluster\": [1, 1, 1, 1, 1, 1, 1, 1, 1, 1], \"topics\": [1, 2, 3, 4, 5, 6, 7, 8, 9, 10], \"x\": [-0.07213007996470287, -0.22421844631543206, -0.17551463186201335, -0.10213468099118815, -0.03574358245252106, 0.012988550336112145, 0.08592493724815259, 0.1866202572774412, 0.14262103528125064, 0.18158664144290076], \"y\": [0.03722364388885195, 0.004032356593048058, -0.25211472899360543, 0.20934817331342565, 0.050896901917501146, -0.012276563643206258, 0.15841054288110729, -0.06362857998818743, -0.126070046031446, -0.005821699937488814]}, \"tinfo\": {\"Category\": [\"Default\", \"Default\", \"Default\", \"Default\", \"Default\", \"Default\", \"Default\", \"Default\", \"Default\", \"Default\", \"Default\", \"Default\", \"Default\", \"Default\", \"Default\", \"Default\", \"Default\", \"Default\", \"Default\", \"Default\", \"Default\", \"Default\", \"Default\", \"Default\", \"Default\", \"Default\", \"Default\", \"Default\", \"Default\", \"Default\", \"Topic1\", \"Topic1\", \"Topic1\", \"Topic1\", \"Topic1\", \"Topic1\", \"Topic1\", \"Topic1\", \"Topic1\", \"Topic1\", \"Topic1\", \"Topic1\", \"Topic1\", \"Topic1\", \"Topic1\", \"Topic1\", \"Topic1\", \"Topic1\", \"Topic1\", \"Topic1\", \"Topic1\", \"Topic1\", \"Topic1\", \"Topic1\", \"Topic1\", \"Topic1\", \"Topic1\", \"Topic1\", \"Topic1\", \"Topic1\", \"Topic1\", \"Topic1\", \"Topic1\", \"Topic1\", \"Topic1\", \"Topic1\", \"Topic1\", \"Topic1\", \"Topic1\", \"Topic1\", \"Topic1\", \"Topic1\", \"Topic1\", \"Topic1\", \"Topic1\", \"Topic1\", \"Topic1\", \"Topic1\", \"Topic1\", \"Topic1\", \"Topic1\", \"Topic1\", \"Topic1\", \"Topic1\", \"Topic1\", \"Topic1\", \"Topic1\", \"Topic1\", \"Topic1\", \"Topic1\", \"Topic1\", \"Topic1\", \"Topic2\", \"Topic2\", \"Topic2\", \"Topic2\", \"Topic2\", \"Topic2\", \"Topic2\", \"Topic2\", \"Topic2\", \"Topic2\", \"Topic2\", \"Topic2\", \"Topic2\", \"Topic2\", \"Topic2\", \"Topic2\", \"Topic2\", \"Topic2\", \"Topic2\", \"Topic2\", \"Topic2\", \"Topic2\", \"Topic2\", \"Topic2\", \"Topic2\", \"Topic2\", \"Topic2\", \"Topic2\", \"Topic2\", \"Topic2\", \"Topic2\", \"Topic2\", \"Topic2\", \"Topic2\", \"Topic2\", \"Topic2\", \"Topic2\", \"Topic2\", \"Topic2\", \"Topic2\", \"Topic2\", \"Topic2\", \"Topic2\", \"Topic2\", \"Topic2\", \"Topic2\", \"Topic2\", \"Topic2\", \"Topic2\", \"Topic2\", \"Topic2\", \"Topic2\", \"Topic2\", \"Topic2\", \"Topic2\", \"Topic2\", \"Topic2\", \"Topic2\", \"Topic2\", \"Topic2\", \"Topic2\", \"Topic2\", \"Topic3\", \"Topic3\", \"Topic3\", \"Topic3\", \"Topic3\", \"Topic3\", \"Topic3\", \"Topic3\", \"Topic3\", \"Topic3\", \"Topic3\", \"Topic3\", \"Topic3\", \"Topic3\", \"Topic3\", \"Topic3\", \"Topic3\", \"Topic3\", \"Topic3\", \"Topic3\", \"Topic3\", \"Topic3\", \"Topic3\", \"Topic3\", \"Topic3\", \"Topic3\", \"Topic3\", \"Topic3\", \"Topic3\", \"Topic3\", \"Topic3\", \"Topic3\", \"Topic3\", \"Topic3\", \"Topic3\", \"Topic3\", \"Topic3\", \"Topic3\", \"Topic3\", \"Topic3\", \"Topic3\", \"Topic3\", \"Topic3\", \"Topic3\", \"Topic3\", \"Topic3\", \"Topic3\", \"Topic3\", \"Topic3\", \"Topic3\", \"Topic3\", \"Topic3\", \"Topic3\", \"Topic3\", \"Topic3\", \"Topic4\", \"Topic4\", \"Topic4\", \"Topic4\", \"Topic4\", \"Topic4\", \"Topic4\", \"Topic4\", \"Topic4\", \"Topic4\", \"Topic4\", \"Topic4\", \"Topic4\", \"Topic4\", \"Topic4\", \"Topic4\", \"Topic4\", \"Topic4\", \"Topic4\", \"Topic4\", \"Topic4\", \"Topic4\", \"Topic4\", \"Topic4\", \"Topic4\", \"Topic4\", \"Topic4\", \"Topic4\", \"Topic4\", \"Topic4\", \"Topic4\", \"Topic4\", \"Topic4\", \"Topic4\", \"Topic4\", \"Topic4\", \"Topic4\", \"Topic4\", \"Topic4\", \"Topic4\", \"Topic4\", \"Topic4\", \"Topic4\", \"Topic4\", \"Topic4\", \"Topic4\", \"Topic4\", \"Topic4\", \"Topic4\", \"Topic4\", \"Topic4\", \"Topic4\", \"Topic4\", \"Topic4\", \"Topic4\", \"Topic4\", \"Topic5\", \"Topic5\", \"Topic5\", \"Topic5\", \"Topic5\", \"Topic5\", \"Topic5\", \"Topic5\", \"Topic5\", \"Topic5\", \"Topic5\", \"Topic5\", \"Topic5\", \"Topic5\", \"Topic5\", \"Topic5\", \"Topic5\", \"Topic5\", \"Topic5\", \"Topic5\", \"Topic5\", \"Topic5\", \"Topic5\", \"Topic5\", \"Topic5\", \"Topic5\", \"Topic5\", \"Topic5\", \"Topic5\", \"Topic5\", \"Topic5\", \"Topic5\", \"Topic5\", \"Topic5\", \"Topic5\", \"Topic5\", \"Topic5\", \"Topic5\", \"Topic5\", \"Topic5\", \"Topic5\", \"Topic5\", \"Topic5\", \"Topic5\", \"Topic5\", \"Topic5\", \"Topic5\", \"Topic5\", \"Topic5\", \"Topic5\", \"Topic5\", \"Topic5\", \"Topic5\", \"Topic6\", \"Topic6\", \"Topic6\", \"Topic6\", \"Topic6\", \"Topic6\", \"Topic6\", \"Topic6\", \"Topic6\", \"Topic6\", \"Topic6\", \"Topic6\", \"Topic6\", \"Topic6\", \"Topic6\", \"Topic6\", \"Topic6\", \"Topic6\", \"Topic6\", \"Topic6\", \"Topic6\", \"Topic6\", \"Topic6\", \"Topic6\", \"Topic6\", \"Topic6\", \"Topic6\", \"Topic6\", \"Topic6\", \"Topic6\", \"Topic6\", \"Topic6\", \"Topic6\", \"Topic6\", \"Topic6\", \"Topic6\", \"Topic6\", \"Topic6\", \"Topic6\", \"Topic6\", \"Topic6\", \"Topic6\", \"Topic6\", \"Topic6\", \"Topic6\", \"Topic6\", \"Topic6\", \"Topic6\", \"Topic6\", \"Topic6\", \"Topic6\", \"Topic7\", \"Topic7\", \"Topic7\", \"Topic7\", \"Topic7\", \"Topic7\", \"Topic7\", \"Topic7\", \"Topic7\", \"Topic7\", \"Topic7\", \"Topic7\", \"Topic7\", \"Topic7\", \"Topic7\", \"Topic7\", \"Topic7\", \"Topic7\", \"Topic7\", \"Topic7\", \"Topic7\", \"Topic7\", \"Topic7\", \"Topic7\", \"Topic7\", \"Topic7\", \"Topic7\", \"Topic7\", \"Topic7\", \"Topic7\", \"Topic7\", \"Topic7\", \"Topic7\", \"Topic7\", \"Topic7\", \"Topic7\", \"Topic7\", \"Topic7\", \"Topic7\", \"Topic7\", \"Topic7\", \"Topic7\", \"Topic7\", \"Topic7\", \"Topic7\", \"Topic7\", \"Topic7\", \"Topic7\", \"Topic8\", \"Topic8\", \"Topic8\", \"Topic8\", \"Topic8\", \"Topic8\", \"Topic8\", \"Topic8\", \"Topic8\", \"Topic8\", \"Topic8\", \"Topic8\", \"Topic8\", \"Topic8\", \"Topic8\", \"Topic8\", \"Topic8\", \"Topic8\", \"Topic8\", \"Topic8\", \"Topic8\", \"Topic8\", \"Topic8\", \"Topic8\", \"Topic8\", \"Topic8\", \"Topic8\", \"Topic8\", \"Topic8\", \"Topic8\", \"Topic8\", \"Topic8\", \"Topic8\", \"Topic8\", \"Topic8\", \"Topic8\", \"Topic8\", \"Topic8\", \"Topic8\", \"Topic8\", \"Topic8\", \"Topic8\", \"Topic8\", \"Topic8\", \"Topic8\", \"Topic9\", \"Topic9\", \"Topic9\", \"Topic9\", \"Topic9\", \"Topic9\", \"Topic9\", \"Topic9\", \"Topic9\", \"Topic9\", \"Topic9\", \"Topic9\", \"Topic9\", \"Topic9\", \"Topic9\", \"Topic9\", \"Topic9\", \"Topic9\", \"Topic9\", \"Topic9\", \"Topic9\", \"Topic9\", \"Topic9\", \"Topic9\", \"Topic9\", \"Topic9\", \"Topic9\", \"Topic9\", \"Topic9\", \"Topic9\", \"Topic9\", \"Topic9\", \"Topic9\", \"Topic9\", \"Topic9\", \"Topic9\", \"Topic9\", \"Topic9\", \"Topic9\", \"Topic9\", \"Topic9\", \"Topic9\", \"Topic9\", \"Topic9\", \"Topic9\", \"Topic9\", \"Topic9\", \"Topic9\", \"Topic10\", \"Topic10\", \"Topic10\", \"Topic10\", \"Topic10\", \"Topic10\", \"Topic10\", \"Topic10\", \"Topic10\", \"Topic10\", \"Topic10\", \"Topic10\", \"Topic10\", \"Topic10\", \"Topic10\", \"Topic10\", \"Topic10\", \"Topic10\", \"Topic10\", \"Topic10\", \"Topic10\", \"Topic10\", \"Topic10\", \"Topic10\", \"Topic10\", \"Topic10\", \"Topic10\", \"Topic10\", \"Topic10\", \"Topic10\", \"Topic10\", \"Topic10\", \"Topic10\", \"Topic10\", \"Topic10\", \"Topic10\", \"Topic10\", \"Topic10\", \"Topic10\", \"Topic10\", \"Topic10\", \"Topic10\", \"Topic10\", \"Topic10\"], \"Freq\": [181.0, 130.0, 115.0, 99.0, 84.0, 178.0, 183.0, 123.0, 82.0, 76.0, 72.0, 71.0, 130.0, 70.0, 165.0, 135.0, 137.0, 96.0, 112.0, 145.0, 198.0, 53.0, 51.0, 59.0, 63.0, 74.0, 211.0, 50.0, 51.0, 50.0, 49.5736364244381, 48.713378385884305, 38.64369956488302, 37.94270574282261, 37.69602318517926, 35.92134380410922, 31.53841841782357, 29.624277476219476, 28.786082832617065, 28.72759929824674, 28.195757463722213, 28.08465142702765, 26.332837646755188, 26.214816509026498, 25.375113759493203, 32.465459127035096, 24.44066427861189, 24.170913706971575, 24.084222791635558, 23.911689103735373, 23.617314151558872, 77.8712818885594, 23.258171653145734, 23.131472425540473, 22.601359904805236, 22.166307252256683, 21.98130017098787, 21.930555142401136, 21.77051766450894, 55.11906610394321, 64.64251835964251, 68.17145344751204, 86.33360091424689, 184.00102308650034, 96.81183773215437, 117.07457909838044, 66.6322938665355, 32.114289676055925, 135.77407563081178, 87.46859582648165, 59.197938144826, 117.80921888275978, 40.35526462167923, 47.32349174380979, 93.41207261956802, 51.355498222936276, 66.66336576803181, 53.99696161332276, 67.5287794760924, 41.82113870414463, 87.59132148702287, 73.2546462413823, 80.35376286486677, 51.22213399421238, 55.01521114108085, 59.755803959772464, 62.36376848766161, 62.32911087015181, 54.78610101543337, 70.82434139729563, 60.93684924424326, 50.76004202884556, 26.583535065588016, 23.163504087564437, 20.265976917360987, 19.894908111235406, 19.527215128654632, 15.14249884491859, 15.097637882418535, 14.91138047704162, 13.261521342218893, 13.050131332323966, 12.980655982917183, 12.542253741079161, 12.355741133252307, 10.207705264785597, 37.43659976748278, 8.917217421915936, 8.850964297237024, 8.444803043076007, 8.11156624996211, 7.983618801799507, 7.85680198280444, 7.38413990629738, 7.0453410620646615, 6.763618844950037, 6.7362646904910894, 6.433802334143865, 6.419847910863182, 6.38399257448048, 6.361320897307107, 6.185788516335449, 39.392810849650736, 36.92999129051039, 86.42452870819639, 11.27760492219657, 16.0608337639113, 37.915573566640866, 16.06188434997433, 51.22140832992109, 15.142125038924666, 51.764850275159525, 69.26273014054203, 83.74673957577339, 31.19584943141, 35.05312587545896, 23.800476298652658, 66.19240710688891, 29.79233313573626, 63.57168579106157, 25.935469531735528, 37.960143076173864, 30.200251199574502, 28.463319271424485, 25.477231392548994, 31.887351972535818, 38.49428863095679, 35.245234051496034, 23.204546810158963, 22.73858357590122, 25.99001874484578, 21.772591610458853, 23.40922220795545, 23.02465985214348, 129.86824533452886, 113.92901894122019, 36.92259414939367, 24.80558056084719, 28.710949368283984, 18.79033374577221, 18.067269771613837, 16.26096479740045, 15.136334107519257, 14.683466559158555, 14.079263877178244, 13.914188924144938, 13.617747058821783, 13.115019310697612, 12.387265761902242, 11.0919268161217, 10.548717326048653, 10.46356466196152, 10.315281381536774, 9.73813842011539, 9.621036339500707, 9.566899698460526, 9.389346678695098, 9.379090449939946, 8.96451403395522, 46.95683040096607, 8.594617503045226, 8.41528939913569, 8.051832042851238, 8.013968353261971, 149.27282194246098, 42.82527313867911, 21.80734306414745, 16.16402013894394, 12.354713144882819, 19.373736382345136, 20.81224785127474, 22.803599551941605, 25.370991878291374, 18.63184364439601, 43.52975702002133, 15.70781508310523, 55.801426771286316, 53.01129939687858, 19.85923913967112, 31.75401695259656, 21.94411201480273, 22.32088318338486, 18.290935235647623, 23.26335873774805, 19.114152346567415, 18.37995325886771, 18.52394287655153, 18.841917192155453, 20.789861361184, 24.754828436463466, 23.826719157247314, 21.98469140829976, 21.961302829140113, 17.266491284490968, 17.203784125514137, 15.895469451557195, 15.117782045341391, 15.011587513913986, 12.63808618013105, 12.34148031506432, 11.968801185708667, 11.477056101177416, 11.399261112555521, 11.202716036792076, 11.079065329136688, 10.478998176375969, 10.283587193402656, 10.244382273050991, 10.221994774937158, 10.105459424338475, 10.102376523427449, 10.06755282304642, 10.047852403879212, 9.86713318939661, 9.08158307146224, 9.065798495734061, 9.004761881933401, 8.926835240861454, 8.456111685870118, 41.75255691593702, 17.222010857854304, 36.22658955952651, 14.708140778199375, 24.73333861962804, 30.456547845447627, 17.313422538515717, 54.66511631545228, 16.535536501800372, 23.452600851435463, 35.88333950782114, 25.799502034053482, 33.63805374658983, 26.756288891788106, 32.781206505215245, 17.820873178985202, 35.24739703881406, 25.035546275079245, 23.822320259893814, 35.59635646398914, 22.96387322319166, 20.301407486520834, 21.787838242168487, 22.197120527216498, 18.227905817341764, 17.085595708097433, 41.63245257214039, 22.619187518045752, 21.542183295317756, 19.61290311059739, 18.823749793305662, 16.451114813156675, 16.34598529731638, 16.0779317214077, 14.855256523764657, 13.469445702668866, 13.198208525922253, 12.725396684243773, 11.349247381548984, 10.445058514520465, 27.149566282484496, 9.473132565657405, 9.428024279340049, 9.142519125189743, 9.128653445578031, 9.122432487456699, 9.02394714342267, 8.890429567154403, 8.876176845752779, 8.587669271343286, 8.573047459293477, 8.510805920148416, 8.268575400022863, 8.207081907067257, 8.174357264027844, 8.15811241377023, 25.541615215255806, 17.20308640655805, 35.242853374777965, 33.322759362701824, 19.735422126995285, 39.91237500577363, 21.32825081258789, 26.5587215003553, 17.281092637407298, 22.73582307467419, 19.07069781600878, 21.164984329027185, 32.23087305574475, 22.24700671629584, 13.14576433347136, 15.880596257310588, 16.050177055024527, 22.201340741143998, 15.979843629741357, 14.806076491904612, 15.786489588266683, 19.256533298096265, 14.902000356533708, 49.6371696636322, 37.48232761511736, 23.41423733273384, 23.12321963801215, 22.468621821919296, 18.950101775373067, 16.29388966879525, 16.272268037640664, 16.240399952980763, 14.160783592771176, 13.99600778640892, 13.777218387022723, 13.427392680306138, 12.328958689399606, 12.060525337083027, 11.465416418388967, 10.555873075752388, 9.893619853488717, 25.650760248805625, 8.792393410682228, 8.71830098171845, 8.373730629663534, 8.252950251483703, 7.977125745430059, 7.293183594318971, 7.055156161792944, 6.900300288144877, 6.897458225850918, 6.894554039098882, 6.828720708942303, 61.18532113541229, 56.53452159079997, 24.172574878522273, 33.70900468898655, 33.99515366000419, 20.855988524607785, 19.781977401787582, 35.08158872070292, 12.65723341541137, 24.572926503638694, 39.0903572718413, 22.906925837788258, 14.38694292757267, 14.944920247023198, 31.969086789242194, 18.406604933504894, 17.642158055979444, 20.4871417444647, 17.45154659086661, 14.971247422093832, 14.552403200911286, 50.063351112868084, 40.81535345468947, 37.53198100086446, 29.743325818940715, 24.2547554557149, 22.79399195529778, 21.593204592040973, 19.929229734392784, 18.574221620054853, 16.962502726376492, 14.018911292500167, 13.708570476561137, 13.534549499320775, 12.875241992267652, 12.657934968012775, 11.872957437474042, 10.360371031797973, 9.931284474997911, 9.654435019303712, 9.318421790455142, 9.22582451697977, 9.182909165764928, 9.029186311447527, 8.81010361417481, 8.648212591010036, 8.212066609873425, 7.920430945119605, 7.909713186848619, 7.620851666344147, 7.594123969937655, 41.34706260167841, 39.09032928091928, 47.27712491228584, 52.80796451963186, 11.354374273617067, 27.158881317996542, 20.954386554350325, 18.423442518728574, 26.871289939454602, 26.64304720374814, 18.72633082105536, 18.60480952970696, 30.57188385176389, 16.329290875511795, 14.29105885775741, 12.730462222847464, 13.57019135382536, 13.595909178896589, 42.22864395612681, 34.48603106958559, 32.4598639934172, 25.44498472192335, 23.173171505883314, 22.620464253364432, 20.678503946559932, 18.58223610548191, 17.52851919105003, 16.064096119240904, 15.802843084781458, 13.706780662759272, 13.1406615923202, 13.045633348380642, 12.725079162606692, 11.937001588326984, 11.768312571331073, 11.711360978220965, 11.664444886785915, 10.617275467035178, 10.530266495983293, 10.2333475374282, 10.167662221691675, 9.795258282584314, 9.550838195054661, 9.47994430677643, 9.465321881604767, 8.394286789131778, 8.026841793022214, 7.851072891539931, 40.33768760371106, 24.56886504205083, 19.254517685306812, 33.39633710984342, 14.89571144866006, 24.28776048925853, 13.496845271319684, 14.338649650961935, 19.000101652955543, 13.515263670217706, 17.37027801288516, 15.777219063958498, 17.02104753550502, 20.290546165904107, 13.202546743116242, 41.91793150089612, 35.76664679468195, 23.81338952077272, 22.964002044576795, 19.981633904261923, 17.67358774504261, 16.13771346346753, 14.783791335173945, 13.824602133931712, 12.555481500349847, 12.374442709574868, 12.190064405923655, 11.814837521883353, 11.81354869631228, 10.72727574973063, 10.524032100587936, 10.155589689099592, 10.099487965523425, 9.849383676794561, 21.7984268537435, 9.337441975843399, 9.292725564838301, 9.065431264954961, 8.860179062379723, 8.440396538495365, 8.37841939521867, 8.19236849027378, 8.121170091785334, 7.995104323207256, 7.458025719735138, 34.30945694604518, 23.49810579908094, 21.40922967337936, 15.511902036931362, 12.116773632479708, 53.38356044098898, 26.93442435472317, 20.78909688441076, 20.108864399750903, 31.491987386154882, 36.09075129573572, 19.522590696590473, 44.44216518699109, 24.86553552756639, 16.605813951623595, 12.59528045842984, 13.800850004444987, 12.41452572806928, 40.8122694271202, 39.935233490605484, 23.300983403003606, 22.54770189721631, 20.135442303080108, 19.621272719016282, 19.1314613174607, 15.819260367892138, 14.17516215240857, 13.736123810587694, 13.258452907237702, 13.078972498736478, 12.687878815183398, 12.571077915226356, 11.30679549562948, 11.163015393967893, 10.864934612531146, 10.049694792302233, 9.40543678976573, 8.887005018569559, 8.883498914299102, 8.828943349259921, 8.811889383509882, 8.7196008983614, 8.69532809398907, 8.668309843261154, 8.533424532238712, 8.4285712808062, 8.393776081425694, 8.355590551080935, 25.228488003258718, 49.45780604054075, 55.14246774199604, 11.271788714752123, 25.931841810189233, 17.812068197132866, 20.6927351070355, 16.141985821754915, 25.471350838498807, 27.63995489146133, 28.577000794464293, 12.333627776788381, 13.418424893768329, 13.880594723472333], \"Term\": [\"god\", \"bless\", \"god bless\", \"liberal\", \"money\", \"thank\", \"president\", \"great\", \"care\", \"mr\", \"hell\", \"agree\", \"time\", \"jail\", \"trump\", \"say\", \"love\", \"stupid\", \"right\", \"man\", \"go\", \"judge\", \"absolutely\", \"much\", \"nfl\", \"ass\", \"good\", \"prayer\", \"fire\", \"sick\", \"news\", \"even\", \"day\", \"medium\", \"anything\", \"wrong\", \"anyone\", \"fake\", \"play\", \"mean\", \"feel\", \"party\", \"story\", \"will\", \"name\", \"away\", \"team\", \"republican\", \"flag\", \"act\", \"will not\", \"want\", \"wonderful\", \"school\", \"player\", \"swamp\", \"bunch\", \"two\", \"game\", \"watch\", \"back\", \"thing\", \"country\", \"not\", \"would\", \"people\", \"see\", \"use\", \"get\", \"one\", \"let\", \"go\", \"could\", \"can\", \"like\", \"us\", \"know\", \"american\", \"make\", \"can not\", \"need\", \"say\", \"trump\", \"come\", \"way\", \"right\", \"time\", \"think\", \"take\", \"good\", \"president\", \"obama\", \"amen\", \"great job\", \"melania\", \"first lady\", \"good job\", \"dumbass\", \"surprise\", \"luck\", \"devil\", \"america great\", \"good luck\", \"make america\", \"love president\", \"peace\", \"lady\", \"credit\", \"big deal\", \"major\", \"daddy\", \"great president\", \"sue\", \"low life\", \"finally president\", \"patriotic\", \"smell\", \"chief\", \"jealous\", \"animal\", \"rapist\", \"mistake\", \"proud\", \"awesome\", \"great\", \"donald trump\", \"donald\", \"first\", \"ungrateful\", \"job\", \"trash\", \"yes\", \"love\", \"president\", \"guy\", \"president trump\", \"wow\", \"trump\", \"really\", \"good\", \"support\", \"know\", \"never\", \"leave\", \"life\", \"america\", \"like\", \"thank\", \"big\", \"stand\", \"way\", \"always\", \"man\", \"people\", \"bless\", \"god bless\", \"young man\", \"congratulation\", \"thank god\", \"sir\", \"united\", \"classy\", \"bless president\", \"united state\", \"bless america\", \"ha\", \"michelle\", \"common\", \"bless family\", \"nail\", \"perfect\", \"tell like\", \"forever\", \"chelsea\", \"man woman\", \"faith\", \"crooked\", \"common sense\", \"bully\", \"young\", \"cj\", \"flake\", \"make sense\", \"huge\", \"god\", \"beautiful\", \"human\", \"share\", \"touch\", \"sense\", \"lock\", \"asshole\", \"glad\", \"suck\", \"family\", \"strong\", \"man\", \"thank\", \"bring\", \"woman\", \"respect\", \"nothing\", \"state\", \"love\", \"tell\", \"kid\", \"ever\", \"bad\", \"president\", \"brain\", \"arrest\", \"scouts\", \"air\", \"john\", \"rule\", \"girl scouts\", \"treason\", \"good man\", \"year ago\", \"birthday\", \"dnc\", \"pussy\", \"boy scout\", \"general\", \"happy birthday\", \"spot\", \"leadership\", \"movie\", \"nancy\", \"execute\", \"texas\", \"long time\", \"fat\", \"good work\", \"keep good\", \"role\", \"dude\", \"model\", \"thought\", \"boy\", \"ago\", \"girl\", \"deplorable\", \"happy\", \"long\", \"dead\", \"time\", \"mccain\", \"prison\", \"year\", \"hillary\", \"obama\", \"vote\", \"take\", \"lol\", \"think\", \"idiot\", \"look\", \"get\", \"democrat\", \"call\", \"man\", \"good\", \"not\", \"go\", \"boycott\", \"retire\", \"karma\", \"white house\", \"pope\", \"wall\", \"boycott nfl\", \"hopefully\", \"anti\", \"papa\", \"speak truth\", \"sheriff\", \"music\", \"sponsor\", \"kick\", \"positive\", \"complete\", \"delusional\", \"somewhere\", \"anti american\", \"ben\", \"favorite\", \"carson\", \"lesson\", \"require\", \"bite\", \"goodell\", \"belief\", \"com\", \"johns\", \"house\", \"harry\", \"pray\", \"speak\", \"disgusting\", \"nfl\", \"serve\", \"truth\", \"full\", \"white\", \"win\", \"little\", \"hope\", \"please\", \"store\", \"corrupt\", \"usa\", \"another\", \"oh\", \"miss\", \"hate\", \"good\", \"crap\", \"prayer\", \"mr president\", \"expect\", \"well say\", \"thank mr\", \"bastard\", \"typical\", \"investigate\", \"mental\", \"omg\", \"fraud\", \"false\", \"ugly\", \"congrat\", \"due\", \"nordstrom\", \"alive\", \"dream\", \"decision\", \"as\", \"girl scout\", \"true american\", \"kathy\", \"know go\", \"useless\", \"town\", \"drive\", \"dr\", \"sister\", \"great idea\", \"mr\", \"agree\", \"moron\", \"bitch\", \"true\", \"reason\", \"dumb\", \"well\", \"answer\", \"do\", \"say\", \"believe\", \"course\", \"crazy\", \"go\", \"happen\", \"lose\", \"thank\", \"president\", \"send\", \"hear\", \"absolutely\", \"pos\", \"throw\", \"loser\", \"deport\", \"scum\", \"crook\", \"pathetic\", \"not care\", \"potus\", \"coward\", \"pervert\", \"yep\", \"fit\", \"biden\", \"pre\", \"obamas\", \"michael\", \"bird\", \"peter\", \"finish\", \"worthless\", \"visit\", \"sweet\", \"hell yes\", \"riddance\", \"good riddance\", \"reid\", \"rubio\", \"huckabee\", \"shut\", \"sick\", \"hell\", \"care\", \"worth\", \"head\", \"liar\", \"screw\", \"run\", \"talk\", \"sarah\", \"criminal\", \"right\", \"mouth\", \"destroy\", \"yeah\", \"jail\", \"think\", \"christma\", \"eat\", \"city\", \"merry\", \"merry christma\", \"prosecute\", \"session\", \"pig\", \"teacher\", \"chicago\", \"sanctuary\", \"block\", \"legal\", \"room\", \"mayor\", \"sanctuary city\", \"yrs\", \"suspend\", \"standard\", \"would like\", \"collusion\", \"judge moore\", \"crawl\", \"supreme\", \"poll\", \"security\", \"pat\", \"field\", \"catcher\", \"horse\", \"judge\", \"justice\", \"shoot\", \"fire\", \"court\", \"moore\", \"rock\", \"cover\", \"find\", \"side\", \"finally\", \"muslim\", \"still\", \"need\", \"something\", \"excellent\", \"amazing\", \"fuck\", \"thank service\", \"libtard\", \"brother\", \"special\", \"marine\", \"kiss\", \"individual\", \"matt\", \"espn\", \"break law\", \"ca\", \"smith\", \"roll\", \"absolute\", \"disney\", \"pardon\", \"guilty\", \"lib\", \"interesting\", \"rag\", \"talent\", \"twice\", \"smoke\", \"another liberal\", \"four\", \"bless thank\", \"fi\", \"service\", \"comment\", \"hero\", \"correct\", \"soro\", \"liberal\", \"must\", \"prove\", \"break\", \"ass\", \"stupid\", \"rest\", \"thank\", \"law\", \"stop\", \"snowflake\", \"pay\", \"racist\", \"trey\", \"gowdy\", \"taxpayer\", \"trey gowdy\", \"discharge\", \"impeach\", \"feed\", \"may god\", \"dishonorable\", \"mrs\", \"fault\", \"dishonorable discharge\", \"receive\", \"mr gowdy\", \"suffer\", \"meet\", \"penalty\", \"fear\", \"university\", \"mrs trump\", \"rot\", \"clue\", \"staff\", \"pure\", \"nursing\", \"taxpayer money\", \"enforcement\", \"witness\", \"god help\", \"sooner\", \"burn\", \"jail\", \"money\", \"program\", \"sorry\", \"death\", \"heart\", \"bullshit\", \"may\", \"much\", \"put\", \"federal\", \"government\", \"start\"], \"Total\": [181.0, 130.0, 115.0, 99.0, 84.0, 178.0, 183.0, 123.0, 82.0, 76.0, 72.0, 71.0, 130.0, 70.0, 165.0, 135.0, 137.0, 96.0, 112.0, 145.0, 198.0, 53.0, 51.0, 59.0, 63.0, 74.0, 211.0, 50.0, 51.0, 50.0, 50.66575136951718, 49.805434879941544, 39.73585067193112, 39.034717731008755, 38.78802026587888, 37.01332859514343, 32.6305131388415, 30.716322151058154, 29.8781957304236, 29.81965896201215, 29.287801855080733, 29.176652997202652, 27.425011160812538, 27.306795302629496, 26.4672472282873, 33.87097417039404, 25.53267251694637, 25.262894312894833, 25.176376107205645, 25.00371030659483, 24.70928720970628, 81.49649369567076, 24.350442842023487, 24.223593542850036, 23.693396500315604, 23.25831338434645, 23.073437721085895, 23.022627749900984, 22.862597369697603, 57.8906758337206, 71.19845554765946, 75.69504189526624, 97.66522919561136, 233.43343981224618, 121.85751269530387, 154.9573172429181, 86.53913613104739, 35.99664943452466, 214.29709101349687, 132.01326151970042, 80.58599150754961, 198.00193493918368, 49.212864879773534, 61.276153714847105, 156.48888165778843, 70.84700439908259, 105.62464286934825, 79.07337207195465, 111.55448227616215, 53.89777542601847, 179.08610572567, 135.59433812097615, 165.82998948171317, 77.35092836417236, 89.86894865584686, 112.49518730080699, 130.01147616744808, 134.12002404910734, 98.33070647614592, 211.16745181906882, 183.7109986501816, 92.48704124410102, 27.66327327503696, 24.24315319805505, 21.34564631049546, 20.974522117315068, 20.606885577694968, 16.22229369415613, 16.177357561918708, 15.991052646432596, 14.341189818214671, 14.129890457135991, 14.060296876295942, 13.621951595655919, 13.435348683075116, 11.287493000138848, 41.60807724729318, 9.997012527462172, 9.930662722038974, 9.525218741187183, 9.191281577509612, 9.063254035142757, 8.936520527539614, 8.463814354443034, 8.124960100964426, 7.8433039386521335, 7.815975449107185, 7.513524426552561, 7.499635466620425, 7.463861409829468, 7.441552460374905, 7.265573842205568, 48.853989534057405, 47.50222893619822, 123.83570547369835, 13.968870648673892, 20.946763913591642, 55.232990738359256, 20.995841271292885, 80.41145910750743, 19.718979612484294, 86.56628263171224, 137.12954612990544, 183.7109986501816, 54.77513005595811, 65.04992419377506, 38.39703765090414, 165.82998948171317, 59.03392928380056, 211.16745181906882, 49.70590551806021, 105.62464286934825, 73.31133928445733, 68.52012815621643, 60.06132638313665, 99.53438249066663, 156.48888165778843, 178.92805578920115, 57.33665049428621, 57.79876504351279, 89.86894865584686, 50.52706936586759, 145.42852379517393, 154.9573172429181, 130.93982202110087, 115.00057644256474, 37.99415781898765, 25.87718556644366, 30.330185320437277, 19.862058324977898, 19.13884972039971, 17.33256131155879, 16.207875690991095, 15.755049472616944, 15.150806048127235, 14.985763621545475, 14.689323763023138, 14.186626134850743, 13.458809607998761, 12.163567877374863, 11.6203637752364, 11.535182917389243, 11.386907599813423, 10.809725164896514, 10.692757400633763, 10.63855966304506, 10.46109466199074, 10.450649176169962, 10.036160633972257, 52.79224606422194, 9.666231906701498, 9.486855881723098, 9.123424281883509, 9.08566425020426, 181.87341579390093, 52.73010603211582, 25.91760567953884, 19.448238793915735, 14.50578182671319, 24.71737077360532, 28.231148023756724, 32.627910019268654, 37.61658855688106, 25.328308736664127, 87.53351216154674, 21.02368912951434, 145.42852379517393, 178.92805578920115, 34.88883850027393, 83.25268940640747, 51.383999258036944, 56.36312327935628, 45.933278174113944, 137.12954612990544, 58.356430397311996, 48.684046242015626, 52.114226638971395, 58.08155336566976, 183.7109986501816, 25.823479402981388, 24.89543584118858, 23.053233634852685, 23.02994692596834, 18.335119188547587, 18.272601468662867, 16.964011346073672, 16.186534101145302, 16.080195030482294, 13.706679793485259, 13.410087569389942, 13.037504217285752, 12.545640164030049, 12.46781037246493, 12.27143434079299, 12.147635382136158, 11.547645156772939, 11.352307911759318, 11.313013413922109, 11.290590685931276, 11.17407360650483, 11.170999108878238, 11.136148713631531, 11.11646540830338, 10.935718026740513, 10.150242869549592, 10.134398973642396, 10.07340667158178, 9.995446542638474, 9.524793417418012, 56.86022022105724, 21.076836288857674, 50.333606468279456, 17.948506175812824, 34.071475619113805, 45.52156854756771, 23.32735846258621, 130.01147616744808, 23.108153740997942, 39.48237178009139, 81.66601594078583, 53.59617366256825, 92.48704124410102, 64.08766969512664, 98.33070647614592, 31.35848047448841, 134.12002404910734, 75.24168997665453, 71.2284371071049, 214.29709101349687, 70.15025635051154, 56.85555926212463, 145.42852379517393, 211.16745181906882, 233.43343981224618, 198.00193493918368, 42.69094016507391, 23.677744331006625, 22.600634308827484, 20.67135248669282, 19.88227809068655, 17.510141489751078, 17.404389656139987, 17.136425600887975, 15.913693776116856, 14.527858374903275, 14.256626778391635, 13.783844198822793, 12.407715763993089, 11.503493474210048, 29.98884577838781, 10.531657459940671, 10.486511523136363, 10.200957006079408, 10.187080967916632, 10.180858227024522, 10.082444784026984, 9.948937843174145, 9.93463185274571, 9.646171601918228, 9.631963364046602, 9.569259164860222, 9.327074862022396, 9.265559129844274, 9.232790036780887, 9.216521216550303, 32.150880699241036, 20.992991036516248, 48.065315120021346, 46.015964128496584, 25.888142189972804, 63.55457033952017, 31.057051216880122, 49.93928345993807, 26.502555209751524, 42.26912251000632, 33.11279631745838, 40.10728774623866, 81.52407750240396, 46.35775839840621, 19.645426694570364, 30.04431104637612, 30.999127168064078, 69.51057846597749, 35.8090797927639, 26.470857403815028, 37.881096530465285, 211.16745181906882, 29.494534960361435, 50.69195511758682, 38.53705224528143, 24.469048936820023, 24.177939955739923, 23.523359633580718, 20.00486322575896, 17.348683683737384, 17.32722790142679, 17.2951485691308, 15.215562383489075, 15.051224437652248, 14.831995904849043, 14.482227838768065, 13.383695141801342, 13.115293433086727, 12.520167203075841, 11.610652356346996, 10.948371235038861, 28.50853536625874, 9.847146914326272, 9.77311825293834, 9.428448393266047, 9.307675029867413, 9.031853348808275, 8.34795297185191, 8.109921245056706, 7.955124414318932, 7.952295414813342, 7.949384878361872, 7.883421341302326, 76.46850165899073, 71.20839650493777, 33.24117367588047, 54.10036142909191, 55.69388895928194, 34.530337722190616, 34.36371954560546, 86.22319217932984, 18.63478963843513, 56.62188047881058, 135.59433812097615, 57.06726070463644, 24.01516021375654, 27.30665245748667, 198.00193493918368, 54.53720248772086, 52.05445188045298, 178.92805578920115, 183.7109986501816, 35.763223493364606, 41.37007516988159, 51.10421913759387, 41.856112213285456, 38.572767448030184, 30.784112920420228, 25.295563825313007, 23.834731080004385, 22.633952155971357, 20.96997848072169, 19.61495859961127, 18.00324829827693, 15.0597135162102, 14.749326176758235, 14.575289302796465, 13.916029127944473, 13.698714691860026, 12.913723470826016, 11.4011874889825, 10.97200926343234, 10.695181308872078, 10.35921786705077, 10.266590758213546, 10.22367305952657, 10.069986383417778, 9.850879402481018, 9.688919461799856, 9.252778165818654, 8.961138689126823, 8.950452065247205, 8.661590448215986, 8.634859315427892, 47.4175342647314, 50.38013751745059, 72.59394184854908, 82.77155084982039, 13.876828587892692, 42.04859808260768, 30.59911714610425, 27.411344980877185, 48.15488312632396, 52.912592261458435, 32.06877768528483, 35.33394865316529, 112.49518730080699, 33.12803033176106, 26.18418816980915, 19.59329967098116, 70.89525028166887, 134.12002404910734, 43.25260949551692, 35.51000955345771, 33.483842004726284, 26.46892879918995, 24.19710006430838, 23.644451155314854, 21.702459817935875, 19.606214485953124, 18.55249340466334, 17.0880670711791, 16.82679451467709, 14.73076074335453, 14.164636075683672, 14.069599026172526, 13.749059800566618, 12.960927799904185, 12.792295166214215, 12.735327441818454, 12.688418323762598, 11.641237120152216, 11.554209603812387, 11.257274146834684, 11.191600199167748, 10.819184918986238, 10.574787046099388, 10.504031754917401, 10.489297120999023, 9.418294595164294, 9.050800008278124, 8.875014240724516, 53.237325986011335, 31.40687075134368, 24.970652694842016, 51.12803883699031, 18.684248249391246, 44.50171168528531, 18.46543919856023, 21.38614208675082, 39.40040865974857, 20.08150738973983, 36.30105327481829, 32.184719806373145, 63.94774133650397, 179.08610572567, 46.63627499396126, 42.94404780126506, 36.79275887628269, 24.839482432437187, 23.990061388289035, 21.007742406040258, 18.699750163926808, 17.16387103102479, 15.809892629022073, 14.850710836975006, 13.581629144819082, 13.400559445521525, 13.216154219493816, 12.840922872425532, 12.83970524279242, 11.753339478992718, 11.550137936059214, 11.181694480210668, 11.125583503844473, 10.875472188707032, 24.07108545700203, 10.363522749110288, 10.318796943447389, 10.09151971647973, 9.8862548949012, 9.466490806313733, 9.404488514924461, 9.218454830660813, 9.14735873324493, 9.021183117482188, 8.484085326599585, 44.05217986060771, 30.00015857712305, 27.77610981539083, 19.20007176313331, 14.660900853122149, 99.11329041284738, 44.6573452282707, 32.72328460241232, 33.982609652217796, 74.74476583088888, 96.4742901260788, 34.4920620778474, 178.92805578920115, 68.6157720414673, 61.86395379539575, 21.569568636435186, 59.28643023597271, 38.51016174693745, 41.83239006722191, 40.95535691060335, 24.32113879480552, 23.56781468497657, 21.1555601217274, 20.64140895568731, 20.1516092337558, 16.839430264678946, 15.195271287225248, 14.756241072799819, 14.278617074725318, 14.099082340892762, 13.708066585594958, 13.591213353749811, 12.326986692963516, 12.18318791393525, 11.885090590970638, 11.069879136028069, 10.425615520848265, 9.907124301455221, 9.903652261736253, 9.849091341843726, 9.832097131664037, 9.73979730180557, 9.715452244978193, 9.688445629610474, 9.553550015820935, 9.4487763391952, 9.41394374461775, 9.375737899580711, 30.60861276969893, 70.89525028166887, 84.74047603511046, 13.757978578958618, 44.74066060357592, 27.66792476164928, 34.9464026429404, 24.210611018265347, 50.4415747780139, 59.21398690192579, 73.03610871906457, 22.47650433546087, 32.99389921002967, 41.53639930380015], \"loglift\": [30.0, 29.0, 28.0, 27.0, 26.0, 25.0, 24.0, 23.0, 22.0, 21.0, 20.0, 19.0, 18.0, 17.0, 16.0, 15.0, 14.0, 13.0, 12.0, 11.0, 10.0, 9.0, 8.0, 7.0, 6.0, 5.0, 4.0, 3.0, 2.0, 1.0, 0.7687, 0.7683, 0.7626, 0.7621, 0.7619, 0.7605, 0.7564, 0.7543, 0.7532, 0.7532, 0.7525, 0.7523, 0.7498, 0.7497, 0.7483, 0.7481, 0.7468, 0.7463, 0.7461, 0.7458, 0.7453, 0.745, 0.7446, 0.7443, 0.7433, 0.7424, 0.742, 0.7419, 0.7415, 0.7414, 0.6939, 0.6858, 0.6671, 0.5525, 0.5604, 0.5101, 0.5291, 0.6763, 0.3341, 0.3789, 0.482, 0.2713, 0.592, 0.5321, 0.2745, 0.4687, 0.3302, 0.409, 0.2885, 0.5368, 0.0753, 0.1747, 0.0659, 0.3783, 0.2997, 0.1578, 0.0558, 0.0242, 0.2056, -0.302, -0.3131, 0.1905, 2.2995, 2.2938, 2.2874, 2.2865, 2.2855, 2.2705, 2.2703, 2.2694, 2.2611, 2.2598, 2.2594, 2.2568, 2.2556, 2.2388, 2.2337, 2.225, 2.2242, 2.2189, 2.2144, 2.2125, 2.2106, 2.2029, 2.1968, 2.1912, 2.1907, 2.1842, 2.1839, 2.1831, 2.1825, 2.1784, 2.1241, 2.0876, 1.9796, 2.1253, 2.0737, 1.9631, 2.0715, 1.8883, 2.0752, 1.8251, 1.6563, 1.5538, 1.7764, 1.721, 1.8611, 1.4209, 1.6555, 1.1388, 1.6888, 1.316, 1.4525, 1.4608, 1.4818, 1.201, 0.9369, 0.7147, 1.4347, 1.4064, 1.0987, 1.4975, 0.5128, 0.4327, 2.5293, 2.5281, 2.5089, 2.4952, 2.4826, 2.482, 2.4799, 2.4737, 2.4691, 2.467, 2.4641, 2.4633, 2.4617, 2.4589, 2.4545, 2.4453, 2.4407, 2.44, 2.4386, 2.4331, 2.4319, 2.4313, 2.4294, 2.4293, 2.4246, 2.4204, 2.42, 2.4176, 2.4125, 2.412, 2.34, 2.3294, 2.3648, 2.3525, 2.377, 2.2939, 2.2326, 2.1792, 2.1436, 2.2304, 1.8389, 2.246, 1.5796, 1.321, 1.974, 1.5736, 1.6867, 1.6112, 1.6167, 0.7634, 1.4213, 1.5634, 1.5031, 1.4117, 0.3586, 2.5795, 2.5779, 2.5743, 2.5743, 2.5617, 2.5615, 2.5567, 2.5535, 2.553, 2.5406, 2.5387, 2.5363, 2.5328, 2.5322, 2.5307, 2.5297, 2.5247, 2.5229, 2.5226, 2.5224, 2.5213, 2.5212, 2.5209, 2.5207, 2.519, 2.5105, 2.5104, 2.5096, 2.5087, 2.5028, 2.3129, 2.4198, 2.2929, 2.4227, 2.3015, 2.2199, 2.3236, 1.7554, 2.2871, 2.1009, 1.7994, 1.8907, 1.6104, 1.7483, 1.5233, 2.0567, 1.2854, 1.5214, 1.5265, 0.8267, 1.5051, 1.592, 0.7234, 0.3691, 0.0718, 0.1717, 2.7762, 2.7555, 2.7533, 2.7487, 2.7466, 2.7389, 2.7385, 2.7375, 2.7324, 2.7256, 2.7241, 2.7214, 2.7121, 2.7047, 2.7018, 2.6953, 2.6949, 2.6917, 2.6916, 2.6915, 2.6904, 2.6888, 2.6886, 2.685, 2.6848, 2.684, 2.6808, 2.68, 2.6795, 2.6793, 2.5711, 2.6022, 2.491, 2.4785, 2.5299, 2.3361, 2.4255, 2.1698, 2.3736, 2.1812, 2.2495, 2.1621, 1.8733, 2.0671, 2.3995, 2.1637, 2.143, 1.6599, 1.9944, 2.2203, 1.926, 0.4065, 2.1186, 2.8531, 2.8463, 2.83, 2.8295, 2.8282, 2.8199, 2.8114, 2.8113, 2.8112, 2.8023, 2.8014, 2.8003, 2.7985, 2.792, 2.7903, 2.7861, 2.7789, 2.7728, 2.7685, 2.7608, 2.7599, 2.7555, 2.7538, 2.7499, 2.739, 2.7348, 2.7318, 2.7318, 2.7317, 2.7305, 2.6511, 2.6433, 2.5555, 2.401, 2.3804, 2.3699, 2.3219, 1.9748, 2.4873, 2.0393, 1.6303, 1.9613, 2.3617, 2.2713, 1.0506, 1.7879, 1.7921, 0.7069, 0.5202, 2.0033, 1.8293, 2.9871, 2.9825, 2.9803, 2.9733, 2.9657, 2.963, 2.9606, 2.9568, 2.9532, 2.9481, 2.9361, 2.9345, 2.9336, 2.9299, 2.9287, 2.9236, 2.9119, 2.908, 2.9053, 2.9018, 2.9008, 2.9003, 2.8986, 2.896, 2.894, 2.8884, 2.8842, 2.8841, 2.8797, 2.8792, 2.8707, 2.754, 2.5788, 2.5583, 2.8071, 2.5706, 2.6291, 2.6103, 2.4243, 2.3216, 2.4697, 2.3663, 1.7048, 2.3003, 2.4022, 2.5765, 1.3543, 0.7187, 3.094, 3.0887, 3.0869, 3.0785, 3.0747, 3.0736, 3.0696, 3.0643, 3.0611, 3.0561, 3.0551, 3.0459, 3.0429, 3.0424, 3.0405, 3.0356, 3.0345, 3.0341, 3.0338, 3.0259, 3.0251, 3.0226, 3.022, 3.0185, 3.0161, 3.0153, 3.0152, 3.0028, 2.9979, 2.9953, 2.8404, 2.8724, 2.858, 2.692, 2.8913, 2.5124, 2.8045, 2.7181, 2.3886, 2.7219, 2.3808, 2.405, 1.7943, 0.9402, 1.856, 3.0995, 3.0954, 3.0815, 3.08, 3.0736, 3.0673, 3.062, 3.0566, 3.0521, 3.0451, 3.044, 3.0429, 3.0404, 3.0404, 3.0323, 3.0307, 3.0274, 3.0269, 3.0246, 3.0245, 3.0194, 3.019, 3.0165, 3.0141, 3.009, 3.0082, 3.0057, 3.0047, 3.0029, 2.9948, 2.8737, 2.8794, 2.8633, 2.9104, 2.9331, 2.5049, 2.6181, 2.67, 2.599, 2.2593, 2.1405, 2.5545, 1.7309, 2.1087, 1.8085, 2.5857, 1.666, 1.9916, 3.1129, 3.1123, 3.0947, 3.0933, 3.0881, 3.0869, 3.0856, 3.075, 3.068, 3.0659, 3.0634, 3.0624, 3.0602, 3.0595, 3.0512, 3.0501, 3.0478, 3.0409, 3.0346, 3.0289, 3.0288, 3.0282, 3.028, 3.0269, 3.0266, 3.0263, 3.0246, 3.0233, 3.0228, 3.0223, 2.9442, 2.7775, 2.7079, 2.9382, 2.5921, 2.6971, 2.6135, 2.7322, 2.4543, 2.3756, 2.1992, 2.5374, 2.2378, 2.0415], \"logprob\": [30.0, 29.0, 28.0, 27.0, 26.0, 25.0, 24.0, 23.0, 22.0, 21.0, 20.0, 19.0, 18.0, 17.0, 16.0, 15.0, 14.0, 13.0, 12.0, 11.0, 10.0, 9.0, 8.0, 7.0, 6.0, 5.0, 4.0, 3.0, 2.0, 1.0, -5.6648, -5.6823, -5.9138, -5.9322, -5.9387, -5.9869, -6.117, -6.1796, -6.2083, -6.2104, -6.2291, -6.233, -6.2974, -6.3019, -6.3345, -6.0881, -6.372, -6.3831, -6.3867, -6.3939, -6.4063, -5.2132, -6.4216, -6.427, -6.4502, -6.4697, -6.478, -6.4804, -6.4877, -5.5587, -5.3994, -5.3462, -5.11, -4.3533, -4.9955, -4.8054, -5.369, -6.0989, -4.6572, -5.097, -5.4873, -4.7992, -5.8705, -5.7112, -5.0312, -5.6295, -5.3686, -5.5793, -5.3557, -5.8348, -5.0955, -5.2743, -5.1818, -5.6321, -5.5606, -5.478, -5.4352, -5.4358, -5.5648, -5.308, -5.4584, -5.6411, -4.7391, -4.8768, -5.0104, -5.0289, -5.0476, -5.3019, -5.3048, -5.3172, -5.4345, -5.4506, -5.4559, -5.4903, -5.5053, -5.6962, -4.3967, -5.8314, -5.8388, -5.8858, -5.9261, -5.942, -5.958, -6.02, -6.067, -6.1078, -6.1119, -6.1578, -6.16, -6.1656, -6.1691, -6.1971, -4.3458, -4.4103, -3.5601, -5.5966, -5.243, -4.384, -5.2429, -4.0832, -5.3019, -4.0727, -3.7815, -3.5916, -4.5791, -4.4625, -4.8497, -3.8268, -4.6251, -3.8672, -4.7638, -4.3828, -4.6115, -4.6708, -4.7816, -4.5572, -4.3689, -4.457, -4.875, -4.8953, -4.7617, -4.9387, -4.8662, -4.8828, -2.9547, -3.0856, -4.2124, -4.6101, -4.4639, -4.8879, -4.9271, -5.0325, -5.1041, -5.1345, -5.1765, -5.1883, -5.2098, -5.2475, -5.3045, -5.415, -5.4652, -5.4733, -5.4876, -5.5452, -5.5573, -5.5629, -5.5816, -5.5827, -5.6279, -3.972, -5.6701, -5.6912, -5.7353, -5.74, -2.8154, -4.0641, -4.739, -5.0384, -5.3072, -4.8573, -4.7857, -4.6943, -4.5876, -4.8963, -4.0478, -5.0671, -3.7994, -3.8507, -4.8325, -4.3632, -4.7327, -4.7157, -4.9148, -4.6743, -4.8708, -4.91, -4.9022, -4.8851, -4.7868, -4.5279, -4.5661, -4.6466, -4.6476, -4.8882, -4.8918, -4.9709, -5.0211, -5.0281, -5.2002, -5.224, -5.2546, -5.2966, -5.3034, -5.3208, -5.3319, -5.3876, -5.4064, -5.4102, -5.4124, -5.4238, -5.4242, -5.4276, -5.4296, -5.4477, -5.5307, -5.5324, -5.5392, -5.5479, -5.602, -4.0052, -4.8907, -4.1471, -5.0485, -4.5288, -4.3206, -4.8854, -3.7357, -4.9314, -4.5819, -4.1567, -4.4866, -4.2213, -4.4502, -4.2471, -4.8566, -4.1745, -4.5166, -4.5663, -4.1647, -4.603, -4.7262, -4.6556, -4.637, -4.834, -4.8987, -3.8286, -4.4386, -4.4874, -4.5813, -4.6223, -4.757, -4.7635, -4.78, -4.8591, -4.957, -4.9774, -5.0138, -5.1283, -5.2113, -4.2561, -5.309, -5.3138, -5.3445, -5.346, -5.3467, -5.3576, -5.3725, -5.3741, -5.4071, -5.4088, -5.4161, -5.445, -5.4524, -5.4564, -5.4584, -4.3171, -4.7124, -3.9952, -4.0512, -4.575, -3.8708, -4.4974, -4.2781, -4.7078, -4.4335, -4.6093, -4.5051, -4.0845, -4.4552, -4.9813, -4.7923, -4.7817, -4.4573, -4.7861, -4.8624, -4.7983, -4.5996, -4.8559, -3.5799, -3.8607, -4.3313, -4.3438, -4.3725, -4.5428, -4.6938, -4.6951, -4.6971, -4.8341, -4.8458, -4.8616, -4.8873, -4.9727, -4.9947, -5.0453, -5.1279, -5.1927, -4.24, -5.3107, -5.3192, -5.3595, -5.374, -5.408, -5.4977, -5.5309, -5.553, -5.5535, -5.5539, -5.5635, -3.3707, -3.4498, -4.2994, -3.9668, -3.9584, -4.447, -4.4998, -3.9269, -4.9464, -4.283, -3.8187, -4.3532, -4.8183, -4.7802, -4.0198, -4.5719, -4.6143, -4.4648, -4.6252, -4.7785, -4.8069, -3.4377, -3.642, -3.7258, -3.9584, -4.1624, -4.2245, -4.2786, -4.3588, -4.4293, -4.52, -4.7106, -4.733, -4.7458, -4.7957, -4.8127, -4.8768, -5.013, -5.0553, -5.0836, -5.119, -5.129, -5.1337, -5.1506, -5.1751, -5.1937, -5.2454, -5.2816, -5.2829, -5.3201, -5.3237, -3.629, -3.6852, -3.495, -3.3844, -4.9214, -4.0493, -4.3087, -4.4374, -4.06, -4.0685, -4.4211, -4.4276, -3.9309, -4.5581, -4.6914, -4.807, -4.7432, -4.7413, -3.4977, -3.7002, -3.7608, -4.0043, -4.0978, -4.1219, -4.2117, -4.3186, -4.377, -4.4642, -4.4806, -4.6229, -4.6651, -4.6723, -4.6972, -4.7611, -4.7754, -4.7802, -4.7842, -4.8783, -4.8865, -4.9151, -4.9216, -4.9589, -4.9842, -4.9916, -4.9931, -5.1132, -5.158, -5.1801, -3.5435, -4.0393, -4.283, -3.7323, -4.5397, -4.0508, -4.6383, -4.5778, -4.2963, -4.637, -4.386, -4.4822, -4.4063, -4.2306, -4.6604, -3.4993, -3.658, -4.0648, -4.1011, -4.2402, -4.3629, -4.4539, -4.5415, -4.6086, -4.7049, -4.7194, -4.7344, -4.7657, -4.7658, -4.8622, -4.8813, -4.917, -4.9225, -4.9476, -4.1532, -5.001, -5.0058, -5.0305, -5.0534, -5.102, -5.1094, -5.1318, -5.1405, -5.1562, -5.2257, -3.6996, -4.0781, -4.1712, -4.4934, -4.7404, -3.2575, -3.9416, -4.2006, -4.2339, -3.7853, -3.649, -4.2634, -3.4408, -4.0215, -4.4253, -4.7017, -4.6103, -4.7161, -3.5122, -3.5339, -4.0727, -4.1055, -4.2187, -4.2445, -4.2698, -4.4599, -4.5697, -4.6011, -4.6365, -4.6502, -4.6805, -4.6898, -4.7958, -4.8086, -4.8356, -4.9136, -4.9799, -5.0366, -5.037, -5.0431, -5.0451, -5.0556, -5.0584, -5.0615, -5.0772, -5.0895, -5.0937, -5.0982, -3.9932, -3.32, -3.2112, -4.7989, -3.9657, -4.3413, -4.1914, -4.4397, -3.9836, -3.9019, -3.8686, -4.7088, -4.6245, -4.5907]}, \"token.table\": {\"Topic\": [9, 7, 1, 1, 4, 1, 6, 4, 6, 1, 2, 9, 2, 1, 2, 3, 4, 5, 2, 1, 2, 4, 5, 6, 2, 1, 2, 3, 5, 9, 1, 6, 5, 5, 1, 1, 4, 6, 1, 3, 7, 9, 1, 3, 1, 1, 2, 3, 1, 3, 1, 3, 6, 2, 3, 5, 1, 6, 5, 7, 1, 2, 4, 2, 7, 4, 1, 5, 6, 5, 3, 3, 3, 3, 9, 8, 1, 4, 4, 5, 5, 4, 1, 5, 9, 9, 1, 3, 9, 1, 10, 3, 1, 1, 10, 9, 1, 2, 4, 1, 4, 1, 4, 1, 2, 7, 5, 8, 3, 8, 2, 8, 8, 3, 3, 10, 8, 5, 1, 2, 5, 1, 9, 3, 3, 5, 6, 3, 1, 9, 1, 5, 1, 2, 1, 2, 3, 1, 6, 1, 8, 1, 8, 7, 1, 5, 8, 1, 6, 2, 1, 7, 7, 3, 2, 1, 1, 4, 1, 4, 10, 1, 6, 5, 1, 2, 4, 1, 4, 7, 1, 7, 2, 10, 1, 5, 10, 10, 9, 4, 1, 6, 1, 2, 1, 2, 6, 6, 6, 4, 6, 1, 3, 6, 2, 8, 10, 9, 1, 1, 3, 9, 4, 6, 3, 1, 6, 1, 2, 3, 5, 4, 10, 5, 10, 1, 9, 10, 10, 1, 9, 8, 1, 2, 8, 2, 1, 8, 7, 1, 8, 1, 2, 2, 7, 1, 3, 3, 9, 6, 9, 1, 5, 1, 4, 1, 2, 3, 4, 5, 7, 1, 4, 6, 7, 6, 4, 1, 3, 1, 2, 4, 5, 6, 7, 1, 2, 3, 3, 10, 1, 2, 3, 4, 5, 7, 10, 2, 2, 4, 7, 4, 5, 1, 10, 10, 1, 2, 4, 6, 6, 2, 2, 8, 9, 1, 2, 3, 1, 2, 6, 1, 4, 4, 1, 5, 1, 5, 1, 7, 1, 4, 6, 1, 3, 10, 1, 7, 7, 1, 9, 1, 4, 7, 1, 4, 5, 10, 5, 8, 1, 5, 7, 3, 3, 9, 1, 2, 4, 5, 10, 9, 9, 6, 1, 7, 10, 2, 1, 2, 4, 5, 1, 8, 8, 1, 8, 5, 6, 4, 1, 5, 1, 2, 3, 9, 1, 2, 6, 1, 2, 1, 4, 9, 10, 4, 1, 2, 8, 5, 1, 2, 4, 7, 1, 7, 9, 1, 2, 9, 9, 1, 2, 1, 2, 3, 4, 5, 1, 5, 1, 3, 1, 4, 1, 4, 4, 1, 2, 4, 7, 1, 5, 6, 7, 1, 2, 3, 5, 2, 2, 2, 2, 1, 2, 3, 4, 6, 7, 2, 3, 1, 2, 3, 4, 5, 3, 9, 9, 1, 10, 10, 8, 1, 4, 1, 1, 10, 2, 6, 8, 8, 7, 3, 1, 5, 2, 4, 1, 10, 1, 8, 1, 6, 1, 2, 7, 4, 1, 2, 6, 10, 6, 10, 10, 1, 10, 5, 1, 8, 1, 9, 3, 1, 4, 1, 2, 3, 4, 5, 6, 7, 8, 10, 1, 2, 3, 1, 1, 5, 6, 1, 2, 3, 4, 5, 6, 7, 7, 1, 3, 10, 1, 3, 4, 7, 1, 4, 5, 6, 1, 2, 3, 4, 5, 6, 5, 9, 1, 8, 7, 2, 1, 5, 6, 9, 2, 10, 1, 2, 3, 4, 3, 7, 7, 8, 1, 1, 1, 5, 8, 5, 7, 5, 7, 1, 5, 6, 7, 1, 2, 3, 6, 1, 2, 3, 1, 4, 6, 10, 8, 1, 2, 1, 9, 10, 4, 1, 2, 4, 9, 10, 1, 2, 9, 9, 2, 1, 2, 1, 6, 10, 7, 1, 5, 1, 3, 9, 1, 9, 5, 7, 1, 2, 5, 7, 1, 8, 4, 9, 8, 10, 7, 4, 1, 7, 8, 8, 2, 3, 7, 1, 2, 3, 4, 6, 8, 1, 4, 1, 7, 7, 8, 1, 2, 3, 4, 5, 1, 6, 1, 3, 1, 5, 1, 9, 8, 1, 3, 5, 1, 8, 1, 7, 1, 7, 1, 8, 3, 6, 2, 9, 9, 1, 9, 1, 8, 5, 10, 1, 9, 1, 10, 1, 5, 5, 9, 5, 4, 10, 1, 2, 5, 8, 1, 5, 10, 1, 3, 5, 9, 1, 5, 6, 8, 1, 2, 9, 1, 5, 1, 1, 3, 1, 2, 4, 5, 9, 1, 3, 2, 10, 1, 2, 8, 2, 8, 1, 7, 1, 2, 4, 9, 1, 7, 10, 10, 8, 1, 1, 3, 4, 3, 4, 1, 2, 3, 5, 6, 9, 1, 3, 6, 9, 1, 2, 5, 1, 2, 3, 4, 7, 4, 7, 1, 4, 5, 6, 1, 3, 6, 1, 2, 4, 10, 10, 1, 6, 6, 1, 2, 3, 10, 1, 5, 9, 1, 6, 6, 1, 2, 3, 3, 10, 1, 2, 4, 1, 5, 1, 2, 6, 7, 1, 4, 5, 1, 2, 3, 1, 9, 1, 2, 6, 1, 3, 4, 5, 6, 6, 1, 5, 7, 5, 1, 1, 1, 5, 10, 1, 3, 4, 6, 1, 1, 7, 7, 1, 2, 4, 5, 8, 1, 2, 1, 1, 7, 1, 2, 4, 4, 7, 1, 2, 7, 1, 3, 3, 8], \"Freq\": [0.8943188367110166, 0.9783927989463873, 0.9598575453687729, 0.14233635251918514, 0.8065726642753825, 0.19660602804093763, 0.8004673998809604, 0.9552779288081216, 0.9474058530386381, 0.554158401653011, 0.4354101727273658, 0.9784533995140626, 0.9760233263633523, 0.411917962155887, 0.3214969460728874, 0.17079525260122144, 0.05023389782388866, 0.05023389782388866, 0.9200354411406378, 0.6829100439887835, 0.06323241148044292, 0.05058592918435434, 0.05058592918435434, 0.12646482296088585, 0.8038734470737026, 0.5035204823842896, 0.07193149748346994, 0.08631779698016394, 0.3164985889272678, 0.8678243964912427, 0.2683153444183381, 0.697619895487679, 0.942584431435515, 0.8840119171986897, 0.9806771920454118, 0.9796839266227753, 0.9640321283426935, 0.9139703183372041, 0.29433499129257185, 0.10703090592457158, 0.16054635888685737, 0.41474476045771486, 0.2758374653689122, 0.7049179670538867, 0.9447617254531337, 0.02105164373114222, 0.7789108180522623, 0.16841314984913777, 0.9129411516025051, 0.08427149091715432, 0.6542524742883451, 0.32712623714417255, 0.9497690529338354, 0.17068048364094804, 0.8154734218400851, 0.8634125461713454, 0.5782650085624123, 0.4030331877859237, 0.8926406434933483, 0.9489941423281695, 0.43602128454453987, 0.4011395817809767, 0.15696766243603436, 0.9062839260492084, 0.9350005120254111, 0.8948487426280028, 0.14787331893309832, 0.2218099783996475, 0.628461605465668, 0.9405116785894326, 0.9928224889373272, 0.9240432459849565, 0.8916093138629608, 0.9254760022831077, 0.8868016418485916, 0.9503921924952724, 0.2462178293642157, 0.7386534880926472, 0.8822720005666289, 0.9838152975220916, 0.9193083076231552, 0.9681112142120432, 0.26484134361978395, 0.11770726383101508, 0.5885363191550754, 0.934512271370205, 0.40127446489484253, 0.5732492355640607, 0.9625797051943145, 0.28912942324003926, 0.6608672531200898, 0.8967572688638653, 0.9534773390050619, 0.1306821720440663, 0.8167635752754143, 0.934600894108236, 0.510064457660148, 0.10553057744692716, 0.3517685914897572, 0.7670194219225608, 0.2121543081913466, 0.7792529407387199, 0.20409005590775994, 0.24162891470147438, 0.10873301161566347, 0.6403166239589071, 0.9059218432450118, 0.8838997649581217, 0.9250928999077594, 0.9363259128930829, 0.7985599912068146, 0.9710396780650482, 0.9556848343593056, 0.9310763580750007, 0.9231180384938187, 0.9137898804698487, 0.9520339665960775, 0.8664769769625658, 0.6593327459482999, 0.14220902363590782, 0.18099330280933723, 0.1999989428247678, 0.7666626141616099, 0.9163560015206373, 0.8611905201566045, 0.8582453736062106, 0.8966133696904346, 0.9661019717854806, 0.1562494159923089, 0.8333302186256474, 0.43269422886526904, 0.5325467432187927, 0.8127955992344592, 0.16255911984689184, 0.8805590352709115, 0.08191246839729409, 0.020478117099323522, 0.3747632711958571, 0.5829650885268888, 0.16056305610784974, 0.8028152805392488, 0.28055550999622, 0.6546295233245133, 0.9296325580782443, 0.47466420537957316, 0.5085687914781141, 0.8935272724220116, 0.4028322408660578, 0.5493166920900788, 0.9002689528773381, 0.45282230290915104, 0.5377264847046168, 0.9719910976393883, 0.8603306146058051, 0.8703900465388211, 0.9814814415826534, 0.21434059960193494, 0.7287580386465788, 0.253000543419966, 0.0722858695485617, 0.6505728259370553, 0.07015442828982013, 0.9120075677676618, 0.8822701629500369, 0.6129699624353039, 0.042765346216416554, 0.32786765432586024, 0.11142988616485389, 0.8357241462364042, 0.9487829631211244, 0.42010086120154, 0.5346738233474145, 0.9064798782238254, 0.9453779472120615, 0.19313861780072572, 0.7725544712029029, 0.9213392597847121, 0.922045824379293, 0.898829261093989, 0.9204215622871915, 0.5474915304446843, 0.4415254277779712, 0.19096028467693457, 0.7638411387077383, 0.1431754971680453, 0.7874652344242492, 0.8802489891108133, 0.9133778701252182, 0.8799359551687536, 0.893441543007493, 0.9149623728377201, 0.2328036692705189, 0.17460275195288918, 0.5820091731762972, 0.9246534604045269, 0.957476509512494, 0.9420581862339924, 0.9079797194179234, 0.9838283737129676, 0.6332244020162119, 0.3645837466153947, 0.9780167951182923, 0.8949287746036182, 0.9399629736074679, 0.93997686874256, 0.9766794296681942, 0.9439053307331997, 0.30845329215364253, 0.057120980028452326, 0.5026646242503805, 0.13709035206828557, 0.8995665108201171, 0.9104523170532665, 0.9046191806469873, 0.9033522296963445, 0.08898180829857193, 0.3559272331942877, 0.5338908497914315, 0.9428527409202264, 0.956029412468272, 0.8250742101866148, 0.8494106782460914, 0.1652844603316826, 0.3305689206633652, 0.4683059709397674, 0.8615426922735419, 0.48222850082797203, 0.48222850082797203, 0.8766298581444634, 0.33249857390776305, 0.645438408173893, 0.28968194164593764, 0.6879946114091019, 0.953537815457041, 0.9341745321512, 0.9532746054397814, 0.8432720070526633, 0.8782015584427727, 0.8745693957453534, 0.9301568824512045, 0.9662037067511146, 0.3018576864262668, 0.641447583655817, 0.9622703686834418, 0.8963907310682943, 0.634632973115974, 0.08399554055946715, 0.023332094599851985, 0.1679910811189343, 0.051330608119674374, 0.04199777027973357, 0.03973488371552339, 0.715227906879421, 0.11920465114657017, 0.09933720928880847, 0.9208933901208145, 0.943173148944115, 0.2924241783213967, 0.6646004052759017, 0.5959537720489636, 0.055555012648632204, 0.08585774682061341, 0.0606054683439624, 0.1616145822505664, 0.0353531898673114, 0.13195991231174112, 0.04398663743724704, 0.8192511222687261, 0.9912993788942922, 0.8498032511160748, 0.33622605845920694, 0.30307701044210206, 0.07576925261052551, 0.10418272233947258, 0.08997598747499905, 0.05682693945789413, 0.03314904801710491, 0.9705493789730233, 0.924589296682385, 0.9328245068897093, 0.8927436877756351, 0.9144346969762339, 0.8577180003748093, 0.5758640371376377, 0.39401223593627843, 0.9766732124276517, 0.24225646299056894, 0.6944685272396309, 0.01615043086603793, 0.04037607716509482, 0.8879393472636099, 0.9487214724957979, 0.8826851778599617, 0.041543618869464415, 0.9139596151282171, 0.4198985922352584, 0.5659502764910005, 0.9342199939595862, 0.5867554355617132, 0.055008322083910606, 0.33004993250346365, 0.23480051434907823, 0.7337516073408694, 0.9055260265858962, 0.1429048387998476, 0.8097940865324698, 0.5543662122639738, 0.42237425696302766, 0.3329480800405267, 0.6421141543638729, 0.5076132908573612, 0.12086030734699077, 0.3625809220409723, 0.20030674033952636, 0.20030674033952636, 0.6009202210185791, 0.3306061000251316, 0.6474369458825493, 0.9288961514732337, 0.18001080904531436, 0.7560453979903202, 0.4104770638760146, 0.4851092573080173, 0.09329024179000332, 0.3311905001219282, 0.15946209265129876, 0.39252207421858154, 0.11039683337397606, 0.9336836264833964, 0.901407004316752, 0.1866200822343768, 0.8086870230156328, 0.9264771674631004, 0.8805079936582674, 0.8488438427538979, 0.11575143310280427, 0.38542462309124, 0.17277655517883173, 0.3322626061131379, 0.10632403395620413, 0.9689261059133958, 0.9571753035944915, 0.8721946995686501, 0.9234021789880479, 0.0987372210717756, 0.1974744421435512, 0.6911605475024292, 0.800038885450494, 0.34820907754658376, 0.6342379626741347, 0.9271824101704491, 0.8680064649158763, 0.22540576142297467, 0.7513525380765822, 0.888314512870933, 0.19104100015259567, 0.7960041673024819, 0.9734240065734401, 0.8595057277277932, 0.886678290920478, 0.0666914630452816, 0.9003347511113018, 0.47243402665554096, 0.14378426898212118, 0.3697309773825973, 0.9427158170195514, 0.6343216713440181, 0.3597645300160102, 0.8857539744105317, 0.07210138507890713, 0.889250415973188, 0.39349553603627463, 0.1311651786787582, 0.3643477185521061, 0.10201736119458972, 0.8808781507451426, 0.5691758181053804, 0.4086390488961706, 0.9177786093860191, 0.9330126366620172, 0.7321371729287794, 0.13650015088502668, 0.06204552312955758, 0.06204552312955758, 0.2941261330196856, 0.6862943103792664, 0.8684305730667358, 0.4136680341175057, 0.040357856987073726, 0.5347416050787269, 0.9520299522641469, 0.5660880644411832, 0.4162412238538112, 0.5942914219514547, 0.2428287530554331, 0.07668276412276835, 0.05112184274851223, 0.03195115171782015, 0.44879624156804454, 0.5235956151627187, 0.21253120825801894, 0.7438592289030663, 0.4145609035672538, 0.5740074049392745, 0.3075465201813228, 0.6590282575314059, 0.8979765138875351, 0.5615734617320429, 0.042118009629903225, 0.3369440770392258, 0.042118009629903225, 0.5763195829800934, 0.057631958298009336, 0.34579174978805605, 0.9745286498120888, 0.23335598274120872, 0.5031738377857313, 0.16772461259524377, 0.08750849352795327, 0.8931662499475533, 0.8270502762534468, 0.9380245523327893, 0.8398757254159303, 0.6095676176566397, 0.14342767474273876, 0.07171383737136938, 0.03585691868568469, 0.11653498572847525, 0.017928459342842346, 0.9543419611141284, 0.8768637468593558, 0.28192543615271565, 0.15815329345152343, 0.38506888840370923, 0.15127706330145718, 0.020628690450198706, 0.9352124644114059, 0.9487730468494542, 0.895485001860158, 0.47579799214478413, 0.49562290848415014, 0.9501509106017875, 0.9455191982992358, 0.25964861006420176, 0.7356710618485717, 0.9725127989204595, 0.9734923731704921, 0.9028835537715126, 0.9369592144964091, 0.9251149208719467, 0.9445036551976027, 0.9505271267578818, 0.911410094532834, 0.953073145221406, 0.4155513299850522, 0.5666609045250711, 0.825812266217174, 0.9004099978533117, 0.342221348721058, 0.6490404889537308, 0.4269498695773187, 0.5393050984134552, 0.2406653891948688, 0.7219961675846064, 0.30185917785799155, 0.18111550671479493, 0.4829746845727865, 0.8839377833401773, 0.13077279903553932, 0.05230911961421573, 0.7977140741167899, 0.9565003257353255, 0.9601149502692015, 0.948751103409811, 0.9084371737092289, 0.5235249579013197, 0.4728612522979662, 0.8865451312095456, 0.4660596733556069, 0.4971303182459807, 0.38067645788397675, 0.6046037860510218, 0.9043399199062978, 0.9445636633219961, 0.8856932536276046, 0.4913837376909703, 0.10609421609236859, 0.027919530550623312, 0.07817468554174528, 0.033503436660747975, 0.07259077943162061, 0.03908734277087264, 0.11167812220249325, 0.0446712488809973, 0.5456181866326968, 0.40921363997452265, 0.04092136399745226, 0.986859932962176, 0.3618937218382531, 0.6293803858056575, 0.8785825158387357, 0.7882332546185062, 0.0428387638379623, 0.01713550553518492, 0.07710977490833214, 0.02570325830277738, 0.01713550553518492, 0.02998713468657361, 0.9686484885253106, 0.5854892007392832, 0.39032613382618886, 0.9263593472606484, 0.5514286035531801, 0.07568627891906393, 0.3676190690354534, 0.8771016185518805, 0.390962294508027, 0.11170351271657915, 0.4468140508663166, 0.9201105846203803, 0.6590246994770063, 0.06817496891141443, 0.09847495509426529, 0.05302497581998901, 0.06817496891141443, 0.05302497581998901, 0.8948325117525489, 0.9195003055024946, 0.9596714195656553, 0.8580174530457786, 0.9537444217401835, 0.8924810328340974, 0.6409561150629554, 0.06746906474346899, 0.033734532371734495, 0.23614172660214144, 0.8859363190636742, 0.9255293357508726, 0.7550466288506112, 0.1484279697740518, 0.03872033994105699, 0.051627119921409316, 0.9466140830669666, 0.949195904424501, 0.8687914585353022, 0.9690804930045294, 0.9706074711355689, 0.9707346095226842, 0.49614133199310917, 0.4745699697325392, 0.945645520463563, 0.9556248993871664, 0.9795463035619988, 0.8545663428793951, 0.9442740397924219, 0.24966027935186605, 0.7281758147762759, 0.986349804106357, 0.9292439959017049, 0.3320432660439392, 0.4572399073391949, 0.11430997683479872, 0.09253664791388469, 0.29208335344713904, 0.5380482826657824, 0.16910088883781732, 0.3799163860658342, 0.5825384586342792, 0.14537019290455866, 0.7995360609750726, 0.9727440848137432, 0.16375325897228904, 0.798297137489909, 0.3361520743913676, 0.6417448692926109, 0.9240438708443731, 0.8767986213679557, 0.39706387030488316, 0.054767430386880436, 0.06845928798360054, 0.08215114558032065, 0.39706387030488316, 0.5453106153642692, 0.10386868864081318, 0.31160606592243956, 0.8918379245994784, 0.8062833705667003, 0.47430351222925377, 0.5081823345313433, 0.3764805344387253, 0.6081608633240947, 0.9483467211678833, 0.8938096022057234, 0.9500099118789322, 0.9343889360703403, 0.5059940910678211, 0.42814884628815636, 0.0389226223898324, 0.40589049064107796, 0.5798435580586828, 0.9713763134894948, 0.8646051873969451, 0.5333561500685602, 0.10667123001371204, 0.08000342251028403, 0.27556734420208945, 0.21662089685426406, 0.7040179147763582, 0.8880645042105854, 0.9523695786920693, 0.9239780022029883, 0.9087556552013035, 0.9236179022580948, 0.9303546640118348, 0.4153265193798583, 0.5606908011628087, 0.9508644077185395, 0.9258596440980645, 0.21828084839080225, 0.15591489170771589, 0.5924765884893204, 0.5383705618657174, 0.08112433124003962, 0.007374939203639966, 0.03687469601819983, 0.28762262894195867, 0.03687469601819983, 0.9494875299700858, 0.9543129761518415, 0.29184996232694865, 0.6566624152356345, 0.9649783722248637, 0.8568138606194429, 0.7742161869808938, 0.05777732738663386, 0.05777732738663386, 0.0808882583412874, 0.023110930954653545, 0.5592337056448711, 0.4194252792336533, 0.16182950996840806, 0.7686901723499382, 0.28978926354438705, 0.6761749482702364, 0.20430317020583968, 0.7718119763331721, 0.9676322488865833, 0.10283707543871212, 0.822696603509697, 0.9431331211005899, 0.20023505436975658, 0.7608932066050751, 0.10544622527365242, 0.8646590472439498, 0.19849092306538893, 0.7741145999550169, 0.2987823515213583, 0.6971588202165027, 0.9565977346922901, 0.8805712777920608, 0.8956015849307212, 0.9359042185126026, 0.8506576394138174, 0.37089290633686794, 0.6027009727974104, 0.6861611482508745, 0.2787529664769177, 0.8834719217747218, 0.8532661733598339, 0.1364172652169655, 0.8185035913017931, 0.40231860140574993, 0.5811268686971944, 0.2607790628159128, 0.7171424227437602, 0.9118566545982484, 0.9321906445858852, 0.8693011407725171, 0.8659774234693025, 0.9153693133294739, 0.5017408240153204, 0.39793237766732303, 0.0865070386233311, 0.9457443547180863, 0.5296559251342527, 0.12037634662142108, 0.337053770539979, 0.4354141658295827, 0.3918727492466244, 0.10885354145739567, 0.04354141658295827, 0.5473219111183928, 0.09382661333458163, 0.09382661333458163, 0.26584207111464797, 0.5657575672540491, 0.14548051729389835, 0.2747965326662524, 0.305414593089917, 0.6617316183614868, 0.9480397235772604, 0.19026156519716395, 0.7610462607886558, 0.3213291329688688, 0.07255819131555102, 0.13475092672888045, 0.09328910311999417, 0.37315641247997666, 0.23688908968938255, 0.7501487840163781, 0.8952030015873018, 0.89235108903614, 0.46272167784254825, 0.5230766793002719, 0.9242840449516048, 0.9272218866763388, 0.9422608138520341, 0.9458983390776162, 0.9136240159161102, 0.5593369759154784, 0.10169763198463243, 0.335602185549287, 0.9103548407032999, 0.4724773240454147, 0.5102755099690479, 0.9456794023523402, 0.9289415809377719, 0.9702199918570262, 0.93997210766209, 0.59976252422753, 0.32558537029494483, 0.06854428848314628, 0.8669129975325349, 0.8951750781228174, 0.08942141538077143, 0.19560934614543748, 0.29620843844880534, 0.05029954615168393, 0.11177676922596429, 0.24590889229712143, 0.03297045466208127, 0.9561431852003567, 0.9352405584359621, 0.9587303520293473, 0.8983415333079104, 0.013210904901586919, 0.07926542940952151, 0.462272508818661, 0.12675213951479414, 0.037280041033762985, 0.2609602872363409, 0.10438411489453636, 0.8399132295478852, 0.9851509890027496, 0.47688097872334895, 0.42303957789974506, 0.06153302951269019, 0.030766514756345096, 0.06893802843211425, 0.827256341185371, 0.8631403177024385, 0.20285025283293856, 0.7606884481235197, 0.9266962220737949, 0.9801017807998943, 0.9759071983310134, 0.37706111734005854, 0.6104799042648567, 0.8484959206770153, 0.48242178782036266, 0.39799797495179917, 0.09648435756407253, 0.0180908170432636, 0.44053495516507923, 0.5406565358844154, 0.8450861215292527, 0.955581623391996, 0.9222601721073722, 0.897651945869804, 0.1905139188430189, 0.7620556753720756, 0.9404953935561847, 0.9520757155393731, 0.8632583833542068, 0.719861064452577, 0.18349399682124512, 0.07057461416201735, 0.4516256191375311, 0.516143564728607, 0.888971626601129, 0.08334108999385584, 0.8385289212341022, 0.8937450019615, 0.5617305196343801, 0.4212978897257851, 0.9137561800608531, 0.9570963910579076, 0.012270466552024455, 0.012270466552024455, 0.9500666421303581, 0.034547877895649386, 0.6120022635473628, 0.2893101609496624, 0.08901851106143457, 0.37112984559241724, 0.09278246139810431, 0.046391230699052155, 0.08118465372334127, 0.4059232686167063, 0.951280383775613, 0.33121103937480123, 0.5441324218300306, 0.09463172553565749, 0.9675225659702236, 0.9521439521501207, 0.9712947118350036, 0.3925974682224552, 0.5737962997097422, 0.8466704801567353, 0.4083952151266265, 0.38437196717800143, 0.12011623974312545, 0.08408136782018781, 0.9445413436303951, 0.144125149873579, 0.7926883243046845, 0.8803098404651806, 0.7960116520886297, 0.10668197399125966, 0.04923783414981215, 0.041031528458176786, 0.9449167546770295, 0.36461146110500375, 0.6250482190371494, 0.9726226028945587, 0.30622713380362143, 0.6634921232411798, 0.5020448166557822, 0.04897998211275923, 0.44081983901483307, 0.9484426714468707, 0.9605298192821402, 0.3003478861465549, 0.6006957722931098, 0.09241473419893996, 0.09471087844827597, 0.8902822574137942, 0.9738339293181854, 0.9380646587715745], \"Term\": [\"absolute\", \"absolutely\", \"act\", \"ago\", \"ago\", \"agree\", \"agree\", \"air\", \"alive\", \"always\", \"always\", \"amazing\", \"amen\", \"america\", \"america\", \"america\", \"america\", \"america\", \"america great\", \"american\", \"american\", \"american\", \"american\", \"american\", \"animal\", \"another\", \"another\", \"another\", \"another\", \"another liberal\", \"answer\", \"answer\", \"anti\", \"anti american\", \"anyone\", \"anything\", \"arrest\", \"as\", \"ass\", \"ass\", \"ass\", \"ass\", \"asshole\", \"asshole\", \"away\", \"awesome\", \"awesome\", \"awesome\", \"back\", \"back\", \"bad\", \"bad\", \"bastard\", \"beautiful\", \"beautiful\", \"belief\", \"believe\", \"believe\", \"ben\", \"biden\", \"big\", \"big\", \"big\", \"big deal\", \"bird\", \"birthday\", \"bitch\", \"bitch\", \"bitch\", \"bite\", \"bless\", \"bless america\", \"bless family\", \"bless president\", \"bless thank\", \"block\", \"boy\", \"boy\", \"boy scout\", \"boycott\", \"boycott nfl\", \"brain\", \"break\", \"break\", \"break\", \"break law\", \"bring\", \"bring\", \"brother\", \"bullshit\", \"bullshit\", \"bully\", \"bunch\", \"burn\", \"burn\", \"ca\", \"call\", \"call\", \"call\", \"can\", \"can\", \"can not\", \"can not\", \"care\", \"care\", \"care\", \"carson\", \"catcher\", \"chelsea\", \"chicago\", \"chief\", \"christma\", \"city\", \"cj\", \"classy\", \"clue\", \"collusion\", \"com\", \"come\", \"come\", \"come\", \"comment\", \"comment\", \"common\", \"common sense\", \"complete\", \"congrat\", \"congratulation\", \"correct\", \"correct\", \"corrupt\", \"corrupt\", \"could\", \"could\", \"country\", \"country\", \"country\", \"course\", \"course\", \"court\", \"court\", \"cover\", \"cover\", \"coward\", \"crap\", \"crap\", \"crawl\", \"crazy\", \"crazy\", \"credit\", \"criminal\", \"criminal\", \"crook\", \"crooked\", \"daddy\", \"day\", \"dead\", \"dead\", \"death\", \"death\", \"death\", \"decision\", \"decision\", \"delusional\", \"democrat\", \"democrat\", \"democrat\", \"deplorable\", \"deplorable\", \"deport\", \"destroy\", \"destroy\", \"devil\", \"discharge\", \"disgusting\", \"disgusting\", \"dishonorable\", \"dishonorable discharge\", \"disney\", \"dnc\", \"do\", \"do\", \"donald\", \"donald\", \"donald trump\", \"donald trump\", \"dr\", \"dream\", \"drive\", \"dude\", \"due\", \"dumb\", \"dumb\", \"dumb\", \"dumbass\", \"eat\", \"enforcement\", \"espn\", \"even\", \"ever\", \"ever\", \"excellent\", \"execute\", \"expect\", \"faith\", \"fake\", \"false\", \"family\", \"family\", \"family\", \"family\", \"fat\", \"fault\", \"favorite\", \"fear\", \"federal\", \"federal\", \"federal\", \"feed\", \"feel\", \"fi\", \"field\", \"finally\", \"finally\", \"finally\", \"finally president\", \"find\", \"find\", \"finish\", \"fire\", \"fire\", \"first\", \"first\", \"first lady\", \"fit\", \"flag\", \"flake\", \"forever\", \"four\", \"fraud\", \"fuck\", \"full\", \"full\", \"game\", \"general\", \"get\", \"get\", \"get\", \"get\", \"get\", \"get\", \"girl\", \"girl\", \"girl\", \"girl\", \"girl scout\", \"girl scouts\", \"glad\", \"glad\", \"go\", \"go\", \"go\", \"go\", \"go\", \"go\", \"god\", \"god\", \"god\", \"god bless\", \"god help\", \"good\", \"good\", \"good\", \"good\", \"good\", \"good\", \"good\", \"good job\", \"good luck\", \"good man\", \"good riddance\", \"good work\", \"goodell\", \"government\", \"government\", \"gowdy\", \"great\", \"great\", \"great\", \"great\", \"great idea\", \"great job\", \"great president\", \"guilty\", \"guilty\", \"guy\", \"guy\", \"ha\", \"happen\", \"happen\", \"happen\", \"happy\", \"happy\", \"happy birthday\", \"harry\", \"harry\", \"hate\", \"hate\", \"head\", \"head\", \"hear\", \"hear\", \"hear\", \"heart\", \"heart\", \"heart\", \"hell\", \"hell\", \"hell yes\", \"hero\", \"hero\", \"hillary\", \"hillary\", \"hillary\", \"hope\", \"hope\", \"hope\", \"hope\", \"hopefully\", \"horse\", \"house\", \"house\", \"huckabee\", \"huge\", \"human\", \"human\", \"idiot\", \"idiot\", \"idiot\", \"idiot\", \"impeach\", \"individual\", \"interesting\", \"investigate\", \"jail\", \"jail\", \"jail\", \"jealous\", \"job\", \"job\", \"john\", \"johns\", \"judge\", \"judge\", \"judge moore\", \"justice\", \"justice\", \"karma\", \"kathy\", \"keep good\", \"kick\", \"kick\", \"kid\", \"kid\", \"kid\", \"kiss\", \"know\", \"know\", \"know go\", \"lady\", \"lady\", \"law\", \"law\", \"law\", \"law\", \"leadership\", \"leave\", \"leave\", \"legal\", \"lesson\", \"let\", \"let\", \"let\", \"let\", \"liar\", \"liar\", \"lib\", \"liberal\", \"liberal\", \"liberal\", \"libtard\", \"life\", \"life\", \"like\", \"like\", \"like\", \"like\", \"like\", \"little\", \"little\", \"lock\", \"lock\", \"lol\", \"lol\", \"long\", \"long\", \"long time\", \"look\", \"look\", \"look\", \"look\", \"lose\", \"lose\", \"lose\", \"loser\", \"love\", \"love\", \"love\", \"love\", \"love president\", \"low life\", \"luck\", \"major\", \"make\", \"make\", \"make\", \"make\", \"make\", \"make\", \"make america\", \"make sense\", \"man\", \"man\", \"man\", \"man\", \"man\", \"man woman\", \"marine\", \"matt\", \"may\", \"may\", \"may god\", \"mayor\", \"mccain\", \"mccain\", \"mean\", \"medium\", \"meet\", \"melania\", \"mental\", \"merry\", \"merry christma\", \"michael\", \"michelle\", \"miss\", \"miss\", \"mistake\", \"model\", \"money\", \"money\", \"moore\", \"moore\", \"moron\", \"moron\", \"mouth\", \"mouth\", \"mouth\", \"movie\", \"mr\", \"mr\", \"mr\", \"mr gowdy\", \"mr president\", \"mrs\", \"mrs trump\", \"much\", \"much\", \"music\", \"muslim\", \"muslim\", \"must\", \"must\", \"nail\", \"name\", \"nancy\", \"need\", \"need\", \"need\", \"need\", \"need\", \"need\", \"need\", \"need\", \"need\", \"never\", \"never\", \"never\", \"news\", \"nfl\", \"nfl\", \"nordstrom\", \"not\", \"not\", \"not\", \"not\", \"not\", \"not\", \"not\", \"not care\", \"nothing\", \"nothing\", \"nursing\", \"obama\", \"obama\", \"obama\", \"obamas\", \"oh\", \"oh\", \"oh\", \"omg\", \"one\", \"one\", \"one\", \"one\", \"one\", \"one\", \"papa\", \"pardon\", \"party\", \"pat\", \"pathetic\", \"patriotic\", \"pay\", \"pay\", \"pay\", \"pay\", \"peace\", \"penalty\", \"people\", \"people\", \"people\", \"people\", \"perfect\", \"pervert\", \"peter\", \"pig\", \"play\", \"player\", \"please\", \"please\", \"poll\", \"pope\", \"pos\", \"positive\", \"potus\", \"pray\", \"pray\", \"prayer\", \"pre\", \"president\", \"president\", \"president\", \"president\", \"president trump\", \"president trump\", \"president trump\", \"prison\", \"prison\", \"program\", \"program\", \"prosecute\", \"proud\", \"proud\", \"prove\", \"prove\", \"pure\", \"pussy\", \"put\", \"put\", \"put\", \"put\", \"put\", \"racist\", \"racist\", \"racist\", \"rag\", \"rapist\", \"really\", \"really\", \"reason\", \"reason\", \"receive\", \"reid\", \"republican\", \"require\", \"respect\", \"respect\", \"respect\", \"rest\", \"rest\", \"retire\", \"riddance\", \"right\", \"right\", \"right\", \"right\", \"rock\", \"rock\", \"role\", \"roll\", \"room\", \"rot\", \"rubio\", \"rule\", \"run\", \"run\", \"sanctuary\", \"sanctuary city\", \"sarah\", \"sarah\", \"sarah\", \"say\", \"say\", \"say\", \"say\", \"say\", \"say\", \"school\", \"scouts\", \"screw\", \"screw\", \"scum\", \"security\", \"see\", \"see\", \"see\", \"see\", \"see\", \"send\", \"send\", \"sense\", \"sense\", \"serve\", \"serve\", \"service\", \"service\", \"session\", \"share\", \"share\", \"sheriff\", \"shoot\", \"shoot\", \"shut\", \"shut\", \"sick\", \"sick\", \"side\", \"side\", \"sir\", \"sister\", \"smell\", \"smith\", \"smoke\", \"snowflake\", \"snowflake\", \"something\", \"something\", \"somewhere\", \"sooner\", \"soro\", \"soro\", \"sorry\", \"sorry\", \"speak\", \"speak\", \"speak truth\", \"special\", \"sponsor\", \"spot\", \"staff\", \"stand\", \"stand\", \"stand\", \"standard\", \"start\", \"start\", \"start\", \"state\", \"state\", \"state\", \"state\", \"still\", \"still\", \"still\", \"still\", \"stop\", \"stop\", \"stop\", \"store\", \"store\", \"story\", \"strong\", \"strong\", \"stupid\", \"stupid\", \"stupid\", \"stupid\", \"stupid\", \"suck\", \"suck\", \"sue\", \"suffer\", \"support\", \"support\", \"supreme\", \"surprise\", \"suspend\", \"swamp\", \"sweet\", \"take\", \"take\", \"take\", \"talent\", \"talk\", \"talk\", \"taxpayer\", \"taxpayer money\", \"teacher\", \"team\", \"tell\", \"tell\", \"tell\", \"tell like\", \"texas\", \"thank\", \"thank\", \"thank\", \"thank\", \"thank\", \"thank\", \"thank god\", \"thank god\", \"thank mr\", \"thank service\", \"thing\", \"thing\", \"thing\", \"think\", \"think\", \"think\", \"think\", \"think\", \"thought\", \"throw\", \"time\", \"time\", \"time\", \"time\", \"touch\", \"touch\", \"town\", \"trash\", \"trash\", \"treason\", \"trey\", \"trey gowdy\", \"true\", \"true\", \"true american\", \"trump\", \"trump\", \"trump\", \"trump\", \"truth\", \"truth\", \"twice\", \"two\", \"typical\", \"ugly\", \"ungrateful\", \"ungrateful\", \"united\", \"united state\", \"university\", \"us\", \"us\", \"us\", \"usa\", \"usa\", \"use\", \"use\", \"useless\", \"visit\", \"vote\", \"vote\", \"wall\", \"want\", \"want\", \"want\", \"watch\", \"watch\", \"way\", \"way\", \"way\", \"well\", \"well\", \"well\", \"well\", \"well\", \"well say\", \"white\", \"white\", \"white\", \"white house\", \"will\", \"will not\", \"win\", \"win\", \"witness\", \"woman\", \"woman\", \"woman\", \"woman\", \"wonderful\", \"worth\", \"worth\", \"worthless\", \"would\", \"would\", \"would\", \"would\", \"would like\", \"wow\", \"wow\", \"wrong\", \"yeah\", \"yeah\", \"year\", \"year\", \"year\", \"year ago\", \"yep\", \"yes\", \"yes\", \"yes\", \"young\", \"young\", \"young man\", \"yrs\"]}, \"R\": 30, \"lambda.step\": 0.01, \"plot.opts\": {\"xlab\": \"PC1\", \"ylab\": \"PC2\"}, \"topic.order\": [6, 4, 1, 9, 10, 7, 3, 5, 8, 2]};\n",
       "\n",
       "function LDAvis_load_lib(url, callback){\n",
       "  var s = document.createElement('script');\n",
       "  s.src = url;\n",
       "  s.async = true;\n",
       "  s.onreadystatechange = s.onload = callback;\n",
       "  s.onerror = function(){console.warn(\"failed to load library \" + url);};\n",
       "  document.getElementsByTagName(\"head\")[0].appendChild(s);\n",
       "}\n",
       "\n",
       "if(typeof(LDAvis) !== \"undefined\"){\n",
       "   // already loaded: just create the visualization\n",
       "   !function(LDAvis){\n",
       "       new LDAvis(\"#\" + \"ldavis_el5994648095351844049341374\", ldavis_el5994648095351844049341374_data);\n",
       "   }(LDAvis);\n",
       "}else if(typeof define === \"function\" && define.amd){\n",
       "   // require.js is available: use it to load d3/LDAvis\n",
       "   require.config({paths: {d3: \"https://cdnjs.cloudflare.com/ajax/libs/d3/3.5.5/d3.min\"}});\n",
       "   require([\"d3\"], function(d3){\n",
       "      window.d3 = d3;\n",
       "      LDAvis_load_lib(\"https://cdn.rawgit.com/bmabey/pyLDAvis/files/ldavis.v1.0.0.js\", function(){\n",
       "        new LDAvis(\"#\" + \"ldavis_el5994648095351844049341374\", ldavis_el5994648095351844049341374_data);\n",
       "      });\n",
       "    });\n",
       "}else{\n",
       "    // require.js not available: dynamically load d3 & LDAvis\n",
       "    LDAvis_load_lib(\"https://cdnjs.cloudflare.com/ajax/libs/d3/3.5.5/d3.min.js\", function(){\n",
       "         LDAvis_load_lib(\"https://cdn.rawgit.com/bmabey/pyLDAvis/files/ldavis.v1.0.0.js\", function(){\n",
       "                 new LDAvis(\"#\" + \"ldavis_el5994648095351844049341374\", ldavis_el5994648095351844049341374_data);\n",
       "            })\n",
       "         });\n",
       "}\n",
       "</script>"
      ],
      "text/plain": [
       "PreparedData(topic_coordinates=            Freq  cluster  topics         x         y\n",
       "topic                                                \n",
       "5      45.363030        1       1 -0.072130  0.037224\n",
       "3       9.639198        1       2 -0.224218  0.004032\n",
       "0       7.906494        1       3 -0.175515 -0.252115\n",
       "8       7.267331        1       4 -0.102135  0.209348\n",
       "9       6.073316        1       5 -0.035744  0.050897\n",
       "6       5.646729        1       6  0.012989 -0.012277\n",
       "2       4.940635        1       7  0.085925  0.158411\n",
       "4       4.424897        1       8  0.186620 -0.063629\n",
       "7       4.399439        1       9  0.142621 -0.126070\n",
       "1       4.338930        1      10  0.181587 -0.005822, topic_info=     Category        Freq            Term       Total  loglift  logprob\n",
       "term                                                                   \n",
       "703   Default  181.000000             god  181.000000  30.0000  30.0000\n",
       "183   Default  130.000000           bless  130.000000  29.0000  29.0000\n",
       "704   Default  115.000000       god bless  115.000000  28.0000  28.0000\n",
       "969   Default   99.000000         liberal   99.000000  27.0000  27.0000\n",
       "1104  Default   84.000000           money   84.000000  26.0000  26.0000\n",
       "1757  Default  178.000000           thank  178.000000  25.0000  25.0000\n",
       "1377  Default  183.000000       president  183.000000  24.0000  24.0000\n",
       "733   Default  123.000000           great  123.000000  23.0000  23.0000\n",
       "255   Default   82.000000            care   82.000000  22.0000  22.0000\n",
       "1116  Default   76.000000              mr   76.000000  21.0000  21.0000\n",
       "778   Default   72.000000            hell   72.000000  20.0000  20.0000\n",
       "36    Default   71.000000           agree   71.000000  19.0000  19.0000\n",
       "1793  Default  130.000000            time  130.000000  18.0000  18.0000\n",
       "874   Default   70.000000            jail   70.000000  17.0000  17.0000\n",
       "1829  Default  165.000000           trump  165.000000  16.0000  16.0000\n",
       "1535  Default  135.000000             say  135.000000  15.0000  15.0000\n",
       "1014  Default  137.000000            love  137.000000  14.0000  14.0000\n",
       "1696  Default   96.000000          stupid   96.000000  13.0000  13.0000\n",
       "1497  Default  112.000000           right  112.000000  12.0000  12.0000\n",
       "1047  Default  145.000000             man  145.000000  11.0000  11.0000\n",
       "689   Default  198.000000              go  198.000000  10.0000  10.0000\n",
       "895   Default   53.000000           judge   53.000000   9.0000   9.0000\n",
       "6     Default   51.000000      absolutely   51.000000   8.0000   8.0000\n",
       "1125  Default   59.000000            much   59.000000   7.0000   7.0000\n",
       "1170  Default   63.000000             nfl   63.000000   6.0000   6.0000\n",
       "108   Default   74.000000             ass   74.000000   5.0000   5.0000\n",
       "709   Default  211.000000            good  211.000000   4.0000   4.0000\n",
       "1370  Default   50.000000          prayer   50.000000   3.0000   3.0000\n",
       "604   Default   51.000000            fire   51.000000   2.0000   2.0000\n",
       "1596  Default   50.000000            sick   50.000000   1.0000   1.0000\n",
       "...       ...         ...             ...         ...      ...      ...\n",
       "1702  Topic10   11.306795          suffer   12.326987   3.0512  -4.7958\n",
       "1071  Topic10   11.163015            meet   12.183188   3.0501  -4.8086\n",
       "1301  Topic10   10.864935         penalty   11.885091   3.0478  -4.8356\n",
       "581   Topic10   10.049695            fear   11.069879   3.0409  -4.9136\n",
       "1862  Topic10    9.405437      university   10.425616   3.0346  -4.9799\n",
       "1121  Topic10    8.887005       mrs trump    9.907124   3.0289  -5.0366\n",
       "1511  Topic10    8.883499             rot    9.903652   3.0288  -5.0370\n",
       "313   Topic10    8.828943            clue    9.849091   3.0282  -5.0431\n",
       "1666  Topic10    8.811889           staff    9.832097   3.0280  -5.0451\n",
       "1420  Topic10    8.719601            pure    9.739797   3.0269  -5.0556\n",
       "1225  Topic10    8.695328         nursing    9.715452   3.0266  -5.0584\n",
       "1740  Topic10    8.668310  taxpayer money    9.688446   3.0263  -5.0615\n",
       "513   Topic10    8.533425     enforcement    9.553550   3.0246  -5.0772\n",
       "1956  Topic10    8.428571         witness    9.448776   3.0233  -5.0895\n",
       "706   Topic10    8.393776        god help    9.413944   3.0228  -5.0937\n",
       "1641  Topic10    8.355591          sooner    9.375738   3.0223  -5.0982\n",
       "233   Topic10   25.228488            burn   30.608613   2.9442  -3.9932\n",
       "874   Topic10   49.457806            jail   70.895250   2.7775  -3.3200\n",
       "1104  Topic10   55.142468           money   84.740476   2.7079  -3.2112\n",
       "1397  Topic10   11.271789         program   13.757979   2.9382  -4.7989\n",
       "1644  Topic10   25.931842           sorry   44.740661   2.5921  -3.9657\n",
       "409   Topic10   17.812068           death   27.667925   2.6971  -4.3413\n",
       "775   Topic10   20.692735           heart   34.946403   2.6135  -4.1914\n",
       "230   Topic10   16.141986        bullshit   24.210611   2.7322  -4.4397\n",
       "1061  Topic10   25.471351             may   50.441575   2.4543  -3.9836\n",
       "1125  Topic10   27.639955            much   59.213987   2.3756  -3.9019\n",
       "1423  Topic10   28.577001             put   73.036109   2.1992  -3.8686\n",
       "582   Topic10   12.333628         federal   22.476504   2.5374  -4.7088\n",
       "726   Topic10   13.418425      government   32.993899   2.2378  -4.6245\n",
       "1670  Topic10   13.880595           start   41.536399   2.0415  -4.5907\n",
       "\n",
       "[554 rows x 6 columns], token_table=      Topic      Freq             Term\n",
       "term                                  \n",
       "5         9  0.894319         absolute\n",
       "6         7  0.978393       absolutely\n",
       "18        1  0.959858              act\n",
       "35        1  0.142336              ago\n",
       "35        4  0.806573              ago\n",
       "36        1  0.196606            agree\n",
       "36        6  0.800467            agree\n",
       "40        4  0.955278              air\n",
       "45        6  0.947406            alive\n",
       "55        1  0.554158           always\n",
       "55        2  0.435410           always\n",
       "57        9  0.978453          amazing\n",
       "58        2  0.976023             amen\n",
       "59        1  0.411918          america\n",
       "59        2  0.321497          america\n",
       "59        3  0.170795          america\n",
       "59        4  0.050234          america\n",
       "59        5  0.050234          america\n",
       "61        2  0.920035    america great\n",
       "62        1  0.682910         american\n",
       "62        2  0.063232         american\n",
       "62        4  0.050586         american\n",
       "62        5  0.050586         american\n",
       "62        6  0.126465         american\n",
       "70        2  0.803873           animal\n",
       "72        1  0.503520          another\n",
       "72        2  0.071931          another\n",
       "72        3  0.086318          another\n",
       "72        5  0.316499          another\n",
       "75        9  0.867824  another liberal\n",
       "...     ...       ...              ...\n",
       "1957      1  0.408395            woman\n",
       "1957      3  0.384372            woman\n",
       "1957      4  0.120116            woman\n",
       "1957      6  0.084081            woman\n",
       "1959      1  0.944541        wonderful\n",
       "1965      1  0.144125            worth\n",
       "1965      7  0.792688            worth\n",
       "1966      7  0.880310        worthless\n",
       "1967      1  0.796012            would\n",
       "1967      2  0.106682            would\n",
       "1967      4  0.049238            would\n",
       "1967      5  0.041032            would\n",
       "1971      8  0.944917       would like\n",
       "1978      1  0.364611              wow\n",
       "1978      2  0.625048              wow\n",
       "1980      1  0.972623            wrong\n",
       "1986      1  0.306227             yeah\n",
       "1986      7  0.663492             yeah\n",
       "1987      1  0.502045             year\n",
       "1987      2  0.048980             year\n",
       "1987      4  0.440820             year\n",
       "1988      4  0.948443         year ago\n",
       "1991      7  0.960530              yep\n",
       "1992      1  0.300348              yes\n",
       "1992      2  0.600696              yes\n",
       "1992      7  0.092415              yes\n",
       "1997      1  0.094711            young\n",
       "1997      3  0.890282            young\n",
       "1998      3  0.973834        young man\n",
       "2002      8  0.938065              yrs\n",
       "\n",
       "[849 rows x 3 columns], R=30, lambda_step=0.01, plot_opts={'xlab': 'PC1', 'ylab': 'PC2'}, topic_order=[6, 4, 1, 9, 10, 7, 3, 5, 8, 2])"
      ]
     },
     "execution_count": 63,
     "metadata": {},
     "output_type": "execute_result"
    }
   ],
   "source": [
    "pyLDAvis.sklearn.prepare(lda_model, dtm_tfidf, tfidf_vectorizer, mds='PCoA')"
   ]
  },
  {
   "cell_type": "code",
   "execution_count": 42,
   "metadata": {
    "collapsed": true
   },
   "outputs": [],
   "source": [
    "df['tfidf_cluster']=df.clean_message.apply(lambda x: get_cluster(model=lda_model,vectorizer=tfidf_vectorizer,text=x))\n",
    "df['tfidf_cluster_prob']=df.clean_message.apply(lambda x: get_cluster_prob(model=lda_model,vectorizer=tfidf_vectorizer,text=x))"
   ]
  },
  {
   "cell_type": "code",
   "execution_count": 43,
   "metadata": {},
   "outputs": [
    {
     "data": {
      "image/png": "[encoded data removed]",
      "text/plain": [
       "<matplotlib.figure.Figure at 0x11dd260f0>"
      ]
     },
     "metadata": {
      "image/png": {
       "height": 262,
       "width": 802
      }
     },
     "output_type": "display_data"
    }
   ],
   "source": [
    "top_10_docs=df[df.tfidf_cluster==1][['clean_message','tfidf_cluster_prob']].sort_values(by='tfidf_cluster_prob',ascending=False).tail(5)\n",
    "sbs.barplot(x='tfidf_cluster_prob', y='clean_message', data=top_10_docs);"
   ]
  },
  {
   "cell_type": "code",
   "execution_count": 28,
   "metadata": {},
   "outputs": [
    {
     "data": {
      "text/plain": [
       "'Happy Birthday to all my Brothers and Sisters  Semper Fi'"
      ]
     },
     "execution_count": 28,
     "metadata": {},
     "output_type": "execute_result"
    }
   ],
   "source": [
    "df[df.tfidf_cluster==1].loc[983,'clean_message']"
   ]
  },
  {
   "cell_type": "code",
   "execution_count": 44,
   "metadata": {},
   "outputs": [
    {
     "data": {
      "text/html": [
       "<div>\n",
       "<style>\n",
       "    .dataframe thead tr:only-child th {\n",
       "        text-align: right;\n",
       "    }\n",
       "\n",
       "    .dataframe thead th {\n",
       "        text-align: left;\n",
       "    }\n",
       "\n",
       "    .dataframe tbody tr th {\n",
       "        vertical-align: top;\n",
       "    }\n",
       "</style>\n",
       "<table border=\"1\" class=\"dataframe\">\n",
       "  <thead>\n",
       "    <tr style=\"text-align: right;\">\n",
       "      <th></th>\n",
       "      <th>clean_message</th>\n",
       "      <th>tfidf_cluster_prob</th>\n",
       "    </tr>\n",
       "  </thead>\n",
       "  <tbody>\n",
       "    <tr>\n",
       "      <th>7162</th>\n",
       "      <td>Thank God for President Trump  God bless America</td>\n",
       "      <td>0.778334</td>\n",
       "    </tr>\n",
       "    <tr>\n",
       "      <th>6711</th>\n",
       "      <td>God bless you and your loving wife and family ...</td>\n",
       "      <td>0.772176</td>\n",
       "    </tr>\n",
       "    <tr>\n",
       "      <th>3066</th>\n",
       "      <td>Good for Tomi Lahren love her she has good old...</td>\n",
       "      <td>0.771219</td>\n",
       "    </tr>\n",
       "    <tr>\n",
       "      <th>6998</th>\n",
       "      <td>What a wise young man  thank you  God bless</td>\n",
       "      <td>0.771213</td>\n",
       "    </tr>\n",
       "    <tr>\n",
       "      <th>704</th>\n",
       "      <td>GOD BLESS OUR PRESIDENT TRUMP AND HIS WIFE AND...</td>\n",
       "      <td>0.770624</td>\n",
       "    </tr>\n",
       "    <tr>\n",
       "      <th>2811</th>\n",
       "      <td>God Bless America           What a beautiful s...</td>\n",
       "      <td>0.770463</td>\n",
       "    </tr>\n",
       "    <tr>\n",
       "      <th>7070</th>\n",
       "      <td>Everything  that  needs to be  said  God  Bles...</td>\n",
       "      <td>0.761197</td>\n",
       "    </tr>\n",
       "    <tr>\n",
       "      <th>7279</th>\n",
       "      <td>God bless you and God bless the United States ...</td>\n",
       "      <td>0.760644</td>\n",
       "    </tr>\n",
       "    <tr>\n",
       "      <th>7614</th>\n",
       "      <td>So beautiful God bless all who participated in...</td>\n",
       "      <td>0.751138</td>\n",
       "    </tr>\n",
       "    <tr>\n",
       "      <th>321</th>\n",
       "      <td>Ok Then God Bless America we that one</td>\n",
       "      <td>0.748928</td>\n",
       "    </tr>\n",
       "    <tr>\n",
       "      <th>6724</th>\n",
       "      <td>God bless you  President Trump  🙏🏽</td>\n",
       "      <td>0.748647</td>\n",
       "    </tr>\n",
       "    <tr>\n",
       "      <th>9183</th>\n",
       "      <td>My God bless you and President Trumps  From Le...</td>\n",
       "      <td>0.748647</td>\n",
       "    </tr>\n",
       "    <tr>\n",
       "      <th>7973</th>\n",
       "      <td>God Bless you President Trump🇺🇸🇺🇸🇺🇸</td>\n",
       "      <td>0.748647</td>\n",
       "    </tr>\n",
       "    <tr>\n",
       "      <th>12406</th>\n",
       "      <td>God Bless you President Trump</td>\n",
       "      <td>0.748647</td>\n",
       "    </tr>\n",
       "    <tr>\n",
       "      <th>7990</th>\n",
       "      <td>God Bless you  President Trump</td>\n",
       "      <td>0.748647</td>\n",
       "    </tr>\n",
       "    <tr>\n",
       "      <th>7144</th>\n",
       "      <td>God bless our president Trump</td>\n",
       "      <td>0.748647</td>\n",
       "    </tr>\n",
       "    <tr>\n",
       "      <th>7149</th>\n",
       "      <td>God bless president Trump</td>\n",
       "      <td>0.748647</td>\n",
       "    </tr>\n",
       "    <tr>\n",
       "      <th>7125</th>\n",
       "      <td>God bless President Trump</td>\n",
       "      <td>0.748647</td>\n",
       "    </tr>\n",
       "    <tr>\n",
       "      <th>6739</th>\n",
       "      <td>God bless President Trump</td>\n",
       "      <td>0.748647</td>\n",
       "    </tr>\n",
       "    <tr>\n",
       "      <th>12031</th>\n",
       "      <td>Glad she is doing better  God bless her and he...</td>\n",
       "      <td>0.748336</td>\n",
       "    </tr>\n",
       "    <tr>\n",
       "      <th>7035</th>\n",
       "      <td>I like smart people and CJ is one smart young ...</td>\n",
       "      <td>0.748213</td>\n",
       "    </tr>\n",
       "    <tr>\n",
       "      <th>7321</th>\n",
       "      <td>Now thats respect for all to see BLESS THESE y...</td>\n",
       "      <td>0.748210</td>\n",
       "    </tr>\n",
       "    <tr>\n",
       "      <th>7319</th>\n",
       "      <td>God bless these young men</td>\n",
       "      <td>0.747209</td>\n",
       "    </tr>\n",
       "    <tr>\n",
       "      <th>7668</th>\n",
       "      <td>God Bless this young man</td>\n",
       "      <td>0.747209</td>\n",
       "    </tr>\n",
       "    <tr>\n",
       "      <th>7291</th>\n",
       "      <td>God bless these young men</td>\n",
       "      <td>0.747209</td>\n",
       "    </tr>\n",
       "    <tr>\n",
       "      <th>2328</th>\n",
       "      <td>Well the apple dont fall to far from the tree</td>\n",
       "      <td>0.746428</td>\n",
       "    </tr>\n",
       "    <tr>\n",
       "      <th>11673</th>\n",
       "      <td>Get out of America     God bless America forever</td>\n",
       "      <td>0.743371</td>\n",
       "    </tr>\n",
       "    <tr>\n",
       "      <th>10175</th>\n",
       "      <td>Another dumb ass Hollywood politician  Shes du...</td>\n",
       "      <td>0.741966</td>\n",
       "    </tr>\n",
       "    <tr>\n",
       "      <th>7285</th>\n",
       "      <td>Congratulations young men  stay strong</td>\n",
       "      <td>0.737013</td>\n",
       "    </tr>\n",
       "    <tr>\n",
       "      <th>7005</th>\n",
       "      <td>Only one word descibes this young man   Awesome</td>\n",
       "      <td>0.736808</td>\n",
       "    </tr>\n",
       "    <tr>\n",
       "      <th>...</th>\n",
       "      <td>...</td>\n",
       "      <td>...</td>\n",
       "    </tr>\n",
       "    <tr>\n",
       "      <th>7325</th>\n",
       "      <td>Good for yall    God Bless</td>\n",
       "      <td>0.699121</td>\n",
       "    </tr>\n",
       "    <tr>\n",
       "      <th>854</th>\n",
       "      <td>That is because Obama was an embarrassment to ...</td>\n",
       "      <td>0.699047</td>\n",
       "    </tr>\n",
       "    <tr>\n",
       "      <th>2805</th>\n",
       "      <td>Why only   Are the other ok with sexual harass...</td>\n",
       "      <td>0.698969</td>\n",
       "    </tr>\n",
       "    <tr>\n",
       "      <th>7847</th>\n",
       "      <td>Ive seen those babies in person once   Its so ...</td>\n",
       "      <td>0.698705</td>\n",
       "    </tr>\n",
       "    <tr>\n",
       "      <th>1380</th>\n",
       "      <td>THE OLD FOOL SNOW FLAKE</td>\n",
       "      <td>0.698040</td>\n",
       "    </tr>\n",
       "    <tr>\n",
       "      <th>7361</th>\n",
       "      <td>Beautiful  God bless them</td>\n",
       "      <td>0.697936</td>\n",
       "    </tr>\n",
       "    <tr>\n",
       "      <th>7003</th>\n",
       "      <td>This is A very SMART Young Man</td>\n",
       "      <td>0.697907</td>\n",
       "    </tr>\n",
       "    <tr>\n",
       "      <th>7043</th>\n",
       "      <td>smart young man   You are awestome</td>\n",
       "      <td>0.697907</td>\n",
       "    </tr>\n",
       "    <tr>\n",
       "      <th>7023</th>\n",
       "      <td>I love this young man</td>\n",
       "      <td>0.697894</td>\n",
       "    </tr>\n",
       "    <tr>\n",
       "      <th>1055</th>\n",
       "      <td>Your awesome Matthew  God Bless</td>\n",
       "      <td>0.697755</td>\n",
       "    </tr>\n",
       "    <tr>\n",
       "      <th>7000</th>\n",
       "      <td>A very bright young man  Thank you</td>\n",
       "      <td>0.697593</td>\n",
       "    </tr>\n",
       "    <tr>\n",
       "      <th>8126</th>\n",
       "      <td>Fight it   God Bless</td>\n",
       "      <td>0.697342</td>\n",
       "    </tr>\n",
       "    <tr>\n",
       "      <th>5052</th>\n",
       "      <td>You suck Obama  you brought this country down</td>\n",
       "      <td>0.697140</td>\n",
       "    </tr>\n",
       "    <tr>\n",
       "      <th>4478</th>\n",
       "      <td>Just another Chelsea blowing in the wind</td>\n",
       "      <td>0.697025</td>\n",
       "    </tr>\n",
       "    <tr>\n",
       "      <th>2771</th>\n",
       "      <td>God bless you for having a heart</td>\n",
       "      <td>0.696941</td>\n",
       "    </tr>\n",
       "    <tr>\n",
       "      <th>9402</th>\n",
       "      <td>AWESOME THANK YOU FOR EVERY WORD THAT YOU spok...</td>\n",
       "      <td>0.696931</td>\n",
       "    </tr>\n",
       "    <tr>\n",
       "      <th>247</th>\n",
       "      <td>The President loves and respects our Military ...</td>\n",
       "      <td>0.696703</td>\n",
       "    </tr>\n",
       "    <tr>\n",
       "      <th>7355</th>\n",
       "      <td>Good young men refreshing</td>\n",
       "      <td>0.696437</td>\n",
       "    </tr>\n",
       "    <tr>\n",
       "      <th>873</th>\n",
       "      <td>Thank you for the common sense</td>\n",
       "      <td>0.696235</td>\n",
       "    </tr>\n",
       "    <tr>\n",
       "      <th>7033</th>\n",
       "      <td>A very intelligent young man</td>\n",
       "      <td>0.695941</td>\n",
       "    </tr>\n",
       "    <tr>\n",
       "      <th>4903</th>\n",
       "      <td>Trump is a business man and Obama was a divide...</td>\n",
       "      <td>0.695559</td>\n",
       "    </tr>\n",
       "    <tr>\n",
       "      <th>800</th>\n",
       "      <td>Not in my family  were Irish Catholic  Maybe S...</td>\n",
       "      <td>0.695448</td>\n",
       "    </tr>\n",
       "    <tr>\n",
       "      <th>3368</th>\n",
       "      <td>Congratulations  God Bless Your Wedding</td>\n",
       "      <td>0.695322</td>\n",
       "    </tr>\n",
       "    <tr>\n",
       "      <th>8830</th>\n",
       "      <td>Congratulations and God bless</td>\n",
       "      <td>0.695322</td>\n",
       "    </tr>\n",
       "    <tr>\n",
       "      <th>7817</th>\n",
       "      <td>Your awesome  Thank you for sharing</td>\n",
       "      <td>0.695172</td>\n",
       "    </tr>\n",
       "    <tr>\n",
       "      <th>3086</th>\n",
       "      <td>Bless  him an his family  love them</td>\n",
       "      <td>0.694830</td>\n",
       "    </tr>\n",
       "    <tr>\n",
       "      <th>11195</th>\n",
       "      <td>Bill tells you like it is</td>\n",
       "      <td>0.694623</td>\n",
       "    </tr>\n",
       "    <tr>\n",
       "      <th>7814</th>\n",
       "      <td>Telling it like it is  amen</td>\n",
       "      <td>0.692768</td>\n",
       "    </tr>\n",
       "    <tr>\n",
       "      <th>9487</th>\n",
       "      <td>God bless you Stacy   God love you and we too</td>\n",
       "      <td>0.692466</td>\n",
       "    </tr>\n",
       "    <tr>\n",
       "      <th>9215</th>\n",
       "      <td>God bless them all  Amen</td>\n",
       "      <td>0.692011</td>\n",
       "    </tr>\n",
       "  </tbody>\n",
       "</table>\n",
       "<p>100 rows × 2 columns</p>\n",
       "</div>"
      ],
      "text/plain": [
       "                                           clean_message  tfidf_cluster_prob\n",
       "7162    Thank God for President Trump  God bless America            0.778334\n",
       "6711   God bless you and your loving wife and family ...            0.772176\n",
       "3066   Good for Tomi Lahren love her she has good old...            0.771219\n",
       "6998       What a wise young man  thank you  God bless              0.771213\n",
       "704    GOD BLESS OUR PRESIDENT TRUMP AND HIS WIFE AND...            0.770624\n",
       "2811   God Bless America           What a beautiful s...            0.770463\n",
       "7070   Everything  that  needs to be  said  God  Bles...            0.761197\n",
       "7279   God bless you and God bless the United States ...            0.760644\n",
       "7614   So beautiful God bless all who participated in...            0.751138\n",
       "321                Ok Then God Bless America we that one            0.748928\n",
       "6724                  God bless you  President Trump  🙏🏽            0.748647\n",
       "9183   My God bless you and President Trumps  From Le...            0.748647\n",
       "7973                 God Bless you President Trump🇺🇸🇺🇸🇺🇸            0.748647\n",
       "12406                     God Bless you President Trump             0.748647\n",
       "7990                      God Bless you  President Trump            0.748647\n",
       "7144                       God bless our president Trump            0.748647\n",
       "7149                          God bless president Trump             0.748647\n",
       "7125                           God bless President Trump            0.748647\n",
       "6739                       God bless President Trump                0.748647\n",
       "12031  Glad she is doing better  God bless her and he...            0.748336\n",
       "7035   I like smart people and CJ is one smart young ...            0.748213\n",
       "7321   Now thats respect for all to see BLESS THESE y...            0.748210\n",
       "7319                          God bless these young men             0.747209\n",
       "7668                         God Bless this young man               0.747209\n",
       "7291                         God bless these young men              0.747209\n",
       "2328       Well the apple dont fall to far from the tree            0.746428\n",
       "11673  Get out of America     God bless America forever             0.743371\n",
       "10175  Another dumb ass Hollywood politician  Shes du...            0.741966\n",
       "7285             Congratulations young men  stay strong             0.737013\n",
       "7005    Only one word descibes this young man   Awesome             0.736808\n",
       "...                                                  ...                 ...\n",
       "7325                          Good for yall    God Bless            0.699121\n",
       "854    That is because Obama was an embarrassment to ...            0.699047\n",
       "2805   Why only   Are the other ok with sexual harass...            0.698969\n",
       "7847   Ive seen those babies in person once   Its so ...            0.698705\n",
       "1380                          THE OLD FOOL SNOW FLAKE               0.698040\n",
       "7361                          Beautiful  God bless them             0.697936\n",
       "7003                      This is A very SMART Young Man            0.697907\n",
       "7043                  smart young man   You are awestome            0.697907\n",
       "7023                           I love this young man                0.697894\n",
       "1055                     Your awesome Matthew  God Bless            0.697755\n",
       "7000                 A very bright young man  Thank you             0.697593\n",
       "8126                               Fight it   God Bless             0.697342\n",
       "5052       You suck Obama  you brought this country down            0.697140\n",
       "4478           Just another Chelsea blowing in the wind             0.697025\n",
       "2771                   God bless you for having a heart             0.696941\n",
       "9402   AWESOME THANK YOU FOR EVERY WORD THAT YOU spok...            0.696931\n",
       "247    The President loves and respects our Military ...            0.696703\n",
       "7355                           Good young men refreshing            0.696437\n",
       "873                       Thank you for the common sense            0.696235\n",
       "7033                       A very intelligent young man             0.695941\n",
       "4903   Trump is a business man and Obama was a divide...            0.695559\n",
       "800    Not in my family  were Irish Catholic  Maybe S...            0.695448\n",
       "3368          Congratulations  God Bless Your Wedding               0.695322\n",
       "8830                    Congratulations and God bless               0.695322\n",
       "7817                Your awesome  Thank you for sharing             0.695172\n",
       "3086                 Bless  him an his family  love them            0.694830\n",
       "11195                          Bill tells you like it is            0.694623\n",
       "7814                     Telling it like it is  amen                0.692768\n",
       "9487       God bless you Stacy   God love you and we too            0.692466\n",
       "9215                            God bless them all  Amen            0.692011\n",
       "\n",
       "[100 rows x 2 columns]"
      ]
     },
     "execution_count": 44,
     "metadata": {},
     "output_type": "execute_result"
    }
   ],
   "source": [
    "df[(df.tfidf_cluster==0) & (df.tfidf_cluster_prob<1)][['clean_message','tfidf_cluster_prob']].sort_values(by='tfidf_cluster_prob',ascending=False).head(100)"
   ]
  },
  {
   "cell_type": "code",
   "execution_count": 45,
   "metadata": {
    "collapsed": true
   },
   "outputs": [],
   "source": [
    "df[df.tfidf_cluster==1].to_csv('df_tfidf_cluster.csv',sep=\";\",index=False)"
   ]
  },
  {
   "cell_type": "code",
   "execution_count": 46,
   "metadata": {
    "collapsed": true
   },
   "outputs": [],
   "source": [
    "# Run NMF\n",
    "nmf_model = NMF(n_components=no_topics, random_state=1, alpha=.1, l1_ratio=.5, init='nndsvd').fit(dtm_tfidf)\n",
    "nmf   = nmf_model.fit(dtm_tfidf)\n",
    "nmf_W = nmf_model.transform(dtm_tfidf)\n",
    "nmf_H = nmf_model.components_"
   ]
  },
  {
   "cell_type": "code",
   "execution_count": 47,
   "metadata": {},
   "outputs": [
    {
     "name": "stdout",
     "output_type": "stream",
     "text": [
      "Need more parents like this mom👍\n",
      "For once Rubio nailed it he needs to stand his ground on this issue for his Cuban heritage and his people   He really needs to tell Obama to stick it \n",
      "This is a HERO  Nothing more needs to be said \n",
      "YES DEFINITELY  WE NEED MORE JUDGES LIKE HIM 🇺🇸🇺🇸🇺🇸🇺🇸🇺🇸🇺🇸\n",
      "This interview was fabulous  Richard needs his own  independent   show to help bridge the gap  Right on\n"
     ]
    }
   ],
   "source": [
    "text=df.clean_message[20]\n",
    "print(text)\n",
    "get_similars(X=X['clean_message'],text=text,model=nmf_W,vectorizer=tfidf_vectorizer)"
   ]
  },
  {
   "cell_type": "code",
   "execution_count": 48,
   "metadata": {},
   "outputs": [
    {
     "name": "stdout",
     "output_type": "stream",
     "text": [
      "They love him  the art of the deal  is in his element  Bravo  Mr  PRESIDENT \n",
      "Love this   Merry Christmas Mr  President  FLOTUS  and Barron   Praying for you daily \n",
      "Love our President❤  truth speaker  unlike the lying media☹☹☹☹☹\n",
      "Finally a President that will take action instead of giving them weapons to use against us  Love our President 🇺🇸🇺🇸\n",
      "Check the facts   Our allies love this President   They recognize a real leader \n"
     ]
    }
   ],
   "source": [
    "text=df.clean_message[1010]\n",
    "print(text)\n",
    "get_similars(X=X['clean_message'],text=text,model=nmf_W,vectorizer=tfidf_vectorizer)"
   ]
  },
  {
   "cell_type": "code",
   "execution_count": 49,
   "metadata": {},
   "outputs": [
    {
     "name": "stdout",
     "output_type": "stream",
     "text": [
      "If true good Im glad        just hope he was tortured   suffered great pain\n",
      "Good thise who do this must suffer great hurt mentally\n",
      "Great looking pie   Keep me up the good work 😀😀😀\n",
      "Ben Carson could do a good job in any job given This post of H U D  he has been there done that and would be Great in being the Secretary of H U D \n",
      "Great job mom  She wants her son to accept responsibility and become a good adult \n"
     ]
    }
   ],
   "source": [
    "text=df.clean_message[2020]\n",
    "print(text)\n",
    "get_similars(X=X['clean_message'],text=text,model=nmf_W,vectorizer=tfidf_vectorizer)"
   ]
  },
  {
   "cell_type": "code",
   "execution_count": 50,
   "metadata": {},
   "outputs": [
    {
     "name": "stdout",
     "output_type": "stream",
     "text": [
      "When is it going to end ssap I hope before he destroys whats left of america\n",
      "I know where theres going to be a new parking lot   \n",
      "Wow  That have continually been one of the NFLs biggest advertisers  Goodell is going down \n",
      "Keith you are having brake down go see a Dr idiot SHAME on you\n",
      "He deserted   that means he quit  You try going back to a previous job to collect after you quit  If anything  his  back pay  should go towards medical bills or those injured looking for him   \n"
     ]
    }
   ],
   "source": [
    "text=df.clean_message[12050]\n",
    "print(text)\n",
    "get_similars(X=X['clean_message'],text=text,model=nmf_W,vectorizer=tfidf_vectorizer)"
   ]
  },
  {
   "cell_type": "code",
   "execution_count": 51,
   "metadata": {
    "scrolled": false
   },
   "outputs": [
    {
     "name": "stdout",
     "output_type": "stream",
     "text": [
      "Topic 0:\n",
      "not like people would say think one know can can not\n",
      "wasnt a hint it was factual\n",
      "If you cant do the time dont COMITE the crime\n",
      "Topic 1:\n",
      "god bless god bless family bless president bless america america bless family thank god may god\n",
      "This is heroism God bless you\n",
      "God Bless you angel😇🎄🎁🎅\n",
      "Topic 2:\n",
      "president trump president trump mr mr president thank president bless president love president agree trump president\n",
      "He is my president ☺Trump 💝\n",
      "I Stand With President Trump \n",
      "Topic 3:\n",
      "good job good job good luck luck good man hope keep work look\n",
      "Good thats what   h  he dexerves\n",
      "Or more importantly not good for Tesla profits \n",
      "Topic 4:\n",
      "get get rid rid need get not get life let get life let get lose\n",
      "GET THE WOODCHIPPER   \n",
      "Get this fruit loop out of here\n",
      "Topic 5:\n",
      "man great young young man job great job proud good man smart great man\n",
      "Man overboard         \n",
      "That man is a stallion \n",
      "Topic 6:\n",
      "thank thank god service thank service thank mr mr god thank president mr president sir\n",
      "Thank you for not interrupting him\n",
      "Thanks for your honesty\n",
      "Topic 7:\n",
      "go way way go back need go go back hell go to to let\n",
      "These hags should all go \n",
      "Now what are they going to do about it  \n",
      "Topic 8:\n",
      "love love president woman beautiful love one love america love country family guy awesome\n",
      "His practical  Love it 😍\n",
      "🇺🇸❤️🇺🇸 Love You My FLOTUS \n",
      "Topic 9:\n",
      "need need go need get not need retire help need stop people need shut stop\n",
      "They need to be publicly flogged \n",
      "Now she needs to DISAPPEER              \n"
     ]
    }
   ],
   "source": [
    "display_topics(nmf_H, nmf_W, tfidf_vectorizer.get_feature_names(),X['clean_message'],10, 2)"
   ]
  }
 ],
 "metadata": {
  "kernelspec": {
   "display_name": "Python 3",
   "language": "python",
   "name": "python3"
  },
  "language_info": {
   "codemirror_mode": {
    "name": "ipython",
    "version": 3
   },
   "file_extension": ".py",
   "mimetype": "text/x-python",
   "name": "python",
   "nbconvert_exporter": "python",
   "pygments_lexer": "ipython3",
   "version": "3.6.1"
  }
 },
 "nbformat": 4,
 "nbformat_minor": 2
}
