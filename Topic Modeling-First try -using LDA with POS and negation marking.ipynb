{
 "cells": [
  {
   "cell_type": "markdown",
   "metadata": {},
   "source": [
    "### Instagis - Data Science Technical test \n",
    "Version 1.1.4"
   ]
  },
  {
   "cell_type": "markdown",
   "metadata": {},
   "source": [
    "# Assignment  3: Topic Modeling"
   ]
  },
  {
   "cell_type": "markdown",
   "metadata": {},
   "source": [
    "## My Aprouch to the problem"
   ]
  },
  {
   "cell_type": "code",
   "execution_count": 1,
   "metadata": {
    "collapsed": true
   },
   "outputs": [],
   "source": [
    "%matplotlib inline  \n",
    "import pandas as pd\n",
    "import numpy as np\n",
    "from itertools import chain\n",
    "import re\n",
    "import string\n",
    "from nltk.sentiment.vader import SentimentIntensityAnalyzer\n",
    "from nltk import word_tokenize\n",
    "from nltk.corpus import stopwords\n",
    "stopWords = set(stopwords.words('english'))\n",
    "from nltk.stem import SnowballStemmer        \n",
    "from nltk.stem import WordNetLemmatizer \n",
    "import spacy\n",
    "import string\n",
    "import emoji\n",
    "from time import time\n",
    "from collections import Counter\n",
    "# Library's to plot\n",
    "import seaborn as sbs\n",
    "import matplotlib as mpl\n",
    "mpl.rcParams['agg.path.chunksize'] = 10000000 # Jupyter notebook backend restricts number of points in plot\n",
    "import matplotlib.pyplot as plt\n",
    "get_ipython().magic(u'matplotlib inline') \n",
    "get_ipython().magic(u\"config InlineBackend.figure_format='retina'\")\n",
    "# Library's to apply balance technic's\n",
    "from imblearn.over_sampling import SMOTE\n",
    "from imblearn.under_sampling import RandomUnderSampler\n",
    "# Import the necessary module's\n",
    "from sklearn.preprocessing import binarize,MinMaxScaler,RobustScaler,normalize,MaxAbsScaler\n",
    "from sklearn.feature_extraction.text import CountVectorizer,TfidfVectorizer,HashingVectorizer\n",
    "from sklearn.feature_extraction.stop_words import ENGLISH_STOP_WORDS\n",
    "from sklearn.base import TransformerMixin\n",
    "from sklearn.model_selection import train_test_split\n",
    "from sklearn.decomposition import NMF, LatentDirichletAllocation\n",
    "from sklearn.metrics.pairwise import euclidean_distances\n",
    "import pyLDAvis\n",
    "import pyLDAvis.sklearn\n",
    "pyLDAvis.enable_notebook()\n",
    "# Only for final delivery\n",
    "import warnings\n",
    "warnings.filterwarnings('ignore')\n",
    "# Init the spacy object call parser\n",
    "parser = spacy.load(\"en\")"
   ]
  },
  {
   "cell_type": "code",
   "execution_count": 2,
   "metadata": {
    "collapsed": true
   },
   "outputs": [],
   "source": [
    "def plot_pie(y):\n",
    "    target_stats = Counter(y)\n",
    "    labels = list(target_stats.keys())\n",
    "    sizes = list(target_stats.values())\n",
    "    explode = tuple([0.1] * len(target_stats))\n",
    "\n",
    "    fig, ax = plt.subplots()\n",
    "    ax.pie(sizes, explode=explode, labels=labels, shadow=True,\n",
    "           autopct='%1.1f%%')\n",
    "    ax.axis('equal')"
   ]
  },
  {
   "cell_type": "code",
   "execution_count": 3,
   "metadata": {
    "collapsed": true
   },
   "outputs": [],
   "source": [
    "# A custom function to clean the text before sending it into the vectorizer\n",
    "def cleanText(text):\n",
    "    \n",
    "    # delete links\n",
    "    text = re.sub(pattern=r'https?:\\/\\/.*[\\r\\n]*',repl='URL', string=text, flags=re.MULTILINE | re.IGNORECASE)\n",
    "    \n",
    "    # get rid of newlines\n",
    "    text = text.strip().replace(\"\\n+|\\n\\n+|\\r\",\" \")\n",
    "    \n",
    "    #get rid of the accent marks\n",
    "    text=text.replace(u\"\\uFFFD\",'')\n",
    "    \n",
    "    # Join the negation forms\n",
    "    negation_finder=re.compile(r\"\"\"n't\"\"\",re.IGNORECASE)\n",
    "    text=negation_finder.sub('nt',text)\n",
    "    \n",
    "    #Replace the newlines that are attached to a word with only the word\n",
    "    newlines_finder=re.compile(\"\\n\\w+|\\n\\n\\w+\", re.IGNORECASE)\n",
    "    w=newlines_finder.findall(text)\n",
    "    for t in w:\n",
    "        if len(t.split('\\n\\n'))>1:\n",
    "            text=re.sub(t,t.split('\\n\\n')[1],text)\n",
    "        else:\n",
    "            text=re.sub(t,\"\",text)\n",
    "    \n",
    "    #get rid of the symbols before the ' with the word in the sentence. Examples: \\'t, \\'m , etc\n",
    "    text=re.sub(r'\\'',\" \",text)\n",
    "    \n",
    "    # replace twitter the symbol of the user names\n",
    "    hashtag_finder = re.compile(r\"(?:\\@)\", re.IGNORECASE)\n",
    "    text = hashtag_finder.sub(\"\", text)\n",
    "    \n",
    "    # replace hashtags\n",
    "    hashtag_finder = re.compile(r\"(?:\\#)\", re.IGNORECASE)\n",
    "    text = hashtag_finder.sub(\"\", text)\n",
    "    \n",
    "    # replace numbers\n",
    "    number_finder =re.compile(r\"\\s?[0-9]+\\.?[0-9]*\")\n",
    "    text = number_finder.sub(\" NUMBER \", text)\n",
    "    \n",
    "    # Replace phone numbers\n",
    "    phone_number_finder=re.compile(r\"\"\"\n",
    "    (?:\n",
    "      (?:            # (international)\n",
    "        \\+?[01]\n",
    "        [\\-\\s.]*\n",
    "      )?            \n",
    "      (?:            # (area code)\n",
    "        [\\(]?\n",
    "        \\d{3}\n",
    "        [\\-\\s.\\)]*\n",
    "      )?    \n",
    "      \\d{3}          # exchange\n",
    "      [\\-\\s.]*   \n",
    "      \\d{4}          # base\n",
    "    )\"\"\", re.IGNORECASE)\n",
    "    text = phone_number_finder.sub(\" \", text)\n",
    "    \n",
    "    # replace HTML symbols\n",
    "    html_finder = re.compile(r'<.*?>')\n",
    "    text=html_finder.sub('', text)\n",
    "    \n",
    "    # delete especial characters and some HTML symbols\n",
    "    for remove in map(lambda r: re.compile(re.escape(r)),[\"\\\"\", \"=\", \"&\", \"%\", \"$\", \"%\", \"^\", \"*\",\"(\", \")\", \n",
    "                       \"{\", \"}\",\"[\", \"]\", \"|\", \"/\", \"\\\\\",\">\",\"<\",\"-\", \"'\",\n",
    "                       \"--\", \"---\",\"&gt;\",\"&lt;\",\"-----\", \"---\", \"...\", \"“\", \"”\", \"'ve\"]):\n",
    "        text=remove.sub(\"\",text)\n",
    "    \n",
    "    #Get only one space of separation when there is one or more spaces\n",
    "    text=text.replace(r'\\s',' ')\n",
    "\n",
    "    return text"
   ]
  },
  {
   "cell_type": "code",
   "execution_count": 4,
   "metadata": {
    "collapsed": true
   },
   "outputs": [],
   "source": [
    "# A custom function to clean the text before sending it into the vectorizer\n",
    "def hardCleanText(text):\n",
    "    \n",
    "    # get rid of newlines\n",
    "    text = text.strip().replace(\"\\n+|\\n\\n+|\\r\",\" \")\n",
    "    \n",
    "    #Replace the newlines that are attached to a word with only the word\n",
    "    newlines_finder=re.compile(\"\\n\\w+|\\n\\n\\w+\", re.IGNORECASE)\n",
    "    w=newlines_finder.findall(text)\n",
    "    for t in w:\n",
    "        if len(t.split('\\n\\n'))>1:\n",
    "            text=re.sub(t,t.split('\\n\\n')[1],text)\n",
    "        else:\n",
    "            text=re.sub(t,\"\",text)\n",
    "    \n",
    "    #get rid of the symbols before the ' with the word in the sentence. Examples: \\'t, \\'m , etc\n",
    "    text=re.sub(r'\\'',\" \",text)\n",
    "    \n",
    "      # replace twitter the symbol of the user names\n",
    "    hashtag_finder = re.compile(r\"(?:\\@)\", re.IGNORECASE)\n",
    "    text = hashtag_finder.sub(\"\", text)\n",
    "    \n",
    "    # replace hashtags\n",
    "    hashtag_finder = re.compile(r\"(?:\\#)\", re.IGNORECASE)\n",
    "    text = hashtag_finder.sub(\"\", text)\n",
    "    \n",
    "      # replace numbers\n",
    "    number_finder =re.compile(r\"\\s?[0-9]+\\.?[0-9]*\")\n",
    "    text = number_finder.sub(\" NUMBER \", text)\n",
    "    \n",
    "    # Replace phone numbers\n",
    "    phone_number_finder=re.compile(r\"\"\"\n",
    "    (?:\n",
    "      (?:            # (international)\n",
    "        \\+?[01]\n",
    "        [\\-\\s.]*\n",
    "      )?            \n",
    "      (?:            # (area code)\n",
    "        [\\(]?\n",
    "        \\d{3}\n",
    "        [\\-\\s.\\)]*\n",
    "      )?    \n",
    "      \\d{3}          # exchange\n",
    "      [\\-\\s.]*   \n",
    "      \\d{4}          # base\n",
    "    )\"\"\", re.IGNORECASE)\n",
    "    text = phone_number_finder.sub(\" \", text)\n",
    "    \n",
    "    # replace HTML symbols\n",
    "    text=text.replace(\"&amp;\", \"and\")\n",
    "    \n",
    "    # delete especial characters and some HTML symbols\n",
    "    for remove in map(lambda r: re.compile(re.escape(r)),[\",\", \":\", \"\\\"\", \"=\", \"&\", \";\", \"%\", \"$\", \"%\", \"^\", \"*\",\"(\", \")\", \n",
    "                       \"{\", \"}\",\"[\", \"]\", \"|\", \"/\", \"\\\\\",\">\",\"<\",\"-\",\"!\",\"?\", \".\", \"'\",\n",
    "                       \"--\", \"---\",\"&gt;\",\"&lt;\",\"-----\", \"---\", \"...\", \"“\", \"”\", \"'ve\"]):\n",
    "        text=remove.sub(\" \",text)\n",
    "    \n",
    "    #Get only one space of separation when there is one or more spaces\n",
    "    text=text.replace(r'\\s',' ')\n",
    "\n",
    "    return text"
   ]
  },
  {
   "cell_type": "code",
   "execution_count": 5,
   "metadata": {
    "collapsed": true
   },
   "outputs": [],
   "source": [
    "def tokenizer(doc,parser=parser,stem=False,lemma=True,stop_words=True,min_words=2,only_alpha=True,digit=True):\n",
    "    \n",
    "    doc = parser(doc)\n",
    "    tokens=[token for token in doc if not (token.is_punct or token.is_space or token.is_quote)]\n",
    "    \n",
    "    if(not digit):\n",
    "         tokens=[token for token in tokens if not (token.is_digit)]\n",
    "    \n",
    "    if(only_alpha):\n",
    "        tokens=[token for token in doc if (token.is_alpha)]\n",
    "    \n",
    "    if(stop_words):\n",
    "        stop_words = set(stopwords.words('english'))\n",
    "        tokens = [token for token in tokens if not (token.lower_ in stop_words)]\n",
    "    \n",
    "    if(min_words>1):\n",
    "        tokens = [token for token in tokens if len(token) >= min_words]\n",
    "    \n",
    "    if(stem & lemma):\n",
    "        stem = SnowballStemmer('english')\n",
    "        tokens = [token.lemma_ if token.lemma_ != \"-PRON-\" else token.lower_ for token in tokens]\n",
    "        tokens = [stem.stem(token).lower() for token in tokens if token not in string.punctuation]\n",
    "    elif(lemma):\n",
    "        tokens = [token.lemma_.lower() if token.lemma_ != \"-PRON-\" else token.lower_ for token in tokens]\n",
    "    elif(stem):\n",
    "        stem = SnowballStemmer('english')\n",
    "        tokens = [stem.stem(token.lower_) for token in tokens if not (token.is_punct)]\n",
    "    \n",
    "    return tokens"
   ]
  },
  {
   "cell_type": "code",
   "execution_count": 6,
   "metadata": {
    "collapsed": true
   },
   "outputs": [],
   "source": [
    "def spacy_tokenizer(doc,parser=parser,stem=False,lemma=True,stop_words=True,min_words=2,only_alpha=False,digit=False):\n",
    "    \n",
    "    doc = parser(doc)\n",
    "    tokens=[token for token in doc if not (token.is_punct or token.is_space or token.is_quote)]\n",
    "    \n",
    "    if(not digit):\n",
    "         tokens=[token for token in tokens if not (token.is_digit)]\n",
    "    \n",
    "    if(only_alpha):\n",
    "        tokens=[token for token in doc if (token.is_alpha)]\n",
    "    \n",
    "    if(stop_words):\n",
    "        stop_words = set(stopwords.words('english'))\n",
    "        tokens = [token for token in tokens if not (token.lower_ in stop_words)]\n",
    "    \n",
    "    if(min_words>1):\n",
    "        tokens = [token for token in tokens if len(token) >= min_words]\n",
    "        \n",
    "    tokens=[(token,token.pos_) for token in tokens]\n",
    "    \n",
    "    if(lemma & stem):\n",
    "        stem = SnowballStemmer('english')\n",
    "        tokens = [(token[0].lemma_,token[1]) if token[0].lemma_ != \"-PRON-\" \n",
    "                  else (token[0].lower_,token[1]) for token in tokens]\n",
    "        tokens = [(stem.stem(token[0]).lower(),token[1]) for token in tokens \n",
    "                  if token[0] not in string.punctuation]\n",
    "    elif(lemma):\n",
    "        tokens = [(token[0].lemma_.lower(),token[1]) if token[0].lemma_ != \"-PRON-\" \n",
    "                  else (token[0].lower_,token[1]) for token in tokens]\n",
    "    elif(stem):\n",
    "        stem = SnowballStemmer('english')\n",
    "        tokens = [(stem.stem(token[0].lower_),token[1]) for token in tokens if not (token[0].is_punct)]\n",
    "\n",
    "    tokens=[(token[0]+\"_\"+token[1]) for token in tokens]\n",
    "    #tokens=[item for item in chain(tokens,ents)] \n",
    "\n",
    "    return tokens"
   ]
  },
  {
   "cell_type": "code",
   "execution_count": 7,
   "metadata": {
    "collapsed": true
   },
   "outputs": [],
   "source": [
    "def negation_3_words_rules(text,clp_finder,negation_finder,stop_words=True):\n",
    "    # Create a list with the tokenize words of the text\n",
    "    words=word_tokenize(text)\n",
    "    #Delete stop words\n",
    "    if(stop_words):\n",
    "        word_list = []\n",
    "        for w in words:\n",
    "            if w not in stopWords:\n",
    "                word_list.append(w)\n",
    "    # Create the list with the word negation list\n",
    "    neg_list=negation_finder.findall(text)\n",
    "    # Create the list with the clause level punctuation list\n",
    "    clp_list=clp_finder.findall(text)\n",
    "    # Create the index list where we are going to insert the index of the words which will be replace\n",
    "    ind=[]\n",
    "    # Create the index list with the 3 words rules\n",
    "    for s in neg_list:\n",
    "        i=0\n",
    "        for w in word_list:\n",
    "            if(s==w):\n",
    "                ind.append(i)\n",
    "                if(i+3<len(word_list)):\n",
    "                    ind.append(i+1)\n",
    "                    ind.append(i+2)\n",
    "                    ind.append(i+3)\n",
    "                elif(i+2<len(word_list)):\n",
    "                    ind.append(i+1)\n",
    "                    ind.append(i+2)\n",
    "                elif(i+1<len(word_list)):\n",
    "                    ind.append(i+1)\n",
    "            i+=1\n",
    "   \n",
    "    neg_list=[word_list[i]+'_NEG' for i in ind]\n",
    "    for i in range(0,len(ind)):\n",
    "        word_list[ind[i]]=neg_list[i]\n",
    "    word_list\n",
    "    aux=\"\"\n",
    "    for e in word_list:\n",
    "        aux=aux+e+\" \"\n",
    "    text=aux\n",
    "    # delete especial characters\n",
    "    #esp_character_finder=re.compile(r\"\"\"\"\\n,|\\n:|\\n!|\\n!!|\\n?|\\n.|\\n;\"\"\",flags=re.IGNORECASE)\n",
    "    #text=esp_character_finder.sub(\"\",text)\n",
    "    \n",
    "    #Delete everything is not\n",
    "    text=re.sub(r'[^a-zA-Z \\_\\n+]+','',text)\n",
    "    \n",
    "     #Get only one space of separation when there is one or more spaces\n",
    "    text=text.replace(r'\\s',' ')\n",
    "    \n",
    "    return text"
   ]
  },
  {
   "cell_type": "code",
   "execution_count": 8,
   "metadata": {
    "collapsed": true
   },
   "outputs": [],
   "source": [
    "def negation_marks(text,clp_finder,negation_finder,stop_words=True):\n",
    "    \n",
    "    # 1.-Create the list with the negation words and punctations, also a list with their indexs\n",
    "    # Create a list with the tokenize words of the text\n",
    "    words=word_tokenize(text)\n",
    "    #Delete stop words\n",
    "    if(stop_words):\n",
    "        word_list = []\n",
    "        for w in words:\n",
    "            if w not in stopWords:\n",
    "                word_list.append(w)\n",
    "    # Create the list with the word negation list\n",
    "    neg_list=negation_finder.findall(text)\n",
    "    # Create the list with the clause level punctuation list\n",
    "    clp_list=clp_finder.findall(text)\n",
    "    # Create the list with the indexs of the clause level punctuation list\n",
    "    clp_list_ind=[]\n",
    "    j=0\n",
    "    for clp in clp_list:\n",
    "        i=0\n",
    "        for w in word_list:\n",
    "            if(clp==w):\n",
    "                if(i>j):\n",
    "                    clp_list_ind.append(i)\n",
    "                    j=i\n",
    "                    break\n",
    "\n",
    "            i+=1\n",
    "    # 2.-Create the list with the indexs of the negation list    \n",
    "    neg_list_ind=[]\n",
    "    j=0\n",
    "    for neg in neg_list:\n",
    "        i=0\n",
    "        for w in word_list:\n",
    "            if(neg==w):\n",
    "                if(i>=j):\n",
    "                    neg_list_ind.append(i)\n",
    "                    j=i\n",
    "                    break\n",
    "            i+=1\n",
    "            \n",
    "    # 3.-Create the intervals for the negation marks\n",
    "    intervals=[]\n",
    "    aux=0\n",
    "    ind=0\n",
    "    for i in neg_list_ind:\n",
    "        for j in clp_list_ind:\n",
    "            if(i<j):\n",
    "                if(i>=aux):\n",
    "                    intervals.append([i,j])\n",
    "                    aux=j\n",
    "                    break\n",
    "    \n",
    "    # 4.-Add the negation marks to the document\n",
    "    negation_marks=[word_list[j]+'_NEG' for i in intervals for j in range(i[0],i[1])]\n",
    "    n=0\n",
    "    for i in intervals:\n",
    "        for j in range(i[0],i[1]):\n",
    "            word_list[j]=negation_marks[n]\n",
    "            n+=1\n",
    "    aux=\"\"\n",
    "    for e in word_list:\n",
    "        aux=aux+e+\" \"\n",
    "    text=aux\n",
    "    # delete especial characters\n",
    "    #esp_character_finder=re.compile(r\"\"\"\"\\n,|\\n:|\\n!|\\n!!|\\n?|\\n.|\\n;\"\"\",flags=re.IGNORECASE)\n",
    "    #text=esp_character_finder.sub(\"\",text)\n",
    "    \n",
    "    #Delete everything is not\n",
    "    text=re.sub(r'[^a-zA-Z \\_\\n+]+','',text)\n",
    "    \n",
    "     #Get only one space of separation when there is one or more spaces\n",
    "    text=text.replace(r'\\s',' ')\n",
    "    \n",
    "    return text"
   ]
  },
  {
   "cell_type": "code",
   "execution_count": 9,
   "metadata": {},
   "outputs": [
    {
     "name": "stdout",
     "output_type": "stream",
     "text": [
      "(12627, 2)\n"
     ]
    },
    {
     "data": {
      "text/html": [
       "<div>\n",
       "<style>\n",
       "    .dataframe thead tr:only-child th {\n",
       "        text-align: right;\n",
       "    }\n",
       "\n",
       "    .dataframe thead th {\n",
       "        text-align: left;\n",
       "    }\n",
       "\n",
       "    .dataframe tbody tr th {\n",
       "        vertical-align: top;\n",
       "    }\n",
       "</style>\n",
       "<table border=\"1\" class=\"dataframe\">\n",
       "  <thead>\n",
       "    <tr style=\"text-align: right;\">\n",
       "      <th></th>\n",
       "      <th>case</th>\n",
       "      <th>message</th>\n",
       "    </tr>\n",
       "  </thead>\n",
       "  <tbody>\n",
       "    <tr>\n",
       "      <th>0</th>\n",
       "      <td>NEGATIVE</td>\n",
       "      <td>She/he was elected because???</td>\n",
       "    </tr>\n",
       "    <tr>\n",
       "      <th>1</th>\n",
       "      <td>NEGATIVE</td>\n",
       "      <td>That a elective surgery. So NO</td>\n",
       "    </tr>\n",
       "    <tr>\n",
       "      <th>2</th>\n",
       "      <td>POSITIVE</td>\n",
       "      <td>Danica roem is a mentally ill freak. this sick...</td>\n",
       "    </tr>\n",
       "    <tr>\n",
       "      <th>3</th>\n",
       "      <td>NEGATIVE</td>\n",
       "      <td>I would gladly paid for psiquiatric treatment....</td>\n",
       "    </tr>\n",
       "    <tr>\n",
       "      <th>4</th>\n",
       "      <td>NEGATIVE</td>\n",
       "      <td>NO!  You must pay for it yourself.  You were n...</td>\n",
       "    </tr>\n",
       "  </tbody>\n",
       "</table>\n",
       "</div>"
      ],
      "text/plain": [
       "       case                                            message\n",
       "0  NEGATIVE                      She/he was elected because???\n",
       "1  NEGATIVE                     That a elective surgery. So NO\n",
       "2  POSITIVE  Danica roem is a mentally ill freak. this sick...\n",
       "3  NEGATIVE  I would gladly paid for psiquiatric treatment....\n",
       "4  NEGATIVE  NO!  You must pay for it yourself.  You were n..."
      ]
     },
     "execution_count": 9,
     "metadata": {},
     "output_type": "execute_result"
    }
   ],
   "source": [
    "df = pd.read_csv('train-data-1513704817538.csv')\n",
    "print(df.shape)\n",
    "df.head()"
   ]
  },
  {
   "cell_type": "markdown",
   "metadata": {},
   "source": [
    "## Pre-processing"
   ]
  },
  {
   "cell_type": "markdown",
   "metadata": {},
   "source": [
    "#### Create the clean message"
   ]
  },
  {
   "cell_type": "code",
   "execution_count": 10,
   "metadata": {
    "collapsed": true
   },
   "outputs": [],
   "source": [
    "df.loc[:,\"clean_message\"]=df.loc[:,\"message\"].apply(lambda x: cleanText(x)).copy()"
   ]
  },
  {
   "cell_type": "code",
   "execution_count": 11,
   "metadata": {
    "collapsed": true
   },
   "outputs": [],
   "source": [
    "negation_finder=re.compile(r\"\"\"(never|nothing|nowhere|noone|none|not|no|havent|hasnt|hadnt|cant|couldnt|shouldnt|\n",
    "wont|wouldnt|dont|doesnt|didnt|isnt|arent|aint)\"\"\",flags=re.I | re.X | re.MULTILINE )\n",
    "clp_finder=re.compile(r\"\"\"[,.:;!?]\"\"\",flags=re.I | re.X | re.MULTILINE )"
   ]
  },
  {
   "cell_type": "code",
   "execution_count": 12,
   "metadata": {
    "collapsed": true
   },
   "outputs": [],
   "source": [
    "df.loc[:,\"clean_message_neg\"]=df.loc[:,\"clean_message\"].apply(\n",
    "    lambda x: negation_marks(x,clp_finder,negation_finder) if (clp_finder.findall(x)==[]) \n",
    "    else negation_3_words_rules(x,clp_finder,negation_finder)).copy()"
   ]
  },
  {
   "cell_type": "code",
   "execution_count": 13,
   "metadata": {
    "collapsed": true
   },
   "outputs": [],
   "source": [
    "df.loc[:,\"clean_message\"]=df.loc[:,\"message\"].apply(lambda x: hardCleanText(x)).copy()"
   ]
  },
  {
   "cell_type": "markdown",
   "metadata": {},
   "source": [
    "#### Create the tokenize columns"
   ]
  },
  {
   "cell_type": "code",
   "execution_count": 14,
   "metadata": {
    "collapsed": true
   },
   "outputs": [],
   "source": [
    "df.loc[:,\"tokenize_message\"]=df.loc[:,\"clean_message\"].apply(lambda x: spacy_tokenizer(\n",
    "    x,parser,stop_words=True)).copy()"
   ]
  },
  {
   "cell_type": "code",
   "execution_count": 15,
   "metadata": {
    "collapsed": true
   },
   "outputs": [],
   "source": [
    "df.loc[:,\"neg_tokenize_message\"]=df.loc[:,\"clean_message_neg\"].apply(lambda x: spacy_tokenizer(\n",
    "    x,parser,stop_words=True)).copy()"
   ]
  },
  {
   "cell_type": "code",
   "execution_count": 16,
   "metadata": {},
   "outputs": [
    {
     "name": "stdout",
     "output_type": "stream",
     "text": [
      "NO   You must pay for it yourself   You were not born this way  it was your decision to change  now do NOT expect the American taxpayer to pick up the tab \n",
      "NO_NEG _NEG You_NEG must_NEG pay  You born way  decision change  NOT_NEG expect_NEG American_NEG taxpayer_NEG pick tab  \n",
      "['must_VERB', 'pay_VERB', 'bear_VERB', 'way_NOUN', 'decision_NOUN', 'change_VERB', 'expect_VERB', 'american_ADJ', 'taxpayer_NOUN', 'pick_VERB', 'tab_NOUN']\n",
      "['no_neg_ADP', 'neg_PROPN', 'you_neg_PROPN', 'must_neg_PROPN', 'pay_NOUN', 'bear_VERB', 'way_NOUN', 'decision_NOUN', 'change_NOUN', 'not_neg_PROPN', 'expect_neg_ADJ', 'american_neg_NOUN', 'taxpayer_neg_NOUN', 'pick_VERB', 'tab_NOUN']\n"
     ]
    }
   ],
   "source": [
    "#df=df.dropna(axis=0,how='any',subset=['tokenize_message']).copy()\n",
    "print(df.loc[4,'clean_message'])\n",
    "print(df.loc[4,'clean_message_neg'])\n",
    "print(df.loc[4,'tokenize_message'])\n",
    "print(df.loc[4,'neg_tokenize_message'])"
   ]
  },
  {
   "cell_type": "code",
   "execution_count": 17,
   "metadata": {},
   "outputs": [
    {
     "data": {
      "text/plain": [
       "['rex', 'tillerson']"
      ]
     },
     "execution_count": 17,
     "metadata": {},
     "output_type": "execute_result"
    }
   ],
   "source": [
    "text=re.sub(r'[^a-zA-Z]',' ',df.loc[11225,'clean_message'])\n",
    "tokenizer(text,parser,stop_words=True,only_alpha=True,min_words=2)"
   ]
  },
  {
   "cell_type": "markdown",
   "metadata": {},
   "source": [
    "#### Extract the common words with their relative weights"
   ]
  },
  {
   "cell_type": "code",
   "execution_count": 18,
   "metadata": {
    "collapsed": true
   },
   "outputs": [],
   "source": [
    "def create_common_words(max_occurrences=np.infty,min_occurrences=10,words=None):\n",
    "    word_df = pd.DataFrame(\n",
    "        data={\"word\": [k for k, v in words.most_common() if min_occurrences < v < max_occurrences],\n",
    "              \"occurrences\": [v for k, v in words.most_common() if min_occurrences < v < max_occurrences]},\n",
    "        columns=[\"word\", \"occurrences\"])\n",
    "    return word_df"
   ]
  },
  {
   "cell_type": "code",
   "execution_count": 19,
   "metadata": {},
   "outputs": [
    {
     "data": {
      "text/plain": [
       "[('get_VERB', 1322),\n",
       " ('go_VERB', 1130),\n",
       " ('people_NOUN', 1072),\n",
       " ('good_ADJ', 966),\n",
       " ('trump_PROPN', 850)]"
      ]
     },
     "execution_count": 19,
     "metadata": {},
     "output_type": "execute_result"
    }
   ],
   "source": [
    "words = Counter()\n",
    "for idx in df.index:\n",
    "    words.update(df.loc[idx, \"tokenize_message\"])\n",
    "words.most_common(5)"
   ]
  },
  {
   "cell_type": "code",
   "execution_count": 20,
   "metadata": {},
   "outputs": [
    {
     "data": {
      "text/plain": [
       "[('get_VERB', 1322),\n",
       " ('go_VERB', 1130),\n",
       " ('people_NOUN', 1072),\n",
       " ('good_ADJ', 966),\n",
       " ('trump_PROPN', 850)]"
      ]
     },
     "execution_count": 20,
     "metadata": {},
     "output_type": "execute_result"
    }
   ],
   "source": [
    "stop_words = stopwords.words('english')\n",
    "whitelist = []\n",
    "blacklist=['@number','@hashtag','@mentions']\n",
    "for idx, stop_word in enumerate(stop_words):\n",
    "    if stop_word not in whitelist:\n",
    "        del words[stop_word]\n",
    "for idx,black_word in enumerate(blacklist):\n",
    "    del words[black_word]\n",
    "words.most_common(5)"
   ]
  },
  {
   "cell_type": "code",
   "execution_count": 21,
   "metadata": {},
   "outputs": [
    {
     "name": "stdout",
     "output_type": "stream",
     "text": [
      "(1644, 3)\n"
     ]
    },
    {
     "data": {
      "text/html": [
       "<div>\n",
       "<style>\n",
       "    .dataframe thead tr:only-child th {\n",
       "        text-align: right;\n",
       "    }\n",
       "\n",
       "    .dataframe thead th {\n",
       "        text-align: left;\n",
       "    }\n",
       "\n",
       "    .dataframe tbody tr th {\n",
       "        vertical-align: top;\n",
       "    }\n",
       "</style>\n",
       "<table border=\"1\" class=\"dataframe\">\n",
       "  <thead>\n",
       "    <tr style=\"text-align: right;\">\n",
       "      <th></th>\n",
       "      <th>word</th>\n",
       "      <th>occurrences</th>\n",
       "      <th>weight</th>\n",
       "    </tr>\n",
       "  </thead>\n",
       "  <tbody>\n",
       "    <tr>\n",
       "      <th>0</th>\n",
       "      <td>get_VERB</td>\n",
       "      <td>1322</td>\n",
       "      <td>1.000000</td>\n",
       "    </tr>\n",
       "    <tr>\n",
       "      <th>1</th>\n",
       "      <td>go_VERB</td>\n",
       "      <td>1130</td>\n",
       "      <td>0.854766</td>\n",
       "    </tr>\n",
       "    <tr>\n",
       "      <th>2</th>\n",
       "      <td>people_NOUN</td>\n",
       "      <td>1072</td>\n",
       "      <td>0.810893</td>\n",
       "    </tr>\n",
       "    <tr>\n",
       "      <th>3</th>\n",
       "      <td>good_ADJ</td>\n",
       "      <td>966</td>\n",
       "      <td>0.730711</td>\n",
       "    </tr>\n",
       "    <tr>\n",
       "      <th>4</th>\n",
       "      <td>trump_PROPN</td>\n",
       "      <td>850</td>\n",
       "      <td>0.642965</td>\n",
       "    </tr>\n",
       "    <tr>\n",
       "      <th>5</th>\n",
       "      <td>number_NOUN</td>\n",
       "      <td>817</td>\n",
       "      <td>0.618003</td>\n",
       "    </tr>\n",
       "    <tr>\n",
       "      <th>6</th>\n",
       "      <td>need_VERB</td>\n",
       "      <td>802</td>\n",
       "      <td>0.606657</td>\n",
       "    </tr>\n",
       "    <tr>\n",
       "      <th>7</th>\n",
       "      <td>god_PROPN</td>\n",
       "      <td>755</td>\n",
       "      <td>0.571104</td>\n",
       "    </tr>\n",
       "    <tr>\n",
       "      <th>8</th>\n",
       "      <td>would_VERB</td>\n",
       "      <td>744</td>\n",
       "      <td>0.562784</td>\n",
       "    </tr>\n",
       "    <tr>\n",
       "      <th>9</th>\n",
       "      <td>say_VERB</td>\n",
       "      <td>737</td>\n",
       "      <td>0.557489</td>\n",
       "    </tr>\n",
       "  </tbody>\n",
       "</table>\n",
       "</div>"
      ],
      "text/plain": [
       "          word  occurrences    weight\n",
       "0     get_VERB         1322  1.000000\n",
       "1      go_VERB         1130  0.854766\n",
       "2  people_NOUN         1072  0.810893\n",
       "3     good_ADJ          966  0.730711\n",
       "4  trump_PROPN          850  0.642965\n",
       "5  number_NOUN          817  0.618003\n",
       "6    need_VERB          802  0.606657\n",
       "7    god_PROPN          755  0.571104\n",
       "8   would_VERB          744  0.562784\n",
       "9     say_VERB          737  0.557489"
      ]
     },
     "execution_count": 21,
     "metadata": {},
     "output_type": "execute_result"
    }
   ],
   "source": [
    "common_words=create_common_words(words=words)\n",
    "common_words['weight']=common_words.occurrences/max(common_words.occurrences)\n",
    "print(common_words.shape)\n",
    "common_words.head(10)"
   ]
  },
  {
   "cell_type": "code",
   "execution_count": 22,
   "metadata": {},
   "outputs": [
    {
     "name": "stdout",
     "output_type": "stream",
     "text": [
      "               word  occurrences    weight\n",
      "0          get_VERB         1322  1.000000\n",
      "1           go_VERB         1130  0.854766\n",
      "2       people_NOUN         1072  0.810893\n",
      "3          good_ADJ          966  0.730711\n",
      "4       trump_PROPN          850  0.642965\n",
      "5       number_NOUN          817  0.618003\n",
      "6         need_VERB          802  0.606657\n",
      "7         god_PROPN          755  0.571104\n",
      "8        would_VERB          744  0.562784\n",
      "9          say_VERB          737  0.557489\n",
      "10         like_ADP          667  0.504539\n",
      "11        make_VERB          658  0.497731\n",
      "12  president_PROPN          656  0.496218\n",
      "13       think_VERB          618  0.467474\n",
      "14         man_NOUN          612  0.462935\n",
      "15        time_NOUN          608  0.459909\n",
      "16     country_NOUN          581  0.439486\n",
      "17        know_VERB          555  0.419818\n",
      "18          one_NUM          515  0.389561\n",
      "19       thank_VERB          502  0.379728\n"
     ]
    },
    {
     "data": {
      "image/png": "[encoded data removed]",
      "text/plain": [
       "<matplotlib.figure.Figure at 0x120add0f0>"
      ]
     },
     "metadata": {
      "image/png": {
       "height": 262,
       "width": 452
      }
     },
     "output_type": "display_data"
    }
   ],
   "source": [
    "top_20_pos=common_words[['word','occurrences','weight']].sort_values(by='weight',ascending=False).head(20)\n",
    "print(top_20_pos)\n",
    "sbs.barplot(x='weight', y='word', data=top_20_pos);"
   ]
  },
  {
   "cell_type": "code",
   "execution_count": 23,
   "metadata": {},
   "outputs": [
    {
     "data": {
      "text/plain": [
       "[{'get_VERB': 1.0},\n",
       " {'go_VERB': 0.8547655068078669},\n",
       " {'people_NOUN': 0.81089258698941}]"
      ]
     },
     "execution_count": 23,
     "metadata": {},
     "output_type": "execute_result"
    }
   ],
   "source": [
    "words_dict=common_words[['word','weight']].apply(lambda x: {x['word']:x['weight']},axis=1)\n",
    "words_dict=list(words_dict)\n",
    "words_dict[0:3]"
   ]
  },
  {
   "cell_type": "markdown",
   "metadata": {},
   "source": [
    "#### Create the  tokenize columns with words_POS"
   ]
  },
  {
   "cell_type": "code",
   "execution_count": 25,
   "metadata": {},
   "outputs": [
    {
     "data": {
      "text/plain": [
       "0                                         [elect_VERB]\n",
       "1                         [elective_ADJ, surgery_NOUN]\n",
       "2    [danica_PROPN, roem_NOUN, mentally_ADV, ill_AD...\n",
       "3    [would_VERB, gladly_ADV, pay_VERB, psiquiatric...\n",
       "4    [must_VERB, pay_VERB, bear_VERB, way_NOUN, dec...\n",
       "Name: spacy_tokenize_message, dtype: object"
      ]
     },
     "execution_count": 25,
     "metadata": {},
     "output_type": "execute_result"
    }
   ],
   "source": [
    "df.loc[:,\"spacy_tokenize_message\"]=df.loc[:,\"clean_message\"].apply(lambda x: spacy_tokenizer(\n",
    "    str(x),parser,stop_words=True,only_alpha=True)).copy()\n",
    "df.spacy_tokenize_message.head()"
   ]
  },
  {
   "cell_type": "code",
   "execution_count": 26,
   "metadata": {},
   "outputs": [
    {
     "data": {
      "text/plain": [
       "[('get_VERB', 1322),\n",
       " ('go_VERB', 1130),\n",
       " ('people_NOUN', 1072),\n",
       " ('good_ADJ', 966),\n",
       " ('trump_PROPN', 850)]"
      ]
     },
     "execution_count": 26,
     "metadata": {},
     "output_type": "execute_result"
    }
   ],
   "source": [
    "words = Counter()\n",
    "for idx in df.index:\n",
    "    words.update(df.loc[idx, \"spacy_tokenize_message\"])\n",
    "words.most_common(5)"
   ]
  },
  {
   "cell_type": "code",
   "execution_count": 27,
   "metadata": {},
   "outputs": [
    {
     "name": "stdout",
     "output_type": "stream",
     "text": [
      "(1638, 3)\n"
     ]
    },
    {
     "data": {
      "text/html": [
       "<div>\n",
       "<style>\n",
       "    .dataframe thead tr:only-child th {\n",
       "        text-align: right;\n",
       "    }\n",
       "\n",
       "    .dataframe thead th {\n",
       "        text-align: left;\n",
       "    }\n",
       "\n",
       "    .dataframe tbody tr th {\n",
       "        vertical-align: top;\n",
       "    }\n",
       "</style>\n",
       "<table border=\"1\" class=\"dataframe\">\n",
       "  <thead>\n",
       "    <tr style=\"text-align: right;\">\n",
       "      <th></th>\n",
       "      <th>word</th>\n",
       "      <th>occurrences</th>\n",
       "      <th>weight</th>\n",
       "    </tr>\n",
       "  </thead>\n",
       "  <tbody>\n",
       "    <tr>\n",
       "      <th>0</th>\n",
       "      <td>get_VERB</td>\n",
       "      <td>1322</td>\n",
       "      <td>1.000000</td>\n",
       "    </tr>\n",
       "    <tr>\n",
       "      <th>1</th>\n",
       "      <td>go_VERB</td>\n",
       "      <td>1130</td>\n",
       "      <td>0.854766</td>\n",
       "    </tr>\n",
       "    <tr>\n",
       "      <th>2</th>\n",
       "      <td>people_NOUN</td>\n",
       "      <td>1072</td>\n",
       "      <td>0.810893</td>\n",
       "    </tr>\n",
       "    <tr>\n",
       "      <th>3</th>\n",
       "      <td>good_ADJ</td>\n",
       "      <td>966</td>\n",
       "      <td>0.730711</td>\n",
       "    </tr>\n",
       "    <tr>\n",
       "      <th>4</th>\n",
       "      <td>trump_PROPN</td>\n",
       "      <td>850</td>\n",
       "      <td>0.642965</td>\n",
       "    </tr>\n",
       "    <tr>\n",
       "      <th>5</th>\n",
       "      <td>number_NOUN</td>\n",
       "      <td>817</td>\n",
       "      <td>0.618003</td>\n",
       "    </tr>\n",
       "    <tr>\n",
       "      <th>6</th>\n",
       "      <td>need_VERB</td>\n",
       "      <td>802</td>\n",
       "      <td>0.606657</td>\n",
       "    </tr>\n",
       "    <tr>\n",
       "      <th>7</th>\n",
       "      <td>god_PROPN</td>\n",
       "      <td>755</td>\n",
       "      <td>0.571104</td>\n",
       "    </tr>\n",
       "    <tr>\n",
       "      <th>8</th>\n",
       "      <td>say_VERB</td>\n",
       "      <td>737</td>\n",
       "      <td>0.557489</td>\n",
       "    </tr>\n",
       "    <tr>\n",
       "      <th>9</th>\n",
       "      <td>would_VERB</td>\n",
       "      <td>732</td>\n",
       "      <td>0.553707</td>\n",
       "    </tr>\n",
       "  </tbody>\n",
       "</table>\n",
       "</div>"
      ],
      "text/plain": [
       "          word  occurrences    weight\n",
       "0     get_VERB         1322  1.000000\n",
       "1      go_VERB         1130  0.854766\n",
       "2  people_NOUN         1072  0.810893\n",
       "3     good_ADJ          966  0.730711\n",
       "4  trump_PROPN          850  0.642965\n",
       "5  number_NOUN          817  0.618003\n",
       "6    need_VERB          802  0.606657\n",
       "7    god_PROPN          755  0.571104\n",
       "8     say_VERB          737  0.557489\n",
       "9   would_VERB          732  0.553707"
      ]
     },
     "execution_count": 27,
     "metadata": {},
     "output_type": "execute_result"
    }
   ],
   "source": [
    "common_sp_words=create_common_words(words=words)\n",
    "common_sp_words['weight']=common_sp_words.occurrences/max(common_sp_words.occurrences)\n",
    "print(common_sp_words.shape)\n",
    "common_sp_words.head(10)"
   ]
  },
  {
   "cell_type": "code",
   "execution_count": 28,
   "metadata": {},
   "outputs": [
    {
     "name": "stdout",
     "output_type": "stream",
     "text": [
      "               word  occurrences    weight\n",
      "0          get_VERB         1322  1.000000\n",
      "1           go_VERB         1130  0.854766\n",
      "2       people_NOUN         1072  0.810893\n",
      "3          good_ADJ          966  0.730711\n",
      "4       trump_PROPN          850  0.642965\n",
      "5       number_NOUN          817  0.618003\n",
      "6         need_VERB          802  0.606657\n",
      "7         god_PROPN          755  0.571104\n",
      "8          say_VERB          737  0.557489\n",
      "9        would_VERB          732  0.553707\n",
      "10         like_ADP          667  0.504539\n",
      "11        make_VERB          658  0.497731\n",
      "12  president_PROPN          656  0.496218\n",
      "13       think_VERB          618  0.467474\n",
      "14         man_NOUN          612  0.462935\n",
      "15        time_NOUN          608  0.459909\n",
      "16     country_NOUN          581  0.439486\n",
      "17        know_VERB          555  0.419818\n",
      "18          one_NUM          515  0.389561\n",
      "19       thank_VERB          502  0.379728\n"
     ]
    },
    {
     "data": {
      "image/png": "[encoded data removed]",
      "text/plain": [
       "<matplotlib.figure.Figure at 0x121a50f28>"
      ]
     },
     "metadata": {
      "image/png": {
       "height": 262,
       "width": 452
      }
     },
     "output_type": "display_data"
    }
   ],
   "source": [
    "top_20_sp_pos=common_sp_words[['word','occurrences','weight']].sort_values(by='weight',ascending=False).head(20)\n",
    "print(top_20_sp_pos)\n",
    "sbs.barplot(x='weight', y='word', data=top_20_sp_pos);"
   ]
  },
  {
   "cell_type": "code",
   "execution_count": 29,
   "metadata": {},
   "outputs": [
    {
     "data": {
      "text/plain": [
       "0.5711043872919819"
      ]
     },
     "execution_count": 29,
     "metadata": {},
     "output_type": "execute_result"
    }
   ],
   "source": [
    "words_sp_pos_dict=common_sp_words[['word','weight']].apply(lambda x:{'word': x['word'],'weight':x['weight']},axis=1)\n",
    "words_sp_pos_dict=list(words_sp_pos_dict)\n",
    "aux = {}\n",
    "for item in words_sp_pos_dict:\n",
    "   word = item.pop('word')\n",
    "   aux[word] = item\n",
    "words_sp_pos_dict=aux\n",
    "words_sp_pos_dict\n",
    "words_sp_pos_dict.get('god_PROPN').get('weight')"
   ]
  },
  {
   "cell_type": "markdown",
   "metadata": {},
   "source": [
    "### Create the vectors to train the model"
   ]
  },
  {
   "cell_type": "code",
   "execution_count": 31,
   "metadata": {
    "collapsed": true
   },
   "outputs": [],
   "source": [
    "# Print the head of df\n",
    "X=df.iloc[:,range(1,df.shape[1])]\n",
    "# Create training and test sets\n",
    "#X_train, X_test = train_test_split(X,random_state=0,test_size=0.3)"
   ]
  },
  {
   "cell_type": "code",
   "execution_count": 35,
   "metadata": {},
   "outputs": [
    {
     "name": "stdout",
     "output_type": "stream",
     "text": [
      "['a_neg_NOUN', 'abide_VERB', 'ability_NOUN', 'able_ADJ', 'abortion_NOUN', 'absolute_ADJ', 'absolutely_ADV', 'abuse_VERB', 'accept_VERB', 'accomplish_VERB', 'accountable_ADJ', 'accusation_NOUN', 'accuse_VERB', 'across_ADP', 'act_NOUN', 'act_VERB', 'act_VERB like_ADP', 'action_NOUN', 'actor_NOUN', 'actually_ADV', 'add_VERB', 'administration_NOUN', 'admire_VERB', 'admit_VERB', 'adult_NOUN', 'afraid_ADJ', 'age_NOUN', 'agenda_NOUN', 'agent_NOUN', 'ago_ADV']\n"
     ]
    }
   ],
   "source": [
    "# Initialize a CountVectorizer object: count_vectorizer\n",
    "count_vectorizer_spacy = CountVectorizer(\n",
    "    tokenizer=spacy_tokenizer,stop_words='english',lowercase=True,min_df=10,ngram_range=(1,2))\n",
    "\n",
    "# Transform the training data using only the 'text' column values: count_train \n",
    "dtm_count_spacy = count_vectorizer_spacy.fit_transform(X.clean_message_neg)\n",
    "\n",
    "# Print the first 10 features of the count_vectorizer\n",
    "print(count_vectorizer_spacy.get_feature_names()[0:30])"
   ]
  },
  {
   "cell_type": "markdown",
   "metadata": {},
   "source": [
    "## Visualize the Clusters"
   ]
  },
  {
   "cell_type": "markdown",
   "metadata": {},
   "source": [
    "#### Exploring the clusters\n",
    "\n",
    "* After we create the topis Using the LDA algorithm, we are going to visualize it using the pyLDAvis library, which extracts information from a topic model and creates a web-based visualization where users can interactively explore the model \n",
    "\n",
    "* To understand what's going on we are going to label our data using LDA model with the number of the topic which has the best probability to match with the sentence. To do that we have created a function which will be apllied to the \"clean_message\" column row by row\n",
    "\n",
    "* Also, we would like to do the same for the nmf cluster, so we are going to display the full text of the main docs for each topic, so we are going to create the display_topic() function\n",
    "\n",
    "**References: **\n",
    "\n",
    "*<https://www.analyticsvidhya.com/blog/2016/08/beginners-guide-to-topic-modeling-in-python/>*\n",
    "\n",
    "*<https://nlpforhackers.io/topic-modeling/>*\n",
    "\n",
    "*<https://medium.com/mlreview/topic-modeling-with-scikit-learn-e80d33668730>*\n",
    "\n",
    "*<https://towardsdatascience.com/improving-the-interpretation-of-topic-models-87fd2ee3847d>*\n",
    "\n",
    "*<https://github.com/bmabey/pyLDAvis>*"
   ]
  },
  {
   "cell_type": "code",
   "execution_count": 40,
   "metadata": {
    "collapsed": true
   },
   "outputs": [],
   "source": [
    "def get_cluster(model,vectorizer,text):\n",
    "    x = model.transform(vectorizer.transform([text]))[0]\n",
    "    for i in range(0,9):\n",
    "        if(x[i]==x.max()):\n",
    "            return(i)\n",
    "        \n",
    "def get_cluster_prob(model,vectorizer,text):\n",
    "    x = model.transform(vectorizer.transform([text]))[0]\n",
    "    return(x.max())"
   ]
  },
  {
   "cell_type": "code",
   "execution_count": 41,
   "metadata": {
    "collapsed": true
   },
   "outputs": [],
   "source": [
    "def display_topics(H, W, feature_names, documents, no_top_words, no_top_documents):\n",
    "    for topic_idx, topic in enumerate(H):\n",
    "        print(\"Topic %d:\" % (topic_idx))\n",
    "        print(\" \".join([feature_names[i]\n",
    "                        for i in topic.argsort()[:-no_top_words - 1:-1]]))\n",
    "        top_doc_indices = np.argsort( W[:,topic_idx] )[::-1][0:no_top_documents]\n",
    "        for doc_index in top_doc_indices:\n",
    "            print(documents[doc_index])"
   ]
  },
  {
   "cell_type": "code",
   "execution_count": 42,
   "metadata": {
    "collapsed": true
   },
   "outputs": [],
   "source": [
    "def most_similar(x, Z, top_n=5):\n",
    "    dists = euclidean_distances(x.reshape(1, -1), Z)\n",
    "    pairs = enumerate(dists[0])\n",
    "    most_similar = sorted(pairs, key=lambda item: item[1])[:top_n]\n",
    "    return most_similar\n",
    "\n",
    "def get_similars(X,text,model,vectorizer):\n",
    "    x = nmf_model.transform(count_vectorizer.transform([text]))[0]\n",
    "    similarities = most_similar(x, model)\n",
    "    document_id, similarity = similarities[1]\n",
    "    print(X[document_id])\n",
    "    document_id, similarity = similarities[2]\n",
    "    print(X[document_id])\n",
    "    document_id, similarity = similarities[3]\n",
    "    print(X[document_id])\n",
    "    document_id, similarity = similarities[4]\n",
    "    print(X[document_id])"
   ]
  },
  {
   "cell_type": "code",
   "execution_count": 49,
   "metadata": {
    "collapsed": true
   },
   "outputs": [],
   "source": [
    "no_topics =4"
   ]
  },
  {
   "cell_type": "code",
   "execution_count": 54,
   "metadata": {},
   "outputs": [],
   "source": [
    "# Run LDA\n",
    "lda_model = LatentDirichletAllocation(n_components=no_topics, max_iter=50, learning_method='online', \n",
    "                                      learning_offset=50.,random_state=0).fit(dtm_count_spacy)\n",
    "lda   = lda_model.fit(dtm_count_spacy)\n",
    "lda_W = lda_model.transform(dtm_count_spacy)\n",
    "lda_H = lda_model.components_"
   ]
  },
  {
   "cell_type": "code",
   "execution_count": 55,
   "metadata": {
    "collapsed": true
   },
   "outputs": [],
   "source": [
    "df['count_spacy_cluster']=df.clean_message.apply(lambda x: get_cluster(model=lda_model,vectorizer=count_vectorizer_spacy,text=x))\n",
    "df['count_spacy_cluster_prob']=df.clean_message.apply(lambda x: get_cluster_prob(model=lda_model,vectorizer=count_vectorizer_spacy,text=x))"
   ]
  },
  {
   "cell_type": "code",
   "execution_count": 56,
   "metadata": {},
   "outputs": [
    {
     "data": {
      "text/html": [
       "\n",
       "<link rel=\"stylesheet\" type=\"text/css\" href=\"https://cdn.rawgit.com/bmabey/pyLDAvis/files/ldavis.v1.0.0.css\">\n",
       "\n",
       "\n",
       "<div id=\"ldavis_el5935547471769604205715808\"></div>\n",
       "<script type=\"text/javascript\">\n",
       "\n",
       "var ldavis_el5935547471769604205715808_data = {\"mdsDat\": {\"Freq\": [34.740107302531726, 25.59890734310975, 21.779894542283763, 17.881090812074763], \"cluster\": [1, 1, 1, 1], \"topics\": [1, 2, 3, 4], \"x\": [0.06502491698297136, -0.16130124733171555, 0.2992615660194081, -0.20298523567066415], \"y\": [-0.05261478553750149, -0.26328694660427365, 0.04992793708473968, 0.26597379505703533]}, \"tinfo\": {\"Category\": [\"Default\", \"Default\", \"Default\", \"Default\", \"Default\", \"Default\", \"Default\", \"Default\", \"Default\", \"Default\", \"Default\", \"Default\", \"Default\", \"Default\", \"Default\", \"Default\", \"Default\", \"Default\", \"Default\", \"Default\", \"Default\", \"Default\", \"Default\", \"Default\", \"Default\", \"Default\", \"Default\", \"Default\", \"Default\", \"Default\", \"Topic1\", \"Topic1\", \"Topic1\", \"Topic1\", \"Topic1\", \"Topic1\", \"Topic1\", \"Topic1\", \"Topic1\", \"Topic1\", \"Topic1\", \"Topic1\", \"Topic1\", \"Topic1\", \"Topic1\", \"Topic1\", \"Topic1\", \"Topic1\", \"Topic1\", \"Topic1\", \"Topic1\", \"Topic1\", \"Topic1\", \"Topic1\", \"Topic1\", \"Topic1\", \"Topic1\", \"Topic1\", \"Topic1\", \"Topic1\", \"Topic1\", \"Topic1\", \"Topic1\", \"Topic1\", \"Topic1\", \"Topic1\", \"Topic1\", \"Topic1\", \"Topic1\", \"Topic1\", \"Topic1\", \"Topic1\", \"Topic1\", \"Topic1\", \"Topic1\", \"Topic1\", \"Topic1\", \"Topic1\", \"Topic1\", \"Topic1\", \"Topic1\", \"Topic2\", \"Topic2\", \"Topic2\", \"Topic2\", \"Topic2\", \"Topic2\", \"Topic2\", \"Topic2\", \"Topic2\", \"Topic2\", \"Topic2\", \"Topic2\", \"Topic2\", \"Topic2\", \"Topic2\", \"Topic2\", \"Topic2\", \"Topic2\", \"Topic2\", \"Topic2\", \"Topic2\", \"Topic2\", \"Topic2\", \"Topic2\", \"Topic2\", \"Topic2\", \"Topic2\", \"Topic2\", \"Topic2\", \"Topic2\", \"Topic2\", \"Topic2\", \"Topic2\", \"Topic2\", \"Topic2\", \"Topic2\", \"Topic2\", \"Topic2\", \"Topic2\", \"Topic2\", \"Topic2\", \"Topic2\", \"Topic2\", \"Topic2\", \"Topic2\", \"Topic3\", \"Topic3\", \"Topic3\", \"Topic3\", \"Topic3\", \"Topic3\", \"Topic3\", \"Topic3\", \"Topic3\", \"Topic3\", \"Topic3\", \"Topic3\", \"Topic3\", \"Topic3\", \"Topic3\", \"Topic3\", \"Topic3\", \"Topic3\", \"Topic3\", \"Topic3\", \"Topic3\", \"Topic3\", \"Topic3\", \"Topic3\", \"Topic3\", \"Topic3\", \"Topic3\", \"Topic3\", \"Topic3\", \"Topic3\", \"Topic3\", \"Topic3\", \"Topic3\", \"Topic3\", \"Topic3\", \"Topic3\", \"Topic3\", \"Topic3\", \"Topic3\", \"Topic3\", \"Topic3\", \"Topic3\", \"Topic3\", \"Topic3\", \"Topic3\", \"Topic3\", \"Topic3\", \"Topic4\", \"Topic4\", \"Topic4\", \"Topic4\", \"Topic4\", \"Topic4\", \"Topic4\", \"Topic4\", \"Topic4\", \"Topic4\", \"Topic4\", \"Topic4\", \"Topic4\", \"Topic4\", \"Topic4\", \"Topic4\", \"Topic4\", \"Topic4\", \"Topic4\", \"Topic4\", \"Topic4\", \"Topic4\", \"Topic4\", \"Topic4\", \"Topic4\", \"Topic4\", \"Topic4\", \"Topic4\", \"Topic4\", \"Topic4\", \"Topic4\", \"Topic4\", \"Topic4\", \"Topic4\", \"Topic4\", \"Topic4\", \"Topic4\", \"Topic4\", \"Topic4\", \"Topic4\", \"Topic4\", \"Topic4\", \"Topic4\"], \"Freq\": [1083.0, 877.0, 1066.0, 932.0, 589.0, 675.0, 661.0, 1166.0, 479.0, 434.0, 647.0, 585.0, 397.0, 354.0, 309.0, 284.0, 470.0, 268.0, 297.0, 296.0, 1048.0, 374.0, 275.0, 530.0, 345.0, 232.0, 204.0, 604.0, 227.0, 251.0, 1065.697007379538, 674.9504851574129, 660.7850623984435, 345.2036830776381, 253.35045030392587, 214.8699479317445, 199.94846341047483, 178.56804518041662, 168.36928114872538, 153.6728936552579, 156.8065270411731, 141.36495779980163, 135.71426993444106, 131.99758906993193, 131.12423178237492, 125.54912420733432, 125.29242641081677, 123.41742292977669, 371.71112174868466, 117.64182208233598, 107.26737988116113, 103.39652371708736, 103.1952630395336, 99.86637185448741, 96.14861681024996, 92.32898158936605, 92.97804318666338, 91.17900953842395, 92.02563376537759, 87.16969897770068, 577.4487625966141, 165.68948941782998, 318.603847752996, 245.84564822271693, 924.313927624133, 141.27338030803156, 349.7276163669218, 340.96759212370455, 286.239569011459, 263.60554139359465, 613.2617215783475, 291.8820952989063, 331.42667303707645, 163.78974424922723, 332.98855081385256, 255.1888884920456, 286.68482036306244, 280.14537855490994, 261.5791891737481, 186.81781746142832, 205.49303071947926, 876.5058538014625, 479.2351036071005, 433.8942966439911, 396.4037667529807, 296.9496526210942, 296.030216936327, 274.22654335934095, 250.55322893880484, 228.41850568108197, 207.6726866317878, 200.61978045228642, 169.0000186659983, 167.43864717505798, 171.87060851929914, 161.28281348152373, 160.03110625662438, 183.72666362832896, 125.90775668959273, 126.07791075539136, 127.14298616629522, 116.4644860678025, 110.11008544279518, 171.08758084929653, 103.92474139646566, 101.33620493202005, 102.25681402128791, 97.03767233412844, 92.7055284364909, 88.36160734427126, 92.45112228264544, 578.311860175973, 99.6539953028519, 427.85500985528506, 535.8968220928025, 255.22377517422575, 265.39985258390016, 292.3018785617493, 323.4864110779314, 398.3045576966429, 294.3367860951353, 198.99645629826847, 201.39444993307254, 318.32564409101656, 236.75216851496452, 191.1888870689912, 1082.5211092328377, 353.4087816974662, 231.3404373463858, 220.15118535139612, 221.76740920180458, 226.5011347532094, 195.79947325304968, 159.26020832670017, 148.23415440322714, 137.52298750827828, 134.99564266053486, 127.96151570476374, 126.54794572324089, 127.17423783164027, 116.18231198978205, 112.41711756543651, 100.00536222180162, 100.14767983088038, 89.9999386268312, 90.81728171000586, 93.64071380539094, 90.58077360661974, 83.10398234154259, 80.28526102463728, 81.69750043851754, 76.71947531007689, 79.52694769460739, 75.91960310135151, 74.98625294868076, 73.78931335860902, 79.0418835613815, 129.94027893766363, 117.26759671015984, 101.67503189057221, 197.2392085274836, 432.6988913358145, 306.3722158996207, 267.9402267094761, 152.67891340389593, 127.98745304885564, 114.33129155878993, 240.25274671972664, 127.41501958598847, 137.35992119773496, 107.16234892252471, 105.40690498703366, 111.48230843078743, 309.13177435966503, 283.38820099874175, 268.0046366656966, 203.64758663859234, 178.40641675640845, 177.6396568784331, 172.53075848161672, 162.07250702339527, 155.45845691154545, 152.82503639670648, 146.04985232481766, 138.3453445239566, 135.46022605302662, 122.67662315276661, 119.00039968372604, 106.85584544537593, 102.74895816426786, 95.6171450495112, 83.63114196826605, 85.20433857612778, 85.44417406017189, 82.31857846924005, 81.83855650451015, 78.25060575139038, 78.40222487406862, 74.26098090253386, 76.61764703902924, 75.59247208942276, 74.2197608535543, 72.85932427274481, 82.44944544355708, 534.1054410454148, 158.78592335099455, 149.1111578207774, 254.7756093460936, 90.39441316243538, 148.30718728079373, 106.9007570220745, 96.47113740411105, 121.8665169240811, 106.83644446796455, 89.2092475355984, 88.46437621226491], \"Term\": [\"neg_NOUN\", \"president_NOUN\", \"number_NOUN\", \"good_ADJ\", \"man_NOUN\", \"would_VERB\", \"say_VERB\", \"get_VERB\", \"thank_VERB\", \"god_NOUN\", \"trump_NOUN\", \"time_NOUN\", \"bless_VERB\", \"dont_neg_VERB\", \"obama_NOUN\", \"yes_INTJ\", \"great_ADJ\", \"law_NOUN\", \"god_INTJ\", \"keep_VERB\", \"go_VERB\", \"year_NOUN\", \"love_VERB\", \"think_VERB\", \"come_VERB\", \"news_NOUN\", \"boy_NOUN\", \"make_VERB\", \"still_ADV\", \"american_ADJ\", \"number_NOUN\", \"would_VERB\", \"say_VERB\", \"come_VERB\", \"money_NOUN\", \"big_ADJ\", \"could_VERB\", \"something_NOUN\", \"every_DET\", \"number_NOUN year_NOUN\", \"ass_NOUN\", \"number_NOUN number_NOUN\", \"old_ADJ\", \"help_VERB\", \"also_ADV\", \"government_NOUN\", \"away_ADV\", \"find_VERB\", \"year_NOUN\", \"office_NOUN\", \"tax_NOUN\", \"kill_VERB\", \"problem_NOUN\", \"reason_NOUN\", \"game_NOUN\", \"fact_NOUN\", \"traitor_NOUN\", \"since_ADP\", \"two_NUM\", \"play_VERB\", \"time_NOUN\", \"someone_NOUN\", \"give_VERB\", \"leave_VERB\", \"get_VERB\", \"person_NOUN\", \"know_VERB\", \"take_VERB\", \"thing_NOUN\", \"let_VERB\", \"people_NOUN\", \"us_PRON\", \"one_NUM\", \"pay_VERB\", \"need_VERB\", \"want_VERB\", \"country_NOUN\", \"make_VERB\", \"think_VERB\", \"see_VERB\", \"like_ADP\", \"president_NOUN\", \"thank_VERB\", \"god_NOUN\", \"bless_VERB\", \"god_INTJ\", \"keep_VERB\", \"love_VERB\", \"american_ADJ\", \"put_VERB\", \"right_ADJ\", \"democrat_NOUN\", \"god_NOUN bless_VERB\", \"god_INTJ bless_VERB\", \"stand_VERB\", \"president_NOUN trump_NOUN\", \"true_ADJ\", \"young_ADJ\", \"proud_ADJ\", \"care_VERB\", \"live_VERB\", \"support_VERB\", \"mr_ADP\", \"watch_VERB\", \"young_ADJ man_NOUN\", \"awesome_ADJ\", \"flag_NOUN\", \"service_NOUN\", \"thank_NOUN\", \"president_NOUN trump_VERB\", \"help_NOUN\", \"man_NOUN\", \"pray_VERB\", \"great_ADJ\", \"trump_NOUN\", \"trump_VERB\", \"family_NOUN\", \"america_NOUN\", \"make_VERB\", \"good_ADJ\", \"country_NOUN\", \"job_NOUN\", \"way_NOUN\", \"go_VERB\", \"people_NOUN\", \"need_VERB\", \"neg_NOUN\", \"dont_neg_VERB\", \"news_NOUN\", \"idiot_NOUN\", \"love_NOUN\", \"still_ADV\", \"dont_neg_NOUN\", \"nothing_neg_ADV\", \"no_neg_NUM\", \"not_neg_NOUN\", \"vote_VERB\", \"neg_ADJ\", \"never_neg_NOUN\", \"sick_ADJ\", \"cant_neg_VERB\", \"beautiful_ADJ\", \"fake_ADJ\", \"not_neg_PROPN\", \"neg_NOUN neg_NOUN\", \"cant_neg_NOUN\", \"sorry_ADJ\", \"talk_VERB\", \"crap_NOUN\", \"shut_VERB\", \"stay_VERB\", \"no_neg_PUNCT\", \"prove_VERB\", \"get_neg_NOUN\", \"smart_ADJ\", \"fire_VERB\", \"corrupt_ADJ\", \"clinton_NOUN\", \"didnt_neg_VERB\", \"never_neg_VERB\", \"another_DET\", \"go_VERB\", \"like_ADP\", \"think_VERB\", \"look_VERB\", \"liberal_ADJ\", \"need_NOUN\", \"get_VERB\", \"tell_VERB\", \"woman_NOUN\", \"medium_NOUN\", \"lie_VERB\", \"trump_NOUN\", \"obama_NOUN\", \"yes_INTJ\", \"law_NOUN\", \"boy_NOUN\", \"state_NOUN\", \"happen_VERB\", \"hope_VERB\", \"girl_NOUN\", \"son_NOUN\", \"truth_NOUN\", \"white_ADJ\", \"little_ADJ\", \"sad_ADJ\", \"lady_NOUN\", \"jail_NOUN\", \"house_NOUN\", \"citizen_NOUN\", \"head_NOUN\", \"scouts_ADV\", \"absolutely_ADV\", \"prayer_NOUN\", \"finally_ADV\", \"hope_NOUN\", \"city_NOUN\", \"learn_VERB\", \"break_VERB\", \"change_NOUN\", \"next_ADJ\", \"father_NOUN\", \"national_ADJ\", \"become_VERB\", \"good_ADJ\", \"stupid_ADJ\", \"bad_ADJ\", \"go_VERB\", \"feel_VERB\", \"people_NOUN\", \"not_ADV\", \"may_VERB\", \"like_ADP\", \"take_VERB\", \"hell_NOUN\", \"want_VERB\"], \"Total\": [1083.0, 877.0, 1066.0, 932.0, 589.0, 675.0, 661.0, 1166.0, 479.0, 434.0, 647.0, 585.0, 397.0, 354.0, 309.0, 284.0, 470.0, 268.0, 297.0, 296.0, 1048.0, 374.0, 275.0, 530.0, 345.0, 232.0, 204.0, 604.0, 227.0, 251.0, 1066.4668816694846, 675.7297145591368, 661.5636925111136, 345.9954103545714, 254.1205567023766, 215.64585835561218, 200.7290149270931, 179.3394794323133, 169.1540008225736, 154.43491990382856, 157.60005595632393, 142.12170717498623, 136.49268217175467, 132.78141295590726, 131.90680802907357, 126.32990600510183, 126.07741669933576, 124.19807118057781, 374.0692183747231, 118.43582901786012, 108.02817699294198, 104.16957988515794, 103.97567762470898, 100.6584824155358, 96.93259775914605, 93.12179003849492, 93.7782168443911, 91.9663958172148, 92.84195242468151, 87.95542376405412, 585.5725147301945, 167.6372771165869, 325.0060429281863, 268.87172461048243, 1166.3239866560884, 150.6827560194578, 456.3138154117284, 448.3246328876575, 370.6123505014608, 336.9712738922491, 1005.0511128360667, 410.60585185516646, 547.190720526882, 191.7882172276906, 611.1474188401468, 416.94178109990537, 581.5536972987319, 604.1683554274587, 530.0502496262505, 380.9740977407241, 633.9921724316748, 877.2767962236894, 479.99167547661045, 434.65717295596977, 397.14983880840833, 297.7060796350423, 296.81628623226, 275.00082422254945, 251.3333369677403, 229.20896433964015, 208.45808575690276, 201.4144095389618, 169.74686330158585, 168.1824323483362, 172.65173419291105, 162.03645471285716, 160.80499521475915, 184.62340325816487, 126.6640635932044, 126.85674269966762, 127.94159069771521, 117.25593634314397, 110.87241161577765, 172.3104555740322, 104.67704173056391, 102.0988372584836, 103.03613026160295, 97.80479184706545, 93.4668913648255, 89.11758556562623, 93.24572081701983, 589.1313939814083, 100.68347802686223, 470.56842127128914, 647.9029173329212, 302.16003110472036, 330.93428930777026, 396.91529153444384, 604.1683554274587, 932.9410948193663, 581.5536972987319, 324.66817294121233, 346.18164424020995, 1048.5231441268245, 1005.0511128360667, 611.1474188401468, 1083.2747109004333, 354.1672832821814, 232.1050323039866, 220.92509525512247, 222.5547105110025, 227.3156764577682, 196.55906049074082, 160.02676724003445, 149.000048174988, 138.288417520411, 135.7876405633356, 128.723622066338, 127.30846866100515, 127.95300612879684, 116.94010693391174, 113.19187627199457, 100.75691484658286, 100.9167539807205, 90.74591828285972, 91.57611949715832, 94.42846587270603, 91.35066851599872, 83.87059150967433, 81.0521303609875, 82.48528636108465, 77.47288923654321, 80.31770061442752, 76.67675847846964, 75.77006663793122, 74.57388353272275, 80.02985960550347, 134.43880235931363, 121.7206465380472, 107.0243709807209, 249.50119564171905, 1048.5231441268245, 633.9921724316748, 530.0502496262505, 233.93120275842386, 196.46526144922333, 158.02638257425343, 1166.3239866560884, 230.5987456202787, 329.75048481957464, 179.45003583970995, 162.0315524055244, 647.9029173329212, 309.90495422094426, 284.14884497124825, 268.7672062545637, 204.39619826139764, 179.17330732652536, 178.41492792731376, 173.2960003855167, 162.81779037362864, 156.22339102110234, 153.58924055897361, 146.81347027500885, 139.11701141658554, 136.22377791133607, 123.44047721802282, 119.76401937140908, 107.62490797864454, 103.50716861113767, 96.39084282074884, 84.36728208820867, 85.95968931570042, 86.20266697219876, 83.09213127558048, 82.60777264945845, 79.01001308847545, 79.16816982936895, 75.01523947925081, 77.39606153255527, 76.36988943062278, 74.98543129652543, 73.61843733725529, 85.98511048733869, 932.9410948193663, 256.9864054220901, 241.85985915785824, 1048.5231441268245, 126.08671282267869, 1005.0511128360667, 280.46778437789385, 182.07774868676722, 633.9921724316748, 448.3246328876575, 180.67488458189092, 416.94178109990537], \"loglift\": [30.0, 29.0, 28.0, 27.0, 26.0, 25.0, 24.0, 23.0, 22.0, 21.0, 20.0, 19.0, 18.0, 17.0, 16.0, 15.0, 14.0, 13.0, 12.0, 11.0, 10.0, 9.0, 8.0, 7.0, 6.0, 5.0, 4.0, 3.0, 2.0, 1.0, 1.0566, 1.0561, 1.0561, 1.055, 1.0542, 1.0537, 1.0534, 1.053, 1.0526, 1.0523, 1.0522, 1.0519, 1.0516, 1.0514, 1.0513, 1.0511, 1.051, 1.051, 1.051, 1.0505, 1.0502, 1.0498, 1.0497, 1.0494, 1.0492, 1.0487, 1.0487, 1.0487, 1.0484, 1.0483, 1.0433, 1.0456, 1.0374, 0.9677, 0.8247, 0.9928, 0.7912, 0.7835, 0.7989, 0.8117, 0.5633, 0.716, 0.5559, 0.8995, 0.45, 0.5663, 0.35, 0.2887, 0.351, 0.3447, -0.0693, 1.3617, 1.361, 1.3609, 1.3607, 1.3601, 1.36, 1.3598, 1.3595, 1.3592, 1.3588, 1.3587, 1.3582, 1.3582, 1.3581, 1.358, 1.3578, 1.3578, 1.3566, 1.3565, 1.3564, 1.3558, 1.3557, 1.3555, 1.3554, 1.3551, 1.355, 1.3547, 1.3544, 1.3541, 1.3541, 1.3441, 1.3523, 1.2675, 1.1728, 1.1938, 1.1419, 1.0567, 0.7379, 0.5115, 0.6816, 0.8731, 0.8209, 0.1706, -0.0832, 0.2005, 1.5235, 1.522, 1.5209, 1.5207, 1.5206, 1.5206, 1.5203, 1.5194, 1.519, 1.5186, 1.5183, 1.5182, 1.5182, 1.5181, 1.5177, 1.5173, 1.5167, 1.5165, 1.5159, 1.5159, 1.5158, 1.5157, 1.515, 1.5147, 1.5146, 1.5144, 1.5143, 1.5143, 1.5138, 1.5136, 1.5118, 1.4901, 1.4869, 1.4729, 1.2891, 0.6391, 0.7969, 0.842, 1.0975, 1.0956, 1.2005, -0.0557, 0.931, 0.6485, 1.0086, 1.0942, -0.2357, 1.7189, 1.7187, 1.7186, 1.7178, 1.7171, 1.7171, 1.717, 1.7168, 1.7165, 1.7164, 1.7162, 1.7159, 1.7158, 1.7152, 1.715, 1.7143, 1.7141, 1.7134, 1.7127, 1.7126, 1.7126, 1.7121, 1.7121, 1.7118, 1.7117, 1.7113, 1.7113, 1.7112, 1.7112, 1.7111, 1.6794, 1.1637, 1.24, 1.2378, 0.3067, 1.3886, -0.1921, 0.7569, 1.0862, 0.0723, 0.2872, 1.0157, 0.1711], \"logprob\": [30.0, 29.0, 28.0, 27.0, 26.0, 25.0, 24.0, 23.0, 22.0, 21.0, 20.0, 19.0, 18.0, 17.0, 16.0, 15.0, 14.0, 13.0, 12.0, 11.0, 10.0, 9.0, 8.0, 7.0, 6.0, 5.0, 4.0, 3.0, 2.0, 1.0, -3.4662, -3.923, -3.9442, -4.5935, -4.9028, -5.0676, -5.1395, -5.2526, -5.3114, -5.4028, -5.3826, -5.4863, -5.527, -5.5548, -5.5615, -5.6049, -5.6069, -5.622, -4.5195, -5.67, -5.7623, -5.799, -5.801, -5.8338, -5.8717, -5.9122, -5.9052, -5.9248, -5.9155, -5.9697, -4.079, -5.3275, -4.6736, -4.9329, -3.6085, -5.4869, -4.5804, -4.6058, -4.7808, -4.8631, -4.0188, -4.7612, -4.6342, -5.339, -4.6295, -4.8956, -4.7792, -4.8023, -4.8709, -5.2075, -5.1122, -3.3563, -3.9601, -4.0595, -4.1498, -4.4387, -4.4418, -4.5183, -4.6086, -4.7011, -4.7963, -4.8308, -5.0024, -5.0116, -4.9855, -5.0491, -5.0569, -4.9188, -5.2967, -5.2954, -5.2869, -5.3747, -5.4308, -4.9901, -5.4886, -5.5138, -5.5048, -5.5572, -5.6028, -5.6508, -5.6056, -3.7721, -5.5305, -4.0735, -3.8483, -4.5901, -4.551, -4.4545, -4.3531, -4.145, -4.4475, -4.839, -4.827, -4.3692, -4.6652, -4.879, -2.9836, -4.1031, -4.5268, -4.5764, -4.5691, -4.5479, -4.6936, -4.9002, -4.9719, -5.0469, -5.0654, -5.119, -5.1301, -5.1251, -5.2155, -5.2485, -5.3655, -5.364, -5.4709, -5.4618, -5.4312, -5.4644, -5.5506, -5.5851, -5.5677, -5.6305, -5.5946, -5.641, -5.6534, -5.6695, -5.6007, -5.1036, -5.2062, -5.3489, -4.6863, -3.9006, -4.2459, -4.3799, -4.9424, -5.1188, -5.2316, -4.489, -5.1232, -5.0481, -5.2963, -5.3129, -5.2568, -4.0397, -4.1266, -4.1824, -4.4571, -4.5894, -4.5937, -4.6229, -4.6854, -4.7271, -4.7442, -4.7895, -4.8437, -4.8648, -4.9639, -4.9943, -5.102, -5.1412, -5.2131, -5.347, -5.3284, -5.3256, -5.3629, -5.3687, -5.4135, -5.4116, -5.4659, -5.4346, -5.4481, -5.4664, -5.4849, -5.3613, -3.4929, -4.7059, -4.7688, -4.2331, -5.2693, -4.7742, -5.1015, -5.2042, -4.9705, -5.1021, -5.2825, -5.2908]}, \"token.table\": {\"Topic\": [4, 1, 1, 2, 3, 2, 2, 3, 1, 1, 2, 2, 4, 3, 1, 4, 1, 2, 4, 4, 3, 3, 2, 4, 4, 4, 1, 3, 1, 3, 1, 1, 2, 3, 2, 1, 3, 3, 3, 1, 1, 3, 2, 3, 4, 1, 3, 4, 4, 1, 3, 2, 1, 1, 2, 3, 3, 4, 1, 3, 1, 2, 3, 4, 2, 2, 2, 2, 2, 4, 1, 2, 4, 4, 4, 3, 4, 2, 1, 4, 4, 4, 3, 4, 1, 2, 4, 2, 1, 1, 2, 4, 4, 4, 1, 3, 1, 2, 3, 1, 3, 1, 2, 3, 4, 1, 3, 4, 4, 2, 1, 2, 3, 3, 2, 1, 2, 1, 2, 3, 4, 2, 3, 4, 1, 2, 3, 1, 2, 4, 1, 3, 1, 2, 4, 3, 3, 3, 3, 1, 3, 3, 4, 3, 3, 1, 2, 3, 4, 3, 3, 3, 1, 1, 1, 4, 1, 1, 1, 2, 3, 4, 1, 2, 3, 1, 2, 3, 4, 1, 4, 1, 1, 2, 4, 2, 2, 2, 1, 2, 3, 2, 1, 2, 4, 1, 4, 1, 2, 3, 4, 2, 3, 3, 1, 3, 1, 2, 1, 4, 3, 2, 4, 3, 3, 1, 4, 2, 1, 4, 3, 1, 1, 3, 2, 2, 1, 2, 1, 3, 1, 2, 1, 2, 2, 3, 1, 2, 3, 4, 1, 1, 2, 4, 3, 1, 2, 3, 4, 2, 3, 1, 2, 4, 4, 1, 2, 3, 4, 1, 1, 4, 4, 2, 2], \"Freq\": [0.9888355888284356, 0.9931253887299456, 0.18139890685907706, 0.7356733444840348, 0.08314116564374366, 0.9986737256117237, 0.2084158349071458, 0.7895753745520715, 0.996192539700048, 0.9914543244338109, 0.9892375144713776, 0.3803855684045239, 0.6160592357855876, 0.989470302010627, 0.03488976152960518, 0.9536534818092082, 0.9970050045916156, 0.9971047733221843, 0.9980616162885234, 0.9864662235793885, 0.9937088457086655, 0.9919607826727657, 0.9932463763341618, 0.9948826655425009, 0.9951001595547161, 0.9872166444606909, 0.029753314741001846, 0.96698272908256, 0.997123053298449, 0.987131558013721, 0.9963681636789884, 0.4935055891366368, 0.5055423108228961, 0.9896198238977019, 0.9979425030219518, 0.03286213238071889, 0.9612173721360276, 0.9971557633143695, 0.996704147059085, 0.993177809469703, 0.987953517237682, 0.992487713148667, 0.8007631985017694, 0.1964136147268491, 0.9868583632915492, 0.21413834491800332, 0.06344839849422321, 0.713794483060011, 0.9868563814790313, 0.9903535443893016, 0.9923044971572262, 0.9899440103294614, 0.9903789047162098, 0.7922326991226135, 0.0008573946960201444, 0.20577472704483468, 0.991173877301299, 0.994977266478362, 0.9815202115195336, 0.018461195200994363, 0.04101006281154526, 0.3032837203272417, 0.41296179528835114, 0.24319920969637307, 0.9976282659866811, 0.9929693468466008, 0.9984880660049837, 0.9956001348887437, 0.42660785574791277, 0.572383404445692, 0.9973885359727213, 0.9095382959266877, 0.08925375801149739, 0.9976743654125019, 0.9959452287238979, 0.5036671267873661, 0.49259751960522624, 0.9866404505632558, 0.9941150426214643, 0.9926426699332821, 0.9982919375816048, 0.9941936491247124, 0.9958126293708093, 0.993620626834177, 0.19404427427941146, 0.6129335012952838, 0.1909642064337065, 0.9972498603677655, 0.9887723471051016, 0.7670160056061369, 0.2322962759835729, 0.9964316630334729, 0.9971454618096636, 0.9852444507447032, 0.914934437068022, 0.08182340494104262, 0.7834495710884168, 0.15431582460832455, 0.06231985224566953, 0.34611716849278557, 0.6515146701040669, 0.25920877370158446, 0.01234327493817069, 0.6480219342539613, 0.08023128709810948, 0.3233478407370918, 0.4826558012953662, 0.19243139790207411, 0.9919707057734252, 0.9926404643511124, 0.2607604256324604, 0.08549522151883947, 0.654038444619122, 0.9975075319244925, 0.9963606500984902, 0.4634469804395756, 0.5346191952927961, 0.010184485263043623, 0.9811054136732024, 0.0033948284210145413, 0.005092242631521812, 0.3405138763367517, 0.12631966380234336, 0.5272472923923897, 0.3064919978568721, 0.09473389024666955, 0.5962662503760966, 0.9955904523549073, 0.992131391361803, 0.9915994231931038, 0.27210646285467655, 0.7213985294286774, 0.5448767183406862, 0.31252688649570887, 0.14235517866558467, 0.9943784827157436, 0.9997464069846097, 0.9917801450800834, 0.9975769981035076, 0.046718331107039976, 0.9530539545836155, 0.9952390851115225, 0.9951566064403066, 0.9932882694520103, 0.993896068144569, 0.4849041764338884, 0.007130943771086594, 0.13192245976510197, 0.38150549175313275, 0.9979143768828764, 0.9909157405033495, 0.993583778153224, 0.9995622164386824, 0.9921074183720215, 0.9971837981714279, 0.9970798975343289, 0.996320125240189, 0.996390413288716, 0.6049079189085752, 0.23026706278695008, 0.13889124422070004, 0.025585229198550007, 0.8551098830294642, 0.005214084652618685, 0.1355662009680858, 0.6099192291526631, 0.23580890262509158, 0.006964819908757979, 0.1472561923565973, 0.9357407823214525, 0.05972813504179484, 0.9891374093470676, 0.009932116168386646, 0.9932116168386647, 0.9860483786123853, 0.9996844824519685, 0.9936035707847728, 0.9874594272439838, 0.9906162898189459, 0.9947572849443934, 0.9960444508246984, 0.9947254927697823, 0.9934582521042045, 0.9978025042528839, 0.9910164148278681, 0.9991479391667129, 0.9956466288931216, 0.490847018495375, 0.06824610952342111, 0.23098683223311764, 0.2099880293028342, 0.9917714476779024, 0.9870190905988336, 0.9925519051280628, 0.989491859405521, 0.9898367960845145, 0.9902332157575656, 0.0059652603358889495, 0.9981070568879317, 0.9921689638593424, 0.9954625348538054, 0.9962251511926151, 0.9934515506576707, 0.9941166918065815, 0.9986112860200081, 0.3813431291785215, 0.6187097708100502, 0.989288931696656, 0.7606095560790852, 0.2386663416435839, 0.9961612922850444, 0.9904823258008959, 0.4466633143339278, 0.5507402031107653, 0.9950047406305287, 0.9979339735931342, 0.7716958153526854, 0.22665191779589358, 0.49429275844081133, 0.5056124399318223, 0.9853604557684127, 0.013661843407534319, 0.9917015180008977, 0.9949939663647634, 0.8272844366968323, 0.17132196356967982, 0.04633306380335917, 0.8439236621326135, 0.10921365039363233, 0.9961635297054069, 0.9909313365058264, 0.7111442729827375, 0.2800739431267631, 0.009741702369626543, 0.9941994679333999, 0.6115961785535191, 0.0047968327729687775, 0.1702875634403916, 0.2110606420106262, 0.9923947994353183, 0.0058034783592708665, 0.41596659556010623, 0.5806200396359816, 0.0028886569136118492, 0.9944591577769732, 0.3457159435637401, 0.1243364358430995, 0.41546565147572273, 0.11220605185840687, 0.9989201088195258, 0.9944683543229952, 0.005346604055499974, 0.995956890229962, 0.9966233790128267, 0.9935320895645235], \"Term\": [\"absolutely_ADV\", \"also_ADV\", \"america_NOUN\", \"america_NOUN\", \"america_NOUN\", \"american_ADJ\", \"another_DET\", \"another_DET\", \"ass_NOUN\", \"away_ADV\", \"awesome_ADJ\", \"bad_ADJ\", \"bad_ADJ\", \"beautiful_ADJ\", \"become_VERB\", \"become_VERB\", \"big_ADJ\", \"bless_VERB\", \"boy_NOUN\", \"break_VERB\", \"cant_neg_NOUN\", \"cant_neg_VERB\", \"care_VERB\", \"change_NOUN\", \"citizen_NOUN\", \"city_NOUN\", \"clinton_NOUN\", \"clinton_NOUN\", \"come_VERB\", \"corrupt_ADJ\", \"could_VERB\", \"country_NOUN\", \"country_NOUN\", \"crap_NOUN\", \"democrat_NOUN\", \"didnt_neg_VERB\", \"didnt_neg_VERB\", \"dont_neg_NOUN\", \"dont_neg_VERB\", \"every_DET\", \"fact_NOUN\", \"fake_ADJ\", \"family_NOUN\", \"family_NOUN\", \"father_NOUN\", \"feel_VERB\", \"feel_VERB\", \"feel_VERB\", \"finally_ADV\", \"find_VERB\", \"fire_VERB\", \"flag_NOUN\", \"game_NOUN\", \"get_VERB\", \"get_VERB\", \"get_VERB\", \"get_neg_NOUN\", \"girl_NOUN\", \"give_VERB\", \"give_VERB\", \"go_VERB\", \"go_VERB\", \"go_VERB\", \"go_VERB\", \"god_INTJ\", \"god_INTJ bless_VERB\", \"god_NOUN\", \"god_NOUN bless_VERB\", \"good_ADJ\", \"good_ADJ\", \"government_NOUN\", \"great_ADJ\", \"great_ADJ\", \"happen_VERB\", \"head_NOUN\", \"hell_NOUN\", \"hell_NOUN\", \"help_NOUN\", \"help_VERB\", \"hope_NOUN\", \"hope_VERB\", \"house_NOUN\", \"idiot_NOUN\", \"jail_NOUN\", \"job_NOUN\", \"job_NOUN\", \"job_NOUN\", \"keep_VERB\", \"kill_VERB\", \"know_VERB\", \"know_VERB\", \"lady_NOUN\", \"law_NOUN\", \"learn_VERB\", \"leave_VERB\", \"leave_VERB\", \"let_VERB\", \"let_VERB\", \"let_VERB\", \"liberal_ADJ\", \"liberal_ADJ\", \"lie_VERB\", \"lie_VERB\", \"lie_VERB\", \"lie_VERB\", \"like_ADP\", \"like_ADP\", \"like_ADP\", \"little_ADJ\", \"live_VERB\", \"look_VERB\", \"look_VERB\", \"look_VERB\", \"love_NOUN\", \"love_VERB\", \"make_VERB\", \"make_VERB\", \"man_NOUN\", \"man_NOUN\", \"man_NOUN\", \"man_NOUN\", \"may_VERB\", \"may_VERB\", \"may_VERB\", \"medium_NOUN\", \"medium_NOUN\", \"medium_NOUN\", \"money_NOUN\", \"mr_ADP\", \"national_ADJ\", \"need_NOUN\", \"need_NOUN\", \"need_VERB\", \"need_VERB\", \"need_VERB\", \"neg_ADJ\", \"neg_NOUN\", \"neg_NOUN neg_NOUN\", \"never_neg_NOUN\", \"never_neg_VERB\", \"never_neg_VERB\", \"news_NOUN\", \"next_ADJ\", \"no_neg_NUM\", \"no_neg_PUNCT\", \"not_ADV\", \"not_ADV\", \"not_ADV\", \"not_ADV\", \"not_neg_NOUN\", \"not_neg_PROPN\", \"nothing_neg_ADV\", \"number_NOUN\", \"number_NOUN number_NOUN\", \"number_NOUN year_NOUN\", \"obama_NOUN\", \"office_NOUN\", \"old_ADJ\", \"one_NUM\", \"one_NUM\", \"one_NUM\", \"one_NUM\", \"pay_VERB\", \"pay_VERB\", \"pay_VERB\", \"people_NOUN\", \"people_NOUN\", \"people_NOUN\", \"people_NOUN\", \"person_NOUN\", \"person_NOUN\", \"play_VERB\", \"pray_VERB\", \"pray_VERB\", \"prayer_NOUN\", \"president_NOUN\", \"president_NOUN trump_NOUN\", \"president_NOUN trump_VERB\", \"problem_NOUN\", \"proud_ADJ\", \"prove_VERB\", \"put_VERB\", \"reason_NOUN\", \"right_ADJ\", \"sad_ADJ\", \"say_VERB\", \"scouts_ADV\", \"see_VERB\", \"see_VERB\", \"see_VERB\", \"see_VERB\", \"service_NOUN\", \"shut_VERB\", \"sick_ADJ\", \"since_ADP\", \"smart_ADJ\", \"someone_NOUN\", \"someone_NOUN\", \"something_NOUN\", \"son_NOUN\", \"sorry_ADJ\", \"stand_VERB\", \"state_NOUN\", \"stay_VERB\", \"still_ADV\", \"stupid_ADJ\", \"stupid_ADJ\", \"support_VERB\", \"take_VERB\", \"take_VERB\", \"talk_VERB\", \"tax_NOUN\", \"tell_VERB\", \"tell_VERB\", \"thank_NOUN\", \"thank_VERB\", \"thing_NOUN\", \"thing_NOUN\", \"think_VERB\", \"think_VERB\", \"time_NOUN\", \"time_NOUN\", \"traitor_NOUN\", \"true_ADJ\", \"trump_NOUN\", \"trump_NOUN\", \"trump_VERB\", \"trump_VERB\", \"trump_VERB\", \"truth_NOUN\", \"two_NUM\", \"us_PRON\", \"us_PRON\", \"us_PRON\", \"vote_VERB\", \"want_VERB\", \"want_VERB\", \"want_VERB\", \"want_VERB\", \"watch_VERB\", \"watch_VERB\", \"way_NOUN\", \"way_NOUN\", \"way_NOUN\", \"white_ADJ\", \"woman_NOUN\", \"woman_NOUN\", \"woman_NOUN\", \"woman_NOUN\", \"would_VERB\", \"year_NOUN\", \"year_NOUN\", \"yes_INTJ\", \"young_ADJ\", \"young_ADJ man_NOUN\"]}, \"R\": 30, \"lambda.step\": 0.01, \"plot.opts\": {\"xlab\": \"PC1\", \"ylab\": \"PC2\"}, \"topic.order\": [4, 2, 3, 1]};\n",
       "\n",
       "function LDAvis_load_lib(url, callback){\n",
       "  var s = document.createElement('script');\n",
       "  s.src = url;\n",
       "  s.async = true;\n",
       "  s.onreadystatechange = s.onload = callback;\n",
       "  s.onerror = function(){console.warn(\"failed to load library \" + url);};\n",
       "  document.getElementsByTagName(\"head\")[0].appendChild(s);\n",
       "}\n",
       "\n",
       "if(typeof(LDAvis) !== \"undefined\"){\n",
       "   // already loaded: just create the visualization\n",
       "   !function(LDAvis){\n",
       "       new LDAvis(\"#\" + \"ldavis_el5935547471769604205715808\", ldavis_el5935547471769604205715808_data);\n",
       "   }(LDAvis);\n",
       "}else if(typeof define === \"function\" && define.amd){\n",
       "   // require.js is available: use it to load d3/LDAvis\n",
       "   require.config({paths: {d3: \"https://cdnjs.cloudflare.com/ajax/libs/d3/3.5.5/d3.min\"}});\n",
       "   require([\"d3\"], function(d3){\n",
       "      window.d3 = d3;\n",
       "      LDAvis_load_lib(\"https://cdn.rawgit.com/bmabey/pyLDAvis/files/ldavis.v1.0.0.js\", function(){\n",
       "        new LDAvis(\"#\" + \"ldavis_el5935547471769604205715808\", ldavis_el5935547471769604205715808_data);\n",
       "      });\n",
       "    });\n",
       "}else{\n",
       "    // require.js not available: dynamically load d3 & LDAvis\n",
       "    LDAvis_load_lib(\"https://cdnjs.cloudflare.com/ajax/libs/d3/3.5.5/d3.min.js\", function(){\n",
       "         LDAvis_load_lib(\"https://cdn.rawgit.com/bmabey/pyLDAvis/files/ldavis.v1.0.0.js\", function(){\n",
       "                 new LDAvis(\"#\" + \"ldavis_el5935547471769604205715808\", ldavis_el5935547471769604205715808_data);\n",
       "            })\n",
       "         });\n",
       "}\n",
       "</script>"
      ],
      "text/plain": [
       "PreparedData(topic_coordinates=            Freq  cluster  topics         x         y\n",
       "topic                                                \n",
       "3      34.740107        1       1  0.065025 -0.052615\n",
       "1      25.598907        1       2 -0.161301 -0.263287\n",
       "2      21.779895        1       3  0.299262  0.049928\n",
       "0      17.881091        1       4 -0.202985  0.265974, topic_info=     Category         Freq            Term        Total  loglift  logprob\n",
       "term                                                                     \n",
       "1230  Default  1083.000000        neg_NOUN  1083.000000  30.0000  30.0000\n",
       "1446  Default   877.000000  president_NOUN   877.000000  29.0000  29.0000\n",
       "1287  Default  1066.000000     number_NOUN  1066.000000  28.0000  28.0000\n",
       "757   Default   932.000000        good_ADJ   932.000000  27.0000  27.0000\n",
       "1106  Default   589.000000        man_NOUN   589.000000  26.0000  26.0000\n",
       "2030  Default   675.000000      would_VERB   675.000000  25.0000  25.0000\n",
       "1600  Default   661.000000        say_VERB   661.000000  24.0000  24.0000\n",
       "705   Default  1166.000000        get_VERB  1166.000000  23.0000  23.0000\n",
       "1830  Default   479.000000      thank_VERB   479.000000  22.0000  22.0000\n",
       "751   Default   434.000000        god_NOUN   434.000000  21.0000  21.0000\n",
       "1897  Default   647.000000      trump_NOUN   647.000000  20.0000  20.0000\n",
       "1863  Default   585.000000       time_NOUN   585.000000  19.0000  19.0000\n",
       "190   Default   397.000000      bless_VERB   397.000000  18.0000  18.0000\n",
       "503   Default   354.000000   dont_neg_VERB   354.000000  17.0000  17.0000\n",
       "1303  Default   309.000000      obama_NOUN   309.000000  16.0000  16.0000\n",
       "2052  Default   284.000000        yes_INTJ   284.000000  15.0000  15.0000\n",
       "777   Default   470.000000       great_ADJ   470.000000  14.0000  14.0000\n",
       "995   Default   268.000000        law_NOUN   268.000000  13.0000  13.0000\n",
       "749   Default   297.000000        god_INTJ   297.000000  12.0000  12.0000\n",
       "954   Default   296.000000       keep_VERB   296.000000  11.0000  11.0000\n",
       "736   Default  1048.000000         go_VERB  1048.000000  10.0000  10.0000\n",
       "2048  Default   374.000000       year_NOUN   374.000000   9.0000   9.0000\n",
       "1077  Default   275.000000       love_VERB   275.000000   8.0000   8.0000\n",
       "1845  Default   530.000000      think_VERB   530.000000   7.0000   7.0000\n",
       "340   Default   345.000000       come_VERB   345.000000   6.0000   6.0000\n",
       "1246  Default   232.000000       news_NOUN   232.000000   5.0000   5.0000\n",
       "211   Default   204.000000        boy_NOUN   204.000000   4.0000   4.0000\n",
       "1092  Default   604.000000       make_VERB   604.000000   3.0000   3.0000\n",
       "1753  Default   227.000000       still_ADV   227.000000   2.0000   2.0000\n",
       "60    Default   251.000000    american_ADJ   251.000000   1.0000   1.0000\n",
       "...       ...          ...             ...          ...      ...      ...\n",
       "982    Topic4   122.676623       lady_NOUN   123.440477   1.7152  -4.9639\n",
       "928    Topic4   119.000400       jail_NOUN   119.764019   1.7150  -4.9943\n",
       "867    Topic4   106.855845      house_NOUN   107.624908   1.7143  -5.1020\n",
       "308    Topic4   102.748958    citizen_NOUN   103.507169   1.7141  -5.1412\n",
       "820    Topic4    95.617145       head_NOUN    96.390843   1.7134  -5.2131\n",
       "1609   Topic4    83.631142      scouts_ADV    84.367282   1.7127  -5.3470\n",
       "6      Topic4    85.204339  absolutely_ADV    85.959689   1.7126  -5.3284\n",
       "1441   Topic4    85.444174     prayer_NOUN    86.202667   1.7126  -5.3256\n",
       "640    Topic4    82.318578     finally_ADV    83.092131   1.7121  -5.3629\n",
       "860    Topic4    81.838557       hope_NOUN    82.607773   1.7121  -5.3687\n",
       "310    Topic4    78.250606       city_NOUN    79.010013   1.7118  -5.4135\n",
       "1005   Topic4    78.402225      learn_VERB    79.168170   1.7117  -5.4116\n",
       "224    Topic4    74.260981      break_VERB    75.015239   1.7113  -5.4659\n",
       "284    Topic4    76.617647     change_NOUN    77.396062   1.7113  -5.4346\n",
       "1249   Topic4    75.592472        next_ADJ    76.369889   1.7112  -5.4481\n",
       "617    Topic4    74.219761     father_NOUN    74.985431   1.7112  -5.4664\n",
       "1212   Topic4    72.859324    national_ADJ    73.618437   1.7111  -5.4849\n",
       "147    Topic4    82.449445     become_VERB    85.985110   1.6794  -5.3613\n",
       "757    Topic4   534.105441        good_ADJ   932.941095   1.1637  -3.4929\n",
       "1767   Topic4   158.785923      stupid_ADJ   256.986405   1.2400  -4.7059\n",
       "129    Topic4   149.111158         bad_ADJ   241.859859   1.2378  -4.7688\n",
       "736    Topic4   254.775609         go_VERB  1048.523144   0.3067  -4.2331\n",
       "626    Topic4    90.394413       feel_VERB   126.086713   1.3886  -5.2693\n",
       "1374   Topic4   148.307187     people_NOUN  1005.051113  -0.1921  -4.7742\n",
       "1275   Topic4   106.900757         not_ADV   280.467784   0.7569  -5.1015\n",
       "1123   Topic4    96.471137        may_VERB   182.077749   1.0862  -5.2042\n",
       "1039   Topic4   121.866517        like_ADP   633.992172   0.0723  -4.9705\n",
       "1799   Topic4   106.836444       take_VERB   448.324633   0.2872  -5.1021\n",
       "827    Topic4    89.209248       hell_NOUN   180.674885   1.0157  -5.2825\n",
       "1964   Topic4    88.464376       want_VERB   416.941781   0.1711  -5.2908\n",
       "\n",
       "[216 rows x 6 columns], token_table=      Topic      Freq                Term\n",
       "term                                     \n",
       "6         4  0.988836      absolutely_ADV\n",
       "49        1  0.993125            also_ADV\n",
       "56        1  0.181399        america_NOUN\n",
       "56        2  0.735673        america_NOUN\n",
       "56        3  0.083141        america_NOUN\n",
       "60        2  0.998674        american_ADJ\n",
       "71        2  0.208416         another_DET\n",
       "71        3  0.789575         another_DET\n",
       "106       1  0.996193            ass_NOUN\n",
       "119       1  0.991454            away_ADV\n",
       "121       2  0.989238         awesome_ADJ\n",
       "129       2  0.380386             bad_ADJ\n",
       "129       4  0.616059             bad_ADJ\n",
       "143       3  0.989470       beautiful_ADJ\n",
       "147       1  0.034890         become_VERB\n",
       "147       4  0.953653         become_VERB\n",
       "171       1  0.997005             big_ADJ\n",
       "190       2  0.997105          bless_VERB\n",
       "211       4  0.998062            boy_NOUN\n",
       "224       4  0.986466          break_VERB\n",
       "258       3  0.993709       cant_neg_NOUN\n",
       "261       3  0.991961       cant_neg_VERB\n",
       "266       2  0.993246           care_VERB\n",
       "284       4  0.994883         change_NOUN\n",
       "308       4  0.995100        citizen_NOUN\n",
       "310       4  0.987217           city_NOUN\n",
       "324       1  0.029753        clinton_NOUN\n",
       "324       3  0.966983        clinton_NOUN\n",
       "340       1  0.997123           come_VERB\n",
       "373       3  0.987132         corrupt_ADJ\n",
       "...     ...       ...                 ...\n",
       "1897      3  0.171322          trump_NOUN\n",
       "1901      1  0.046333          trump_VERB\n",
       "1901      2  0.843924          trump_VERB\n",
       "1901      3  0.109214          trump_VERB\n",
       "1905      4  0.996164          truth_NOUN\n",
       "1913      1  0.990931             two_NUM\n",
       "1936      1  0.711144             us_PRON\n",
       "1936      2  0.280074             us_PRON\n",
       "1936      4  0.009742             us_PRON\n",
       "1955      3  0.994199           vote_VERB\n",
       "1964      1  0.611596           want_VERB\n",
       "1964      2  0.004797           want_VERB\n",
       "1964      3  0.170288           want_VERB\n",
       "1964      4  0.211061           want_VERB\n",
       "1974      2  0.992395          watch_VERB\n",
       "1974      3  0.005803          watch_VERB\n",
       "1978      1  0.415967            way_NOUN\n",
       "1978      2  0.580620            way_NOUN\n",
       "1978      4  0.002889            way_NOUN\n",
       "1997      4  0.994459           white_ADJ\n",
       "2015      1  0.345716          woman_NOUN\n",
       "2015      2  0.124336          woman_NOUN\n",
       "2015      3  0.415466          woman_NOUN\n",
       "2015      4  0.112206          woman_NOUN\n",
       "2030      1  0.998920          would_VERB\n",
       "2048      1  0.994468           year_NOUN\n",
       "2048      4  0.005347           year_NOUN\n",
       "2052      4  0.995957            yes_INTJ\n",
       "2058      2  0.996623           young_ADJ\n",
       "2059      2  0.993532  young_ADJ man_NOUN\n",
       "\n",
       "[255 rows x 3 columns], R=30, lambda_step=0.01, plot_opts={'xlab': 'PC1', 'ylab': 'PC2'}, topic_order=[4, 2, 3, 1])"
      ]
     },
     "execution_count": 56,
     "metadata": {},
     "output_type": "execute_result"
    }
   ],
   "source": [
    "pyLDAvis.sklearn.prepare(lda_model, dtm_count_spacy, count_vectorizer_spacy, mds='PCoA')"
   ]
  },
  {
   "cell_type": "code",
   "execution_count": 69,
   "metadata": {},
   "outputs": [
    {
     "data": {
      "image/png": "[encoded data removed]",
      "text/plain": [
       "<matplotlib.figure.Figure at 0x121e198d0>"
      ]
     },
     "metadata": {
      "image/png": {
       "height": 262,
       "width": 694
      }
     },
     "output_type": "display_data"
    }
   ],
   "source": [
    "top_10_docs=df[df.count_spacy_cluster==1][['clean_message','count_spacy_cluster_prob']].sort_values(by='count_spacy_cluster_prob',ascending=False).tail(5)\n",
    "sbs.barplot(x='count_spacy_cluster_prob', y='clean_message', data=top_10_docs);"
   ]
  },
  {
   "cell_type": "code",
   "execution_count": 193,
   "metadata": {},
   "outputs": [
    {
     "data": {
      "text/plain": [
       "'U got to be kidding   What college  s  is this    Instead of going forward in education we r going stupid'"
      ]
     },
     "execution_count": 193,
     "metadata": {},
     "output_type": "execute_result"
    }
   ],
   "source": [
    "df[df.count_spacy_cluster==3].loc[2810,'clean_message']"
   ]
  },
  {
   "cell_type": "code",
   "execution_count": 192,
   "metadata": {},
   "outputs": [
    {
     "data": {
      "text/html": [
       "<div>\n",
       "<style>\n",
       "    .dataframe thead tr:only-child th {\n",
       "        text-align: right;\n",
       "    }\n",
       "\n",
       "    .dataframe thead th {\n",
       "        text-align: left;\n",
       "    }\n",
       "\n",
       "    .dataframe tbody tr th {\n",
       "        vertical-align: top;\n",
       "    }\n",
       "</style>\n",
       "<table border=\"1\" class=\"dataframe\">\n",
       "  <thead>\n",
       "    <tr style=\"text-align: right;\">\n",
       "      <th></th>\n",
       "      <th>clean_message</th>\n",
       "      <th>count_spacy_cluster_prob</th>\n",
       "    </tr>\n",
       "  </thead>\n",
       "  <tbody>\n",
       "    <tr>\n",
       "      <th>830</th>\n",
       "      <td>and hurt the game   NUMBER  go RG</td>\n",
       "      <td>0.699992</td>\n",
       "    </tr>\n",
       "    <tr>\n",
       "      <th>302</th>\n",
       "      <td>It is the end game of all progressive liberals...</td>\n",
       "      <td>0.699987</td>\n",
       "    </tr>\n",
       "    <tr>\n",
       "      <th>11657</th>\n",
       "      <td>NUMBER  years of silence   then NUMBER  days ...</td>\n",
       "      <td>0.699621</td>\n",
       "    </tr>\n",
       "    <tr>\n",
       "      <th>1926</th>\n",
       "      <td>Yayy    Let the black players   the owners pay...</td>\n",
       "      <td>0.699303</td>\n",
       "    </tr>\n",
       "    <tr>\n",
       "      <th>242</th>\n",
       "      <td>Let s remove the garbage this pos left</td>\n",
       "      <td>0.699003</td>\n",
       "    </tr>\n",
       "    <tr>\n",
       "      <th>11222</th>\n",
       "      <td>Obama gave pallets of money to Iran  the large...</td>\n",
       "      <td>0.698536</td>\n",
       "    </tr>\n",
       "    <tr>\n",
       "      <th>2793</th>\n",
       "      <td>Let s just kick their asses take all of NUMBER...</td>\n",
       "      <td>0.698493</td>\n",
       "    </tr>\n",
       "    <tr>\n",
       "      <th>3099</th>\n",
       "      <td>Just turn off the games  College games are far...</td>\n",
       "      <td>0.698493</td>\n",
       "    </tr>\n",
       "    <tr>\n",
       "      <th>2810</th>\n",
       "      <td>U got to be kidding   What college  s  is this...</td>\n",
       "      <td>0.698338</td>\n",
       "    </tr>\n",
       "    <tr>\n",
       "      <th>5768</th>\n",
       "      <td>What    There is nothing different about knowi...</td>\n",
       "      <td>0.698097</td>\n",
       "    </tr>\n",
       "    <tr>\n",
       "      <th>4772</th>\n",
       "      <td>Welcome to Ali’s Salad Bar 🤣’re going to need ...</td>\n",
       "      <td>0.697989</td>\n",
       "    </tr>\n",
       "    <tr>\n",
       "      <th>9855</th>\n",
       "      <td>He s an idiot stop Obama terrorist  The ones t...</td>\n",
       "      <td>0.697719</td>\n",
       "    </tr>\n",
       "    <tr>\n",
       "      <th>11398</th>\n",
       "      <td>Put that in your pipe and smoke it  Be sure u ...</td>\n",
       "      <td>0.697296</td>\n",
       "    </tr>\n",
       "    <tr>\n",
       "      <th>2897</th>\n",
       "      <td>Parties I seen shadow of Adam are writing for ...</td>\n",
       "      <td>0.697157</td>\n",
       "    </tr>\n",
       "    <tr>\n",
       "      <th>2713</th>\n",
       "      <td>Thats great wish all stores would that like in...</td>\n",
       "      <td>0.696911</td>\n",
       "    </tr>\n",
       "    <tr>\n",
       "      <th>10798</th>\n",
       "      <td>They re coming because they re trying to save ...</td>\n",
       "      <td>0.696863</td>\n",
       "    </tr>\n",
       "    <tr>\n",
       "      <th>10007</th>\n",
       "      <td>Love it  Let s get started</td>\n",
       "      <td>0.696862</td>\n",
       "    </tr>\n",
       "    <tr>\n",
       "      <th>11518</th>\n",
       "      <td>Roy mores win tomorrow should show the dims th...</td>\n",
       "      <td>0.696851</td>\n",
       "    </tr>\n",
       "    <tr>\n",
       "      <th>12122</th>\n",
       "      <td>She must have forgotten what happened to the D...</td>\n",
       "      <td>0.696826</td>\n",
       "    </tr>\n",
       "    <tr>\n",
       "      <th>12387</th>\n",
       "      <td>Lisa Bloom and her mother Gloria Allred  are b...</td>\n",
       "      <td>0.696751</td>\n",
       "    </tr>\n",
       "    <tr>\n",
       "      <th>2330</th>\n",
       "      <td>I wouldn t have thanked anyone  I would have l...</td>\n",
       "      <td>0.696710</td>\n",
       "    </tr>\n",
       "    <tr>\n",
       "      <th>1287</th>\n",
       "      <td>Biggest rip off Republicans don t do anything ...</td>\n",
       "      <td>0.696441</td>\n",
       "    </tr>\n",
       "    <tr>\n",
       "      <th>11953</th>\n",
       "      <td>You don’t like it here then leave and take tha...</td>\n",
       "      <td>0.696439</td>\n",
       "    </tr>\n",
       "    <tr>\n",
       "      <th>10303</th>\n",
       "      <td>The on thing I can say is that since is AMERIC...</td>\n",
       "      <td>0.696416</td>\n",
       "    </tr>\n",
       "    <tr>\n",
       "      <th>1029</th>\n",
       "      <td>Guess the only thing left to comfort Dems now ...</td>\n",
       "      <td>0.696398</td>\n",
       "    </tr>\n",
       "    <tr>\n",
       "      <th>7745</th>\n",
       "      <td>I guess their standards aren t very high  My q...</td>\n",
       "      <td>0.696331</td>\n",
       "    </tr>\n",
       "    <tr>\n",
       "      <th>1803</th>\n",
       "      <td>He s in prison just left the son of a bitch di...</td>\n",
       "      <td>0.696123</td>\n",
       "    </tr>\n",
       "    <tr>\n",
       "      <th>1538</th>\n",
       "      <td>That’s because the body cams actually show ...</td>\n",
       "      <td>0.695911</td>\n",
       "    </tr>\n",
       "    <tr>\n",
       "      <th>1348</th>\n",
       "      <td>IT S CALLED RESPECT  SOMETHING LIBERALS LACK  ...</td>\n",
       "      <td>0.695370</td>\n",
       "    </tr>\n",
       "    <tr>\n",
       "      <th>1710</th>\n",
       "      <td>I believe that being in public office for a lo...</td>\n",
       "      <td>0.695189</td>\n",
       "    </tr>\n",
       "    <tr>\n",
       "      <th>...</th>\n",
       "      <td>...</td>\n",
       "      <td>...</td>\n",
       "    </tr>\n",
       "    <tr>\n",
       "      <th>10966</th>\n",
       "      <td>I think old bill was thinkin he was doin howar...</td>\n",
       "      <td>0.689562</td>\n",
       "    </tr>\n",
       "    <tr>\n",
       "      <th>7777</th>\n",
       "      <td>What a shame she has nothing better to do with...</td>\n",
       "      <td>0.689546</td>\n",
       "    </tr>\n",
       "    <tr>\n",
       "      <th>1611</th>\n",
       "      <td>So glad he is on the mend   Will look forward ...</td>\n",
       "      <td>0.689461</td>\n",
       "    </tr>\n",
       "    <tr>\n",
       "      <th>9765</th>\n",
       "      <td>Now give the Military enlisted an long overdue...</td>\n",
       "      <td>0.689018</td>\n",
       "    </tr>\n",
       "    <tr>\n",
       "      <th>4173</th>\n",
       "      <td>I don t agree with the NCAA  but I knew they w...</td>\n",
       "      <td>0.688879</td>\n",
       "    </tr>\n",
       "    <tr>\n",
       "      <th>8736</th>\n",
       "      <td>It s about time of people wake up you can t be...</td>\n",
       "      <td>0.688774</td>\n",
       "    </tr>\n",
       "    <tr>\n",
       "      <th>2890</th>\n",
       "      <td>Thank you trooper and also the people who stop...</td>\n",
       "      <td>0.688458</td>\n",
       "    </tr>\n",
       "    <tr>\n",
       "      <th>956</th>\n",
       "      <td>I like how the person that wrote the article  ...</td>\n",
       "      <td>0.688291</td>\n",
       "    </tr>\n",
       "    <tr>\n",
       "      <th>4594</th>\n",
       "      <td>Need to speed up  have NUMBER  hour committees...</td>\n",
       "      <td>0.688261</td>\n",
       "    </tr>\n",
       "    <tr>\n",
       "      <th>763</th>\n",
       "      <td>I always said Seahawks were a bunch a babies  ...</td>\n",
       "      <td>0.688230</td>\n",
       "    </tr>\n",
       "    <tr>\n",
       "      <th>5611</th>\n",
       "      <td>Yes they should lose their benefits and those ...</td>\n",
       "      <td>0.688218</td>\n",
       "    </tr>\n",
       "    <tr>\n",
       "      <th>11432</th>\n",
       "      <td>But the men that play sports get paid more mon...</td>\n",
       "      <td>0.687980</td>\n",
       "    </tr>\n",
       "    <tr>\n",
       "      <th>6494</th>\n",
       "      <td>who cares what u think asshole traitor to your...</td>\n",
       "      <td>0.687900</td>\n",
       "    </tr>\n",
       "    <tr>\n",
       "      <th>7098</th>\n",
       "      <td>You should be out of office ice water in your ...</td>\n",
       "      <td>0.687674</td>\n",
       "    </tr>\n",
       "    <tr>\n",
       "      <th>7167</th>\n",
       "      <td>For NUMBER  LONG years America looked like pus...</td>\n",
       "      <td>0.687571</td>\n",
       "    </tr>\n",
       "    <tr>\n",
       "      <th>5808</th>\n",
       "      <td>maybe they should give brown and weiner some o...</td>\n",
       "      <td>0.687511</td>\n",
       "    </tr>\n",
       "    <tr>\n",
       "      <th>1761</th>\n",
       "      <td>Now let s see if we have this straight   gropi...</td>\n",
       "      <td>0.687375</td>\n",
       "    </tr>\n",
       "    <tr>\n",
       "      <th>5988</th>\n",
       "      <td>Now you think the bush guys are nothing becaus...</td>\n",
       "      <td>0.687353</td>\n",
       "    </tr>\n",
       "    <tr>\n",
       "      <th>11317</th>\n",
       "      <td>Is R NUMBER  coming back   hope</td>\n",
       "      <td>0.687271</td>\n",
       "    </tr>\n",
       "    <tr>\n",
       "      <th>8456</th>\n",
       "      <td>Obamas is really playing dumb and he knows wha...</td>\n",
       "      <td>0.686983</td>\n",
       "    </tr>\n",
       "    <tr>\n",
       "      <th>9438</th>\n",
       "      <td>NO  She was making a statement    body shaming...</td>\n",
       "      <td>0.686314</td>\n",
       "    </tr>\n",
       "    <tr>\n",
       "      <th>2144</th>\n",
       "      <td>Nice   hope she gets everything she has coming</td>\n",
       "      <td>0.686220</td>\n",
       "    </tr>\n",
       "    <tr>\n",
       "      <th>5577</th>\n",
       "      <td>They should definitely lose there benefits  If...</td>\n",
       "      <td>0.686182</td>\n",
       "    </tr>\n",
       "    <tr>\n",
       "      <th>6235</th>\n",
       "      <td>You gave us to the enemies   You gave our coun...</td>\n",
       "      <td>0.686073</td>\n",
       "    </tr>\n",
       "    <tr>\n",
       "      <th>12299</th>\n",
       "      <td>Just take your children out of those damn dumb...</td>\n",
       "      <td>0.686036</td>\n",
       "    </tr>\n",
       "    <tr>\n",
       "      <th>1330</th>\n",
       "      <td>You won t see the Fake media or the swamp dwel...</td>\n",
       "      <td>0.685876</td>\n",
       "    </tr>\n",
       "    <tr>\n",
       "      <th>8688</th>\n",
       "      <td>there is no justice left in this nation  but t...</td>\n",
       "      <td>0.685675</td>\n",
       "    </tr>\n",
       "    <tr>\n",
       "      <th>1699</th>\n",
       "      <td>Hope they took there time getting there</td>\n",
       "      <td>0.685594</td>\n",
       "    </tr>\n",
       "    <tr>\n",
       "      <th>821</th>\n",
       "      <td>This pissing contest is only hurting our natio...</td>\n",
       "      <td>0.685586</td>\n",
       "    </tr>\n",
       "    <tr>\n",
       "      <th>11694</th>\n",
       "      <td>THE POPE IS SATAN S ADVOCATE   NUMBER   NUMBER...</td>\n",
       "      <td>0.685472</td>\n",
       "    </tr>\n",
       "  </tbody>\n",
       "</table>\n",
       "<p>100 rows × 2 columns</p>\n",
       "</div>"
      ],
      "text/plain": [
       "                                           clean_message  \\\n",
       "830                 and hurt the game   NUMBER  go RG      \n",
       "302    It is the end game of all progressive liberals...   \n",
       "11657   NUMBER  years of silence   then NUMBER  days ...   \n",
       "1926   Yayy    Let the black players   the owners pay...   \n",
       "242              Let s remove the garbage this pos left    \n",
       "11222  Obama gave pallets of money to Iran  the large...   \n",
       "2793   Let s just kick their asses take all of NUMBER...   \n",
       "3099   Just turn off the games  College games are far...   \n",
       "2810   U got to be kidding   What college  s  is this...   \n",
       "5768   What    There is nothing different about knowi...   \n",
       "4772   Welcome to Ali’s Salad Bar 🤣’re going to need ...   \n",
       "9855   He s an idiot stop Obama terrorist  The ones t...   \n",
       "11398  Put that in your pipe and smoke it  Be sure u ...   \n",
       "2897   Parties I seen shadow of Adam are writing for ...   \n",
       "2713   Thats great wish all stores would that like in...   \n",
       "10798  They re coming because they re trying to save ...   \n",
       "10007                        Love it  Let s get started    \n",
       "11518  Roy mores win tomorrow should show the dims th...   \n",
       "12122  She must have forgotten what happened to the D...   \n",
       "12387  Lisa Bloom and her mother Gloria Allred  are b...   \n",
       "2330   I wouldn t have thanked anyone  I would have l...   \n",
       "1287   Biggest rip off Republicans don t do anything ...   \n",
       "11953  You don’t like it here then leave and take tha...   \n",
       "10303  The on thing I can say is that since is AMERIC...   \n",
       "1029   Guess the only thing left to comfort Dems now ...   \n",
       "7745   I guess their standards aren t very high  My q...   \n",
       "1803   He s in prison just left the son of a bitch di...   \n",
       "1538      That’s because the body cams actually show ...   \n",
       "1348   IT S CALLED RESPECT  SOMETHING LIBERALS LACK  ...   \n",
       "1710   I believe that being in public office for a lo...   \n",
       "...                                                  ...   \n",
       "10966  I think old bill was thinkin he was doin howar...   \n",
       "7777   What a shame she has nothing better to do with...   \n",
       "1611   So glad he is on the mend   Will look forward ...   \n",
       "9765   Now give the Military enlisted an long overdue...   \n",
       "4173   I don t agree with the NCAA  but I knew they w...   \n",
       "8736   It s about time of people wake up you can t be...   \n",
       "2890   Thank you trooper and also the people who stop...   \n",
       "956    I like how the person that wrote the article  ...   \n",
       "4594   Need to speed up  have NUMBER  hour committees...   \n",
       "763    I always said Seahawks were a bunch a babies  ...   \n",
       "5611   Yes they should lose their benefits and those ...   \n",
       "11432  But the men that play sports get paid more mon...   \n",
       "6494   who cares what u think asshole traitor to your...   \n",
       "7098   You should be out of office ice water in your ...   \n",
       "7167   For NUMBER  LONG years America looked like pus...   \n",
       "5808   maybe they should give brown and weiner some o...   \n",
       "1761   Now let s see if we have this straight   gropi...   \n",
       "5988   Now you think the bush guys are nothing becaus...   \n",
       "11317                   Is R NUMBER  coming back   hope    \n",
       "8456   Obamas is really playing dumb and he knows wha...   \n",
       "9438   NO  She was making a statement    body shaming...   \n",
       "2144      Nice   hope she gets everything she has coming   \n",
       "5577   They should definitely lose there benefits  If...   \n",
       "6235   You gave us to the enemies   You gave our coun...   \n",
       "12299  Just take your children out of those damn dumb...   \n",
       "1330   You won t see the Fake media or the swamp dwel...   \n",
       "8688   there is no justice left in this nation  but t...   \n",
       "1699            Hope they took there time getting there    \n",
       "821    This pissing contest is only hurting our natio...   \n",
       "11694  THE POPE IS SATAN S ADVOCATE   NUMBER   NUMBER...   \n",
       "\n",
       "       count_spacy_cluster_prob  \n",
       "830                    0.699992  \n",
       "302                    0.699987  \n",
       "11657                  0.699621  \n",
       "1926                   0.699303  \n",
       "242                    0.699003  \n",
       "11222                  0.698536  \n",
       "2793                   0.698493  \n",
       "3099                   0.698493  \n",
       "2810                   0.698338  \n",
       "5768                   0.698097  \n",
       "4772                   0.697989  \n",
       "9855                   0.697719  \n",
       "11398                  0.697296  \n",
       "2897                   0.697157  \n",
       "2713                   0.696911  \n",
       "10798                  0.696863  \n",
       "10007                  0.696862  \n",
       "11518                  0.696851  \n",
       "12122                  0.696826  \n",
       "12387                  0.696751  \n",
       "2330                   0.696710  \n",
       "1287                   0.696441  \n",
       "11953                  0.696439  \n",
       "10303                  0.696416  \n",
       "1029                   0.696398  \n",
       "7745                   0.696331  \n",
       "1803                   0.696123  \n",
       "1538                   0.695911  \n",
       "1348                   0.695370  \n",
       "1710                   0.695189  \n",
       "...                         ...  \n",
       "10966                  0.689562  \n",
       "7777                   0.689546  \n",
       "1611                   0.689461  \n",
       "9765                   0.689018  \n",
       "4173                   0.688879  \n",
       "8736                   0.688774  \n",
       "2890                   0.688458  \n",
       "956                    0.688291  \n",
       "4594                   0.688261  \n",
       "763                    0.688230  \n",
       "5611                   0.688218  \n",
       "11432                  0.687980  \n",
       "6494                   0.687900  \n",
       "7098                   0.687674  \n",
       "7167                   0.687571  \n",
       "5808                   0.687511  \n",
       "1761                   0.687375  \n",
       "5988                   0.687353  \n",
       "11317                  0.687271  \n",
       "8456                   0.686983  \n",
       "9438                   0.686314  \n",
       "2144                   0.686220  \n",
       "5577                   0.686182  \n",
       "6235                   0.686073  \n",
       "12299                  0.686036  \n",
       "1330                   0.685876  \n",
       "8688                   0.685675  \n",
       "1699                   0.685594  \n",
       "821                    0.685586  \n",
       "11694                  0.685472  \n",
       "\n",
       "[100 rows x 2 columns]"
      ]
     },
     "execution_count": 192,
     "metadata": {},
     "output_type": "execute_result"
    }
   ],
   "source": [
    "df[(df.count_spacy_cluster==3) & (df.count_spacy_cluster_prob<0.7)][['clean_message','count_spacy_cluster_prob']].sort_values(by='count_spacy_cluster_prob',ascending=False).head(100)"
   ]
  },
  {
   "cell_type": "code",
   "execution_count": 78,
   "metadata": {
    "collapsed": true
   },
   "outputs": [],
   "source": [
    "df[['clean_message','count_spacy_cluster_prob']].to_csv('df_clusters.csv',sep=\";\",index=False)"
   ]
  },
  {
   "cell_type": "markdown",
   "metadata": {},
   "source": [
    "### Using NMF\n",
    "\n",
    "\n",
    "* This is just to show that we try the NMF approuch but we decide to go for LDA for delivery instead"
   ]
  },
  {
   "cell_type": "code",
   "execution_count": 79,
   "metadata": {
    "collapsed": true
   },
   "outputs": [],
   "source": [
    "# Run NMF\n",
    "nmf_model = NMF(n_components=no_topics, random_state=1, alpha=.1, l1_ratio=.5, init='nndsvd').fit(dtm_tfidf)\n",
    "nmf   = nmf_model.fit(dtm_tfidf)\n",
    "nmf_W = nmf_model.transform(dtm_tfidf)\n",
    "nmf_H = nmf_model.components_"
   ]
  },
  {
   "cell_type": "code",
   "execution_count": 80,
   "metadata": {},
   "outputs": [
    {
     "name": "stdout",
     "output_type": "stream",
     "text": [
      "Need more parents like this mom👍\n",
      "She needs to be ticked just like everyone else\n",
      "Good  we need to know what they have found \n",
      "Doesn’t seem like NUMBER  years  So sickening  🌹\n",
      "They should go back   rebuild Haiti  It s been NUMBER  years   the Haitian economy needs more than tourism to rebuild  it s needs their people back \n"
     ]
    }
   ],
   "source": [
    "text=df.clean_message[20]\n",
    "print(text)\n",
    "get_similars(X=X['clean_message'],text=text,model=nmf_W,vectorizer=count_vectorizer)"
   ]
  },
  {
   "cell_type": "code",
   "execution_count": 81,
   "metadata": {},
   "outputs": [
    {
     "name": "stdout",
     "output_type": "stream",
     "text": [
      "They love him  the art of the deal  is in his element  Bravo  Mr  PRESIDENT \n",
      "My president from Louisiana  Go TRUMP \n",
      "Good for you President Trump \n",
      "Way to go President Trump  \n",
      "Way to go President Trump  \n"
     ]
    }
   ],
   "source": [
    "text=df.clean_message[1010]\n",
    "print(text)\n",
    "get_similars(X=X['clean_message'],text=text,model=nmf_W,vectorizer=count_vectorizer)"
   ]
  },
  {
   "cell_type": "code",
   "execution_count": 82,
   "metadata": {},
   "outputs": [
    {
     "name": "stdout",
     "output_type": "stream",
     "text": [
      "If true good I m glad        just hope he was tortured   suffered great pain\n",
      "She needs to be ticked just like everyone else\n",
      "Good  we need to know what they have found \n",
      "Doesn’t seem like NUMBER  years  So sickening  🌹\n",
      "They should go back   rebuild Haiti  It s been NUMBER  years   the Haitian economy needs more than tourism to rebuild  it s needs their people back \n"
     ]
    }
   ],
   "source": [
    "text=df.clean_message[2020]\n",
    "print(text)\n",
    "get_similars(X=X['clean_message'],text=text,model=nmf_W,vectorizer=count_vectorizer)"
   ]
  },
  {
   "cell_type": "code",
   "execution_count": 83,
   "metadata": {},
   "outputs": [
    {
     "name": "stdout",
     "output_type": "stream",
     "text": [
      "When is it going to end ssap I hope before he destroys what s left of america\n",
      "Good fox does not need you\n",
      "Good Lord  she needs a psych eval     \n",
      "Rep  Gaetz sent a letter to FBI director NUMBER  NUMBER   NUMBER  months ago   where is the response    this NUMBER   NUMBER   NUMBER   \n",
      "Hindsight is always NUMBER   NUMBER  as one of my good friends says  \n",
      "    Dad used to say   He should have thought of that      Ayup \n"
     ]
    }
   ],
   "source": [
    "text=df.clean_message[12050]\n",
    "print(text)\n",
    "get_similars(X=X['clean_message'],text=text,model=nmf_W,vectorizer=count_vectorizer)"
   ]
  },
  {
   "cell_type": "code",
   "execution_count": 172,
   "metadata": {
    "scrolled": false
   },
   "outputs": [
    {
     "name": "stdout",
     "output_type": "stream",
     "text": [
      "Topic 0:\n",
      "god bless god bless thank family thank god bless president bless america america bless family\n",
      "Pagpalain ni Bathala  God Bless\n",
      "Wisconsin here   God Bless \n",
      "God Bless you angel😇🎄🎁🎅\n",
      "God bless her and them\n",
      "Ina Stevens Tennessee God bless\n",
      "This is heroism God bless you\n",
      "ALWAYSCLOVED THE COWBOYS  GOD BLESS YOU THANK YOU \n",
      "GOD BLESS the annonamous Dononer  Thank YOU  \n",
      "Thank you sir May God bless you \n",
      "God bless you ad THANK YOU\n",
      "Topic 1:\n",
      "number need people good like time great man country year\n",
      "If you guys think it was a good accord then you can give the UN  NUMBER  billion dollars of your money  America was the only country that had to reduce their carbon footprint   Europe   China and India had NUMBER  years before they had to   Are you people just stupid   or what \n",
      "She needs to be ticked just like everyone else\n",
      "Good  we need to know what they have found \n",
      "Doesn’t seem like NUMBER  years  So sickening  🌹\n",
      " NUMBER   NUMBER  people   and only NUMBER  RESTROOMS   Not believing \n",
      "They should go back   rebuild Haiti  It s been NUMBER  years   the Haitian economy needs more than tourism to rebuild  it s needs their people back \n",
      "BoycottNFL NUMBER VeteransDay\n",
      "BoycottNFLSponsors\n",
      " NUMBER   supportive      \n",
      "No I will keep my beretta NUMBER a\n",
      "Lockport NY  peak is at NUMBER \n",
      "Topic 2:\n",
      "_neg dont_neg no_neg never_neg not_neg _neg _neg nothing_neg cant_neg doesnt_neg no_neg _neg\n",
      "And what would have been the outcome if he hadn t had the gun \n",
      "Snowbound Dixie Chick   I don t buy her apology \n",
      "This is why you don t hire out of the ghetto \n",
      "If you don t have the evidence  shut it down \n",
      "Well  don t be an asshole then \n",
      "Japan DON T  have a MUSLIM problem \n",
      "DO IT   Remove his ass    should of never been there to begin with    \n",
      "NO MORE IMMIGRANTS            \n",
      "No judge  you are unconstitutional \n",
      "No facts just accusations      \n",
      "Topic 3:\n",
      "president trump president trump mr thank mr president love thank president thank mr best\n",
      "He is my president ☺Trump 💝\n",
      "My president from Louisiana  Go TRUMP \n",
      "Good for you President Trump \n",
      "Way to go President Trump  \n",
      "Way to go President Trump  \n",
      "Keep it going President Trump \n",
      "President Trump has been a awesome PRESIDENT from day one \n",
      "Thank u President Trump\n",
      "NM stands with you President Trump   🇺🇸\n",
      "I Stand With President Trump \n"
     ]
    }
   ],
   "source": [
    "display_topics(nmf_H, nmf_W, count_vectorizer.get_feature_names(),X['clean_message'],10, 10)"
   ]
  }
 ],
 "metadata": {
  "kernelspec": {
   "display_name": "Python 3",
   "language": "python",
   "name": "python3"
  },
  "language_info": {
   "codemirror_mode": {
    "name": "ipython",
    "version": 3
   },
   "file_extension": ".py",
   "mimetype": "text/x-python",
   "name": "python",
   "nbconvert_exporter": "python",
   "pygments_lexer": "ipython3",
   "version": "3.6.1"
  }
 },
 "nbformat": 4,
 "nbformat_minor": 2
}
